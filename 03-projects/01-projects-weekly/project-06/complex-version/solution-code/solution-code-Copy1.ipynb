{
 "cells": [
  {
   "cell_type": "markdown",
   "metadata": {},
   "source": [
    "## Project 6"
   ]
  },
  {
   "cell_type": "code",
   "execution_count": 1,
   "metadata": {
    "collapsed": false
   },
   "outputs": [],
   "source": [
    "import os\n",
    "import subprocess\n",
    "import pandas as pd\n",
    "import numpy as np\n",
    "from sklearn.ensemble import RandomForestClassifier\n",
    "from sklearn.ensemble import RandomForestRegressor\n",
    "import scipy\n",
    "import requests\n",
    "from imdbpie import Imdb\n",
    "import nltk\n",
    "import matplotlib.pyplot as plt\n",
    "import urllib\n",
    "from bs4 import BeautifulSoup\n",
    "import nltk\n",
    "import collections\n",
    "import re\n",
    "import csv\n",
    "import psycopg2\n",
    "\n",
    "%matplotlib inline"
   ]
  },
  {
   "cell_type": "code",
   "execution_count": null,
   "metadata": {
    "collapsed": true
   },
   "outputs": [],
   "source": []
  },
  {
   "cell_type": "markdown",
   "metadata": {},
   "source": [
    "### Pre-Work: Write a problem statement "
   ]
  },
  {
   "cell_type": "markdown",
   "metadata": {},
   "source": [
    "    "
   ]
  },
  {
   "cell_type": "markdown",
   "metadata": {},
   "source": [
    "## Part 1: Acquire the Data"
   ]
  },
  {
   "cell_type": "markdown",
   "metadata": {},
   "source": [
    "#### 1. Connect to the IMDB API"
   ]
  },
  {
   "cell_type": "code",
   "execution_count": 2,
   "metadata": {
    "collapsed": true
   },
   "outputs": [],
   "source": [
    "imdb = Imdb()\n",
    "imdb = Imdb(anonymize=True)"
   ]
  },
  {
   "cell_type": "markdown",
   "metadata": {},
   "source": [
    "#### 2. Query the top 250 rated movies in the database"
   ]
  },
  {
   "cell_type": "code",
   "execution_count": 3,
   "metadata": {
    "collapsed": false
   },
   "outputs": [],
   "source": [
    "movies = pd.DataFrame(imdb.top_250())"
   ]
  },
  {
   "cell_type": "code",
   "execution_count": 4,
   "metadata": {
    "collapsed": false
   },
   "outputs": [
    {
     "data": {
      "text/html": [
       "<div>\n",
       "<table border=\"1\" class=\"dataframe\">\n",
       "  <thead>\n",
       "    <tr style=\"text-align: right;\">\n",
       "      <th></th>\n",
       "      <th>can_rate</th>\n",
       "      <th>image</th>\n",
       "      <th>num_votes</th>\n",
       "      <th>rating</th>\n",
       "      <th>tconst</th>\n",
       "      <th>title</th>\n",
       "      <th>type</th>\n",
       "      <th>year</th>\n",
       "    </tr>\n",
       "  </thead>\n",
       "  <tbody>\n",
       "    <tr>\n",
       "      <th>0</th>\n",
       "      <td>True</td>\n",
       "      <td>{u'url': u'https://images-na.ssl-images-amazon...</td>\n",
       "      <td>1730915</td>\n",
       "      <td>9.3</td>\n",
       "      <td>tt0111161</td>\n",
       "      <td>The Shawshank Redemption</td>\n",
       "      <td>feature</td>\n",
       "      <td>1994</td>\n",
       "    </tr>\n",
       "    <tr>\n",
       "      <th>1</th>\n",
       "      <td>True</td>\n",
       "      <td>{u'url': u'https://images-na.ssl-images-amazon...</td>\n",
       "      <td>1182761</td>\n",
       "      <td>9.2</td>\n",
       "      <td>tt0068646</td>\n",
       "      <td>The Godfather</td>\n",
       "      <td>feature</td>\n",
       "      <td>1972</td>\n",
       "    </tr>\n",
       "    <tr>\n",
       "      <th>2</th>\n",
       "      <td>True</td>\n",
       "      <td>{u'url': u'https://images-na.ssl-images-amazon...</td>\n",
       "      <td>811039</td>\n",
       "      <td>9.0</td>\n",
       "      <td>tt0071562</td>\n",
       "      <td>The Godfather: Part II</td>\n",
       "      <td>feature</td>\n",
       "      <td>1974</td>\n",
       "    </tr>\n",
       "    <tr>\n",
       "      <th>3</th>\n",
       "      <td>True</td>\n",
       "      <td>{u'url': u'https://images-na.ssl-images-amazon...</td>\n",
       "      <td>1715862</td>\n",
       "      <td>9.0</td>\n",
       "      <td>tt0468569</td>\n",
       "      <td>The Dark Knight</td>\n",
       "      <td>feature</td>\n",
       "      <td>2008</td>\n",
       "    </tr>\n",
       "    <tr>\n",
       "      <th>4</th>\n",
       "      <td>True</td>\n",
       "      <td>{u'url': u'https://images-na.ssl-images-amazon...</td>\n",
       "      <td>462049</td>\n",
       "      <td>8.9</td>\n",
       "      <td>tt0050083</td>\n",
       "      <td>12 Angry Men</td>\n",
       "      <td>feature</td>\n",
       "      <td>1957</td>\n",
       "    </tr>\n",
       "  </tbody>\n",
       "</table>\n",
       "</div>"
      ],
      "text/plain": [
       "  can_rate                                              image  num_votes  \\\n",
       "0     True  {u'url': u'https://images-na.ssl-images-amazon...    1730915   \n",
       "1     True  {u'url': u'https://images-na.ssl-images-amazon...    1182761   \n",
       "2     True  {u'url': u'https://images-na.ssl-images-amazon...     811039   \n",
       "3     True  {u'url': u'https://images-na.ssl-images-amazon...    1715862   \n",
       "4     True  {u'url': u'https://images-na.ssl-images-amazon...     462049   \n",
       "\n",
       "   rating     tconst                     title     type  year  \n",
       "0     9.3  tt0111161  The Shawshank Redemption  feature  1994  \n",
       "1     9.2  tt0068646             The Godfather  feature  1972  \n",
       "2     9.0  tt0071562    The Godfather: Part II  feature  1974  \n",
       "3     9.0  tt0468569           The Dark Knight  feature  2008  \n",
       "4     8.9  tt0050083              12 Angry Men  feature  1957  "
      ]
     },
     "execution_count": 4,
     "metadata": {},
     "output_type": "execute_result"
    }
   ],
   "source": [
    "movies.head()"
   ]
  },
  {
   "cell_type": "markdown",
   "metadata": {},
   "source": [
    "#### 3. Only select the top 25 movies and delete the uncessary rows"
   ]
  },
  {
   "cell_type": "code",
   "execution_count": 7,
   "metadata": {
    "collapsed": false
   },
   "outputs": [],
   "source": [
    "df = movies[0:26]"
   ]
  },
  {
   "cell_type": "code",
   "execution_count": 8,
   "metadata": {
    "collapsed": false
   },
   "outputs": [],
   "source": [
    "del df['can_rate']\n",
    "del df['image']\n",
    "del df['type']"
   ]
  },
  {
   "cell_type": "code",
   "execution_count": 8,
   "metadata": {
    "collapsed": false
   },
   "outputs": [
    {
     "data": {
      "text/html": [
       "<div>\n",
       "<table border=\"1\" class=\"dataframe\">\n",
       "  <thead>\n",
       "    <tr style=\"text-align: right;\">\n",
       "      <th></th>\n",
       "      <th>num_votes</th>\n",
       "      <th>rating</th>\n",
       "      <th>tconst</th>\n",
       "      <th>title</th>\n",
       "      <th>year</th>\n",
       "    </tr>\n",
       "  </thead>\n",
       "  <tbody>\n",
       "    <tr>\n",
       "      <th>0</th>\n",
       "      <td>1633889</td>\n",
       "      <td>9.3</td>\n",
       "      <td>tt0111161</td>\n",
       "      <td>The Shawshank Redemption</td>\n",
       "      <td>1994</td>\n",
       "    </tr>\n",
       "    <tr>\n",
       "      <th>1</th>\n",
       "      <td>1118799</td>\n",
       "      <td>9.2</td>\n",
       "      <td>tt0068646</td>\n",
       "      <td>The Godfather</td>\n",
       "      <td>1972</td>\n",
       "    </tr>\n",
       "    <tr>\n",
       "      <th>2</th>\n",
       "      <td>762879</td>\n",
       "      <td>9.0</td>\n",
       "      <td>tt0071562</td>\n",
       "      <td>The Godfather: Part II</td>\n",
       "      <td>1974</td>\n",
       "    </tr>\n",
       "    <tr>\n",
       "      <th>3</th>\n",
       "      <td>1616346</td>\n",
       "      <td>9.0</td>\n",
       "      <td>tt0468569</td>\n",
       "      <td>The Dark Knight</td>\n",
       "      <td>2008</td>\n",
       "    </tr>\n",
       "    <tr>\n",
       "      <th>4</th>\n",
       "      <td>835155</td>\n",
       "      <td>8.9</td>\n",
       "      <td>tt0108052</td>\n",
       "      <td>Schindler's List</td>\n",
       "      <td>1993</td>\n",
       "    </tr>\n",
       "  </tbody>\n",
       "</table>\n",
       "</div>"
      ],
      "text/plain": [
       "   num_votes  rating     tconst                     title  year\n",
       "0    1633889     9.3  tt0111161  The Shawshank Redemption  1994\n",
       "1    1118799     9.2  tt0068646             The Godfather  1972\n",
       "2     762879     9.0  tt0071562    The Godfather: Part II  1974\n",
       "3    1616346     9.0  tt0468569           The Dark Knight  2008\n",
       "4     835155     8.9  tt0108052          Schindler's List  1993"
      ]
     },
     "execution_count": 8,
     "metadata": {},
     "output_type": "execute_result"
    }
   ],
   "source": [
    "df.head()"
   ]
  },
  {
   "cell_type": "markdown",
   "metadata": {},
   "source": [
    "#### 4. Write the Results to a csv"
   ]
  },
  {
   "cell_type": "code",
   "execution_count": 47,
   "metadata": {
    "collapsed": false
   },
   "outputs": [],
   "source": [
    "df.to_csv('movies.csv')"
   ]
  },
  {
   "cell_type": "markdown",
   "metadata": {},
   "source": [
    "## Part 2: Wrangle the text data"
   ]
  },
  {
   "cell_type": "markdown",
   "metadata": {},
   "source": [
    "#### 1. Convert the listing identification numbers (tconst) from the first dataframe to a list"
   ]
  },
  {
   "cell_type": "code",
   "execution_count": 12,
   "metadata": {
    "collapsed": false
   },
   "outputs": [],
   "source": [
    "numid = df['tconst'].tolist()"
   ]
  },
  {
   "cell_type": "code",
   "execution_count": 13,
   "metadata": {
    "collapsed": false
   },
   "outputs": [
    {
     "name": "stdout",
     "output_type": "stream",
     "text": [
      "['tt0111161', 'tt0068646', 'tt0071562', 'tt0468569', 'tt0108052', 'tt0050083', 'tt0110912', 'tt0167260', 'tt0060196', 'tt0137523', 'tt0120737', 'tt0080684', 'tt0109830', 'tt1375666', 'tt0167261', 'tt0073486', 'tt0099685', 'tt0133093', 'tt0047478', 'tt0076759', 'tt0317248', 'tt0114369', 'tt0102926', 'tt0038650', 'tt0114814', 'tt0118799']\n"
     ]
    }
   ],
   "source": [
    "print(numid)"
   ]
  },
  {
   "cell_type": "markdown",
   "metadata": {},
   "source": [
    "#### 2. Scrape the reviews for the top 25 movies"
   ]
  },
  {
   "cell_type": "code",
   "execution_count": 29,
   "metadata": {
    "collapsed": false
   },
   "outputs": [],
   "source": [
    "for x in (numid):\n",
    "    address = ('http://www.imdb.com/title/' + x + '/reviews')\n",
    "    html = requests.get(address).text\n",
    " 'html.parser')"
   ]
  },
  {
   "cell_type": "markdown",
   "metadata": {},
   "source": [
    "#### 3. Work through each title and find the most common descriptors"
   ]
  },
  {
   "cell_type": "markdown",
   "metadata": {},
   "source": [
    "*Hint*: \"soup\" from BeautifulSoup is the html returned from all 25 pages. You'll need to either address each page individually or break them down by elements"
   ]
  },
  {
   "cell_type": "code",
   "execution_count": 15,
   "metadata": {
    "collapsed": false
   },
   "outputs": [],
   "source": [
    "title = soup.find(\"title\")\n",
    "page = soup.find_all('p')"
   ]
  },
  {
   "cell_type": "code",
   "execution_count": 18,
   "metadata": {
    "collapsed": false,
    "scrolled": true
   },
   "outputs": [
    {
     "name": "stdout",
     "output_type": "stream",
     "text": [
      "<title>Life Is Beautiful  Reviews &amp; Ratings - IMDb</title>\n"
     ]
    }
   ],
   "source": [
    "print(title)"
   ]
  },
  {
   "cell_type": "code",
   "execution_count": 17,
   "metadata": {
    "collapsed": false
   },
   "outputs": [
    {
     "name": "stdout",
     "output_type": "stream",
     "text": [
      "[<p class=\"navCategory\">\n",
      "<a href=\"/movies-in-theaters/?ref_=nv_tp_inth_1\">Movies</a>,\n",
      "                <a href=\"/chart/toptv/?ref_=nv_tp_tv250_2\">TV</a><br/>\n",
      "                &amp; <a href=\"/showtimes/?ref_=nv_tp_sh_3\">Showtimes</a></p>, <p class=\"navCategory\">\n",
      "<a href=\"/search/name?gender=male,female&amp;ref_=nv_tp_cel_1\">Celebs</a>,\n",
      "                <a href=\"/awards-central/?ref_=nv_tp_awrd_2\">Events</a><br/>\n",
      "                &amp; <a href=\"/gallery/rg784964352?ref_=nv_tp_ph_3\">Photos</a></p>, <p class=\"navCategory\">\n",
      "<a href=\"/news/top?ref_=nv_tp_nw_1\">News</a> &amp;<br/>\n",
      "<a href=\"/boards/?ref_=nv_tp_bd_2\">Community</a></p>, <p class=\"navCategory singleLine watchlist\"><a href=\"/list/watchlist?ref_=nv_wl_all_0\">Watchlist</a>\n",
      "</p>, <p class=\"navCategory\">\n",
      "<a href=\"http://pro.imdb.com/signup/index.html?rf=cons_nb_hm&amp;ref_=cons_nb_hm\">\n",
      "<img alt=\"IMDbPro Menu\" src=\"http://i.media-imdb.com/images/SF4a741137cf9a260e127fef64455ebfbc/navbar/imdbpro_logo_nb.png\"/>\n",
      "</a>\n",
      "</p>, <p>Industry information at your fingertips</p>, <p>Over 200,000 Hollywood insiders</p>, <p>Enhance your IMDb Page</p>, <p><strong>Go to IMDbPro »</strong></p>, <p class=\"navCategory singleLine\">\n",
      "<a href=\"/register/login?ref_=nv_usr_lgin_1\" id=\"nblogin\" rel=\"login\">\n",
      "                Login\n",
      "            </a>\n",
      "</p>, <p>at Amazon</p>, <p><img src=\"/images/wheel/or-graphic.png\"/></p>, <p>\n",
      "\n",
      "I am surprised about the negative comments that some people made on this\n",
      "web-page.  I can see how some people might not experience the same kind of\n",
      "uplift or joy that most of us lived through when seeing the movie.  But\n",
      "that\n",
      "some viewers felt insulted and betrayed because the movie did not depict\n",
      "\"reality\" as it really was or is, is not fair.<br/><br/>I must concur with my fellow proponents of the movie -- it was a great and\n",
      "very satisfying movie.  It provided me with something that everyone in one\n",
      "or another shape or form needs -- Hope.  The movie showed the cruelty of\n",
      "life and yet managed to shed some light and insight into the beauty of love\n",
      "and life in general.<br/><br/>I urge anyone who has not seen La Vita è bella to go out there and watch\n",
      "it.\n",
      "If we all take with us just little bit of that hope and love that this\n",
      "movie is trying to convey; this world would be a much better place.<br/><br/>Thank you for reading this and I hope you enjoyed or will enjoy the movie\n",
      "as\n",
      "much as I did.<br/><br/>\n",
      "</p>, <p>\n",
      "I can't understand how other reviewers see this as a film about the\n",
      "Nazis or the Holocaust. It's not!!! \"Life is Beautiful\" is a film about\n",
      "love, optimism, courage and inner strength.<br/><br/>To be honest I can't get this film out of my thoughts and decided to\n",
      "write this brief review in the hope that I could move on.<br/><br/>\"Life is Beautiful\" is an unforgettable film. You go through emotions\n",
      "you were surprised could have for a fictional film. The story, although\n",
      "totally implausible, is uplifting and depressing at the same time.<br/><br/>Please see it for yourself. Have a box of tissues handy.<br/><br/>Best film ever seen!!!\n",
      "</p>, <p>\n",
      "\n",
      "This is one of those movies that have a lasting effect on you.   After\n",
      "watching it, I found that it has less to do with the Holocaust and more to\n",
      "do with the human feelings and the beautiful relationship of a father and\n",
      "his son.  The holocaust provides the ultimate context, that brings and\n",
      "highlights the story and adds yet another deep dimension to the movie.  No\n",
      "such piece of art has ever before combined laughter and tears of sadness in\n",
      "me before and that is the miracle of the movie.  The realism of the movie\n",
      "is\n",
      "not its strong point, but then again it is  not supposed to be; this helps\n",
      "in bringing the audiences to a state of mind away from reality, focusing on\n",
      "the feelings generated by forgetting about all external events and\n",
      "developments of the war.  Despite that, the movie does not fail to point\n",
      "out\n",
      "an element of the nazi psychology demonstrated by the doctor who was\n",
      "obsessed with riddles.  This portrayed the nazi 'state of mind' (if ever\n",
      "such an expression existed) as a sick mentally disturbed state.  Life is\n",
      "really beautiful as you watch Guido's relentless efforts to make a lovely\n",
      "exciting experience of the concentration camp to his son.  You get\n",
      "exhausted\n",
      "just watching him going through his painful day and yet you smile as he\n",
      "speaks to his son and makes him laugh.  One can go on forever  describing\n",
      "the creativity of this movie, but one will not be able to capture all its\n",
      "beauty in writing.  \n",
      "</p>, <p>\n",
      "\n",
      "Roberto Benigni's Vita e bella, is in many ways similar to Chaplin's Great\n",
      "Dictator.  Both are comic attacks on fascism, but the former's is the more\n",
      "successful.  Benigni initially accesses the emotions of his audience through\n",
      "simple comedy, which is a pleasant mix of Keaton and Chaplin.  Romance\n",
      "ensues with his real life wife Nicoletta Braschi.  The first half of this\n",
      "film has been seen by various critics as being inferior to the second, but\n",
      "this is certainly not the case.  In the first section we follow the\n",
      "delightful romance that will eventually lead to marriage and the creation of\n",
      "the wonderful Giosue (Giorgio Cantarini).<br/><br/>It is the first half where the audience can laugh the loudest and delight at\n",
      "the immense comedy talent of Benigni.  Unlike so many films nowadays there\n",
      "is nothing crude or course, his is simple innocent humour, which is all the\n",
      "more effective.  The way he ties together little strand in the film to\n",
      "create comedy elements shows a great writing ability, and a mastery of timing\n",
      "when it comes to their execution on screen.  Various incidents related to\n",
      "the rise of anti-semitism and fascism in Italy show that there are sinister\n",
      "forces at work which come to the fore in the second segment.<br/><br/>Guido (Benigni) moves events on from Tuscany in 1939 to the last year of the\n",
      "war in a concentration camp.  In this period he and Dora (Braschi) have had\n",
      "their son Giosue (Cantanarini).  The five year old greatly reminds me of\n",
      "Toto in Cinema Paradiso, and plays an equally important role in his\n",
      "prospective film (though in Paradiso's case it is at the beginning of the\n",
      "movie).  The relationship between the two is very similar to that of Jackie\n",
      "Coogan and Charlie Chaplin (though Benigni, unlike Chaplin, keeps the best\n",
      "of the comedy moments).  Guido attempts to keep from the boy the horrors of\n",
      "what is going on, and this eventually manifests itself as a game where the\n",
      "aim is to score 100 points, with the winner winning a real tank (which, of\n",
      "course appeals to the young boy).  Comic moments are still present, that\n",
      "involving Guido's translation of the rules of the camp is particularly\n",
      "notable, but it becomes somewhat more difficult to laugh when we consider\n",
      "the gravity of what is going on.<br/><br/>The emphasis begins shifts, and we realise that this is a film about human\n",
      "spirit above all else.  Guido not only appeals to the audience due to his\n",
      "comedy and sheer pleasantness, but also in the way that he loves his family\n",
      "and the measures that he will go to to protect them.<br/><br/>This is certainly no Schindler's List, but it never pretends to be.\n",
      "Occasionally events seem a little contrived, but this does seem to work in\n",
      "the film's favour.  However, this film avoids the tendency of Hollywood to\n",
      "go far over the top in emotional and credibility terms.<br/><br/>Benigni shines like a lantern throughout the picture, showing that he is a\n",
      "talent, not only in comedy terms, that far outshines his peers.  Cantanari\n",
      "is a delight, and Braschi also plays her part well.  There is even an\n",
      "appearance by The Magnificent Seven's Horst Buchholz as Doctor Lessing, a\n",
      "man who events change for the worse.<br/><br/>Please don't let the fact that it, to all but the Italians, is a foreign\n",
      "language film.  The language itself adds a beauty of form to the film, much\n",
      "as it did in the case of Il Postino.  This has to be a certainty for the\n",
      "Best Foreign Language Film Oscar, though something tells me that it will be\n",
      "overlooked for other awards as it is Italian and not a mainstream English\n",
      "language picture.<br/><br/>Please see this film, and make up your own mind.  It is appealing in so many\n",
      "different ways that I'm sure that you will not be disappointed.\n",
      "\n",
      "</p>, <p>\n",
      "\n",
      "I find it sad that so many people are so narrow-minded that they will not\n",
      "watch a movie that is black and white or, in this case, is subtitled. I feel\n",
      "sorry for people who refuse to watch a movie like Life Is Beautiful just\n",
      "because it is a foreign film. They have no idea what a beautifully acted and\n",
      "directed film this is, and they'll never know what an amazing experience\n",
      "they are missing. <br/><br/>Life Is Beautiful manages to walk the extremely thin line between humor,\n",
      "fantasy, and tragedy. Sure, the film is clearly comedic, but nevertheless it\n",
      "manages to very effectively communicate the tremendous losses suffered in\n",
      "the Nazi concentration camps and has scenes at least as intense as any scene\n",
      "in Schindler's List. <br/><br/>This is one of the best films that I have ever seen. It manages to be so\n",
      "encompassing that you hardly notice the subtitles are even there. I proudly\n",
      "cast my vote of 10.\n",
      "</p>, <p>\n",
      "\n",
      "This may be one of the best films ever made. I've never seen a movie with\n",
      "such a balance of hysterical comedy and serious drama. Roberto Benigni\n",
      "totally deserved his Oscars. People on this site have said such negative\n",
      "things about him and this film. Mr. Benigni had a lot of guts to make this\n",
      "film, and there's not another film like it. He handled both the comedy and\n",
      "drama aspects beautifully. I loved the beautiful cinematography, scenery,\n",
      "and the characters. This movie is magnificent in every way. Don't miss\n",
      "it!\n",
      "</p>, <p>\n",
      "The first time I saw the movie was when I was about seventeen or so,\n",
      "and I never forgot it. The incredibly human characters (such as the\n",
      "doctor who loved riddles), the fantastic script-writing, the amazing\n",
      "acting, and of course the heartwarming story. This movie proves once\n",
      "and for all how strong we are, as humans, that in the face of adversity\n",
      "we can make the best of things. There is so much love in the\n",
      "characters; Dora's love for her husband Guido is boundless, as well as\n",
      "Guido's love for his son. Sure, it's a slightly unrealistic movie, but\n",
      "hey, aren't they all a little unrealistic? I've also seen people review\n",
      "this movie and say that it made light of the Holocaust, which was of\n",
      "course a dark point in history. I don't think so; I think that it's\n",
      "only delicately handled, and because of that, the movie is one that a\n",
      "person can watch in one sitting without being thoroughly disgusted by\n",
      "mankind. I would say that those who think this movie is too \"light\" are\n",
      "cynical and bitter. The whole point to the movie is to show what love\n",
      "is capable of, and to provide encouragement and perhaps guidance. This\n",
      "movie changed my life from the first time I watched it. I came away\n",
      "with this feeling that no matter what I have to face in life, that I\n",
      "can overcome it. This is a movie that I would recommend to anyone over\n",
      "the age of eleven. The acting is superb (though Roberto Benigni is a\n",
      "little over-the-top, LOL), the story heartwarming and easy to\n",
      "understand. It's excellent!\n",
      "</p>, <p>\n",
      "I have never in my life seen a movie that so truly symbolizes its name\n",
      "and its message. Roberto Benigni - 'The Italian Treasure House' has\n",
      "probably given to his viewers his best. The story, the performances,\n",
      "the entire theme of a person performing his duties as a husband, as a\n",
      "father is very 'moving' and inspiring. 'Life is beautiful' as the name\n",
      "goes is about a Jewish man, who falls in love with a non-Jewish lady,\n",
      "marries her, has a kid and who is then taken as a prisoner in a\n",
      "concentration camp along with his wife and kid. But the way he protects\n",
      "his kid from the horrors of the genocide, how he always tries to find\n",
      "ways to make his wife and kid smile and laugh, is what makes the movie,\n",
      "a MUST SEE.<br/><br/>It is certainly one of the best movies that I have seen.\n",
      "</p>, <p>\n",
      "\n",
      "I typically don't care much for sub-titled movies.  Foreign films to me\n",
      "are\n",
      "slow and about nothing.  So I naturally went to see Life is Beautiful with\n",
      "a\n",
      "chip on my shoulder.  I wanted to hate it.  I wanted it to be just another\n",
      "movie that Hollywood was praising to show that they were an intelligent\n",
      "bunch of people.  Oh boy was I in for the surprise of my life.  Not only\n",
      "is\n",
      "this film good, I honestly believe that it was the second best film of 98,\n",
      "next to Saving Private Ryan.  The mere fact that Shakespeare in Love won\n",
      "best picture over not only Ryan but over this, is a joke.  It's actually\n",
      "funny.<br/><br/>Benigni did everything in this film.  He wrote, produced, directed and\n",
      "probably swept the floors at night.  There is that much raw energy in this\n",
      "film.  There really is.  For someone to have that kind of vision is truly\n",
      "incredible.  And not only is the film a terrific cinematic experience\n",
      "because of the importance and seriousness of the subject matter, but it is\n",
      "one of the funnier films I've ever seen.  When Roberto is translating the\n",
      "German soldiers insructions to his son so that he isn't scared, it is at\n",
      "that moment that you realize you are under his spell.  He's got you and no\n",
      "matter how much sceptisism you may have about the film you know you're\n",
      "witnessing a classic in every sense of the word.<br/><br/>I loved this film.  Loved everything about it and I am so glad that I got\n",
      "to\n",
      "see it and cheer Benigni at the Oscars.  He certainly deserved his best\n",
      "actor award and he should have gotten more.\n",
      "</p>, <p><b>*** This review may contain spoilers ***</b></p>, <p>\n",
      "Mixing humor and the Holocaust isn't anything new: Ernst Lubitsch's 'To\n",
      "Be Or Not To Be' is just one enduring classic; Mel Brooks' 'The\n",
      "Producers' is another; and 'Life Is Beautiful' has the small-town charm\n",
      "and ambiance of 'Amarcord,' and light-straight satire of 'The Great\n",
      "Dictator.'<br/><br/>Set against the stark reality of World War II Europe, Roberto Benigni's\n",
      "sentimental fable is not a film about the Holocaust, it's a film about\n",
      "life and hope merely against the backdrop of the Holocaust... It's not\n",
      "a denial of the Holocaust, it is a manifestation that humor itself can\n",
      "be courage... It's not about betraying the experience of millions of\n",
      "Jews, it is about the great lengths a father will go to protect his\n",
      "family from the horrors of the Nazis... It's a demonstration of the\n",
      "power of cinema, it's art without claim, hope without fear, dreams\n",
      "without limitations... It's a motion picture about love, not a\n",
      "documentary about the Nazis... It delivers a powerful message that\n",
      "despite everythinglife is truly beautiful... <br/><br/>The story begins in 1939 Italy, where a simple, free-spirited Italian\n",
      "Jew Guido Orefice (Benigni) and his poet friend Ferrucio (Sergio Bini\n",
      "Bustic) have dreams of owning their own bookstore... For now, however,\n",
      "Guido must be satisfied to wait tables, while Ferrucio is unable to get\n",
      "a job...<br/><br/>Benigni's character is introduced during a long set of fast comedy\n",
      "scenes, particularly when he meets a cute gentile woman, DoraNicoletta\n",
      "Braschi, Benigni's real-life wife... When she 'falls out of the sky,'\n",
      "and he quickly nicknames her 'Principessa'... When he rides, in a\n",
      "fascist ball, on a horse painted green... When he turns a gloomy rainy\n",
      "night into a red carpet event... When he is caught by the Nazis as he\n",
      "hurries about securing the safety of his wife and son.. When his car\n",
      "speeds, without brakes, through a village and is mistaken for a king... <br/><br/>Guido falls hard for the radiant schoolteacher, daughter of a wealthy\n",
      "family, and pursues her with all the charm and imagination he can\n",
      "discharge... In one sequence he pretends to be a school inspector and\n",
      "gives an impromptu speech on racial superiority before the assembled\n",
      "students and teachers, ending with a striptease...<br/><br/>That hilarious side of the film takes up the first half... Benigni (who\n",
      "also wrote and directed) borrows a bit of Chaplin's grace and a bit of\n",
      "Groucho Marx charm... All of the action is so neatly contrived that the\n",
      "film essentially ends when it's over, and then begins again with the\n",
      "introduction of Guido and Dora's cute five-year-old son Giosue (Giorgio\n",
      "Cantarini) few years later... <br/><br/>There, in 1945, we catch a glimpse of their enchanting household, but\n",
      "things are soon shattered, and the Nazis take Guido, with his tolerant\n",
      "uncle (Giustino Durano) and little Giosue off to an unidentified\n",
      "concentration camp... Dora races to the train station and demands to be\n",
      "put also on the train... <br/><br/>At the death camp, and in order to protect his son from the nightmare\n",
      "of the place, Guido uses his imagination by creating the illusion that\n",
      "everything that's happening is just a game, an epic game that will be\n",
      "exciting and fun...<br/><br/>He convinces Giosue that by hiding from the Gestapo soldiers (whom he\n",
      "refers to simply as the \"men who yell a lot\") and maintaining silence,\n",
      "he can gain the necessary points to win a tank... Not a toy tank, but a\n",
      "full-size tank, which they'll be free to take home...<br/><br/>As co-writer, Benigni (with Vincenzo Cerami), doesn't just mix drama\n",
      "and comedy, he often hides drama in the comedy... The film does not\n",
      "dwell on the horrors of the camp, nor does it ignore them... <br/><br/>With a memorable score by Nicola Piovani, \"Life Is Beautiful\" is an\n",
      "important film, triumphant, timeless, and sublime... It manages to\n",
      "entertain, educate, and move with its potent combination of humor,\n",
      "poignancy, and dignity... Roberto Benigni has taken pure horror and\n",
      "turned it into a love story between a man and a woman, between a father\n",
      "and his son... As an actor, Benigni manages with his wise and simple\n",
      "performance to make us laugh in tragic situations... He was very\n",
      "realistic, natural, distant from great special effects, far from\n",
      "Hollywood style, only nice and beautiful cinema...<br/><br/>The film won Academy Awards for Best Actor, Best Foreign Film and Best\n",
      "Dramatic Score...\n",
      "</p>, <p><a href=\"reviews-enter\">Add another review</a></p>, <p>Find showtimes, watch trailers, browse photos, track your Watchlist and rate your favorite movies and TV shows on your phone or tablet!</p>]\n",
      "<title>Life Is Beautiful  Reviews &amp; Ratings - IMDb</title>\n"
     ]
    }
   ],
   "source": [
    "print(page)"
   ]
  },
  {
   "cell_type": "markdown",
   "metadata": {},
   "source": [
    "#### 4. Convert to a string and remove the non AlphaNumeric characters"
   ]
  },
  {
   "cell_type": "code",
   "execution_count": 22,
   "metadata": {
    "collapsed": false
   },
   "outputs": [],
   "source": [
    "foo = str(page)"
   ]
  },
  {
   "cell_type": "code",
   "execution_count": 23,
   "metadata": {
    "collapsed": false
   },
   "outputs": [],
   "source": [
    "regex = re.compile('[^a-zA-Z]')\n",
    "new = regex.sub(' ', foo)"
   ]
  },
  {
   "cell_type": "markdown",
   "metadata": {},
   "source": [
    "#### 5. Tokenize the Output"
   ]
  },
  {
   "cell_type": "code",
   "execution_count": 24,
   "metadata": {
    "collapsed": false
   },
   "outputs": [],
   "source": [
    "tokens = nltk.word_tokenize(new)"
   ]
  }
 ],
 "metadata": {
  "anaconda-cloud": {},
  "kernelspec": {
   "display_name": "Python [default]",
   "language": "python",
   "name": "python2"
  },
  "language_info": {
   "codemirror_mode": {
    "name": "ipython",
    "version": 2
   },
   "file_extension": ".py",
   "mimetype": "text/x-python",
   "name": "python",
   "nbconvert_exporter": "python",
   "pygments_lexer": "ipython2",
   "version": "2.7.12"
  }
 },
 "nbformat": 4,
 "nbformat_minor": 0
}
