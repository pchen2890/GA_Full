{
 "cells": [
  {
   "cell_type": "markdown",
   "metadata": {},
   "source": [
    "## An API request!\n",
    "\n",
    "https://maps.googleapis.com/maps/api/geocode/json?address=10+E+21ST+New+York+NY\n",
    "\n",
    "> Check: what do you think is happening here? What's the input pattern? What's the output?"
   ]
  },
  {
   "cell_type": "code",
   "execution_count": 4,
   "metadata": {
    "collapsed": false
   },
   "outputs": [
    {
     "name": "stdout",
     "output_type": "stream",
     "text": [
      "{\n",
      "   \"results\" : [\n",
      "      {\n",
      "         \"address_components\" : [\n",
      "            {\n",
      "               \"long_name\" : \"10\",\n",
      "               \"short_name\" : \"10\",\n",
      "               \"types\" : [ \"street_number\" ]\n",
      "            },\n",
      "            {\n",
      "               \"long_name\" : \"East 21st Street\",\n",
      "               \"short_name\" : \"E 21st St\",\n",
      "               \"types\" : [ \"route\" ]\n",
      "            },\n",
      "            {\n",
      "               \"long_name\" : \"Midtown\",\n",
      "               \"short_name\" : \"Midtown\",\n",
      "               \"types\" : [ \"neighborhood\", \"political\" ]\n",
      "            },\n",
      "            {\n",
      "               \"long_name\" : \"Manhattan\",\n",
      "               \"short_name\" : \"Manhattan\",\n",
      "               \"types\" : [ \"political\", \"sublocality\", \"sublocality_level_1\" ]\n",
      "            },\n",
      "            {\n",
      "               \"long_name\" : \"New York\",\n",
      "               \"short_name\" : \"New York\",\n",
      "               \"types\" : [ \"locality\", \"political\" ]\n",
      "            },\n",
      "            {\n",
      "               \"long_name\" : \"New York County\",\n",
      "               \"short_name\" : \"New York County\",\n",
      "               \"types\" : [ \"administrative_area_level_2\", \"political\" ]\n",
      "            },\n",
      "            {\n",
      "               \"long_name\" : \"New York\",\n",
      "               \"short_name\" : \"NY\",\n",
      "               \"types\" : [ \"administrative_area_level_1\", \"political\" ]\n",
      "            },\n",
      "            {\n",
      "               \"long_name\" : \"United States\",\n",
      "               \"short_name\" : \"US\",\n",
      "               \"types\" : [ \"country\", \"political\" ]\n",
      "            },\n",
      "            {\n",
      "               \"long_name\" : \"10010\",\n",
      "               \"short_name\" : \"10010\",\n",
      "               \"types\" : [ \"postal_code\" ]\n",
      "            }\n",
      "         ],\n",
      "         \"formatted_address\" : \"10 E 21st St, New York, NY 10010, USA\",\n",
      "         \"geometry\" : {\n",
      "            \"location\" : {\n",
      "               \"lat\" : 40.7398848,\n",
      "               \"lng\" : -73.9900818\n",
      "            },\n",
      "            \"location_type\" : \"ROOFTOP\",\n",
      "            \"viewport\" : {\n",
      "               \"northeast\" : {\n",
      "                  \"lat\" : 40.74123378029149,\n",
      "                  \"lng\" : -73.98873281970849\n",
      "               },\n",
      "               \"southwest\" : {\n",
      "                  \"lat\" : 40.7385358197085,\n",
      "                  \"lng\" : -73.99143078029151\n",
      "               }\n",
      "            }\n",
      "         },\n",
      "         \"partial_match\" : true,\n",
      "         \"place_id\" : \"ChIJO1DcwaNZwokRnNg92N3huws\",\n",
      "         \"types\" : [ \"street_address\" ]\n",
      "      }\n",
      "   ],\n",
      "   \"status\" : \"OK\"\n",
      "}\n",
      "\n",
      "{u'status': u'OK', u'results': [{u'geometry': {u'location': {u'lat': 40.7398848, u'lng': -73.9900818}, u'viewport': {u'northeast': {u'lat': 40.74123378029149, u'lng': -73.98873281970849}, u'southwest': {u'lat': 40.7385358197085, u'lng': -73.99143078029151}}, u'location_type': u'ROOFTOP'}, u'formatted_address': u'10 E 21st St, New York, NY 10010, USA', u'place_id': u'ChIJO1DcwaNZwokRnNg92N3huws', u'address_components': [{u'long_name': u'10', u'types': [u'street_number'], u'short_name': u'10'}, {u'long_name': u'East 21st Street', u'types': [u'route'], u'short_name': u'E 21st St'}, {u'long_name': u'Midtown', u'types': [u'neighborhood', u'political'], u'short_name': u'Midtown'}, {u'long_name': u'Manhattan', u'types': [u'political', u'sublocality', u'sublocality_level_1'], u'short_name': u'Manhattan'}, {u'long_name': u'New York', u'types': [u'locality', u'political'], u'short_name': u'New York'}, {u'long_name': u'New York County', u'types': [u'administrative_area_level_2', u'political'], u'short_name': u'New York County'}, {u'long_name': u'New York', u'types': [u'administrative_area_level_1', u'political'], u'short_name': u'NY'}, {u'long_name': u'United States', u'types': [u'country', u'political'], u'short_name': u'US'}, {u'long_name': u'10010', u'types': [u'postal_code'], u'short_name': u'10010'}], u'partial_match': True, u'types': [u'street_address']}]}\n"
     ]
    }
   ],
   "source": [
    "import requests\n",
    "url = 'https://maps.googleapis.com/maps/api/geocode/json?address='\n",
    "address = '10+E+21st+New+York+NY'\n",
    "response = requests.post(url+address)\n",
    "print response.text\n",
    "print response.json()"
   ]
  },
  {
   "cell_type": "code",
   "execution_count": null,
   "metadata": {
    "collapsed": true
   },
   "outputs": [],
   "source": []
  }
 ],
 "metadata": {
  "anaconda-cloud": {},
  "kernelspec": {
   "display_name": "Python [conda env:dsienv]",
   "language": "python",
   "name": "conda-env-dsienv-py"
  },
  "language_info": {
   "codemirror_mode": {
    "name": "ipython",
    "version": 2
   },
   "file_extension": ".py",
   "mimetype": "text/x-python",
   "name": "python",
   "nbconvert_exporter": "python",
   "pygments_lexer": "ipython2",
   "version": "2.7.12"
  }
 },
 "nbformat": 4,
 "nbformat_minor": 1
}
