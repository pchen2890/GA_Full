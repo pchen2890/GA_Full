{
 "cells": [
  {
   "cell_type": "code",
   "execution_count": 153,
   "metadata": {
    "collapsed": false
   },
   "outputs": [],
   "source": [
    "import pandas as pd\n",
    "import numpy as np"
   ]
  },
  {
   "cell_type": "code",
   "execution_count": 154,
   "metadata": {
    "collapsed": false
   },
   "outputs": [],
   "source": [
    "input_data = pd.read_csv('breast-cancer0.csv', header = None)\n",
    "#I just made a reader from the csv without a header.\n",
    "header_list = []\n",
    "in_file = open('field_names.txt', 'r')\n",
    "for line in in_file:\n",
    "    line = line.rstrip()\n",
    "    header_list.append(line)\n",
    "    #This is creating a list of the headers in the text file.\n",
    "input_data.columns = header_list\n",
    "#This puts the text list on the input_data's currently blank header/column titles"
   ]
  },
  {
   "cell_type": "code",
   "execution_count": 155,
   "metadata": {
    "collapsed": false
   },
   "outputs": [
    {
     "data": {
      "text/plain": [
       "ID                            0\n",
       "diagnosis                     0\n",
       "radius_mean                   1\n",
       "radius_sd_error               0\n",
       "radius_worst                  1\n",
       "texture_mean                  1\n",
       "texture_sd_error              1\n",
       "texture_worst                 3\n",
       "perimeter_mean                2\n",
       "perimeter_sd_error            3\n",
       "perimeter_worst               1\n",
       "area_mean                     1\n",
       "area_sd_error                 0\n",
       "area_worst                    0\n",
       "smoothness_mean               0\n",
       "smoothness_sd_error           0\n",
       "smoothness_worst              0\n",
       "compactness_mean              0\n",
       "compactness_sd_error          0\n",
       "compactness_worst             0\n",
       "concavity_mean                0\n",
       "concavity_sd_error            0\n",
       "concavity_worst               0\n",
       "concave_points_mean           0\n",
       "concave_points_sd_error       0\n",
       "concave_points_worst          0\n",
       "symmetry_mean                 0\n",
       "symmetry_sd_error             0\n",
       "symmetry_worst                0\n",
       "fractal_dimension_mean        0\n",
       "fractal_dimension_sd_error    0\n",
       "fractal_dimension_worst       0\n",
       "dtype: int64"
      ]
     },
     "execution_count": 155,
     "metadata": {},
     "output_type": "execute_result"
    }
   ],
   "source": [
    "input_data.apply(lambda x: sum (x.isnull()), axis = 0)\n",
    "#This shows how many null values are in each column"
   ]
  },
  {
   "cell_type": "code",
   "execution_count": 156,
   "metadata": {
    "collapsed": false
   },
   "outputs": [],
   "source": [
    "new_list = []\n",
    "for rec in input_data['radius_mean']:\n",
    "    if pd.isnull(rec) :\n",
    "        rec = 0\n",
    "    new_list.append(rec)\n",
    "    \n",
    "#This replaces the null values with a zero\n",
    "\n",
    "input_data['radius_mean'] = new_list"
   ]
  },
  {
   "cell_type": "code",
   "execution_count": 157,
   "metadata": {
    "collapsed": false
   },
   "outputs": [
    {
     "data": {
      "text/html": [
       "<div>\n",
       "<table border=\"1\" class=\"dataframe\">\n",
       "  <thead>\n",
       "    <tr style=\"text-align: right;\">\n",
       "      <th></th>\n",
       "      <th>ID</th>\n",
       "      <th>radius_mean</th>\n",
       "      <th>radius_sd_error</th>\n",
       "      <th>radius_worst</th>\n",
       "      <th>texture_mean</th>\n",
       "      <th>texture_sd_error</th>\n",
       "      <th>texture_worst</th>\n",
       "      <th>perimeter_mean</th>\n",
       "      <th>perimeter_sd_error</th>\n",
       "      <th>perimeter_worst</th>\n",
       "      <th>...</th>\n",
       "      <th>concavity_worst</th>\n",
       "      <th>concave_points_mean</th>\n",
       "      <th>concave_points_sd_error</th>\n",
       "      <th>concave_points_worst</th>\n",
       "      <th>symmetry_mean</th>\n",
       "      <th>symmetry_sd_error</th>\n",
       "      <th>symmetry_worst</th>\n",
       "      <th>fractal_dimension_mean</th>\n",
       "      <th>fractal_dimension_sd_error</th>\n",
       "      <th>fractal_dimension_worst</th>\n",
       "    </tr>\n",
       "    <tr>\n",
       "      <th>diagnosis</th>\n",
       "      <th></th>\n",
       "      <th></th>\n",
       "      <th></th>\n",
       "      <th></th>\n",
       "      <th></th>\n",
       "      <th></th>\n",
       "      <th></th>\n",
       "      <th></th>\n",
       "      <th></th>\n",
       "      <th></th>\n",
       "      <th></th>\n",
       "      <th></th>\n",
       "      <th></th>\n",
       "      <th></th>\n",
       "      <th></th>\n",
       "      <th></th>\n",
       "      <th></th>\n",
       "      <th></th>\n",
       "      <th></th>\n",
       "      <th></th>\n",
       "      <th></th>\n",
       "    </tr>\n",
       "  </thead>\n",
       "  <tbody>\n",
       "    <tr>\n",
       "      <th>B</th>\n",
       "      <td>357</td>\n",
       "      <td>357</td>\n",
       "      <td>357</td>\n",
       "      <td>356</td>\n",
       "      <td>357</td>\n",
       "      <td>356</td>\n",
       "      <td>355</td>\n",
       "      <td>356</td>\n",
       "      <td>354</td>\n",
       "      <td>357</td>\n",
       "      <td>...</td>\n",
       "      <td>357</td>\n",
       "      <td>357</td>\n",
       "      <td>357</td>\n",
       "      <td>357</td>\n",
       "      <td>357</td>\n",
       "      <td>357</td>\n",
       "      <td>357</td>\n",
       "      <td>357</td>\n",
       "      <td>357</td>\n",
       "      <td>357</td>\n",
       "    </tr>\n",
       "    <tr>\n",
       "      <th>M</th>\n",
       "      <td>212</td>\n",
       "      <td>212</td>\n",
       "      <td>212</td>\n",
       "      <td>212</td>\n",
       "      <td>211</td>\n",
       "      <td>212</td>\n",
       "      <td>211</td>\n",
       "      <td>211</td>\n",
       "      <td>212</td>\n",
       "      <td>211</td>\n",
       "      <td>...</td>\n",
       "      <td>212</td>\n",
       "      <td>212</td>\n",
       "      <td>212</td>\n",
       "      <td>212</td>\n",
       "      <td>212</td>\n",
       "      <td>212</td>\n",
       "      <td>212</td>\n",
       "      <td>212</td>\n",
       "      <td>212</td>\n",
       "      <td>212</td>\n",
       "    </tr>\n",
       "  </tbody>\n",
       "</table>\n",
       "<p>2 rows × 31 columns</p>\n",
       "</div>"
      ],
      "text/plain": [
       "            ID  radius_mean  radius_sd_error  radius_worst  texture_mean  \\\n",
       "diagnosis                                                                  \n",
       "B          357          357              357           356           357   \n",
       "M          212          212              212           212           211   \n",
       "\n",
       "           texture_sd_error  texture_worst  perimeter_mean  \\\n",
       "diagnosis                                                    \n",
       "B                       356            355             356   \n",
       "M                       212            211             211   \n",
       "\n",
       "           perimeter_sd_error  perimeter_worst           ...             \\\n",
       "diagnosis                                                ...              \n",
       "B                         354              357           ...              \n",
       "M                         212              211           ...              \n",
       "\n",
       "           concavity_worst  concave_points_mean  concave_points_sd_error  \\\n",
       "diagnosis                                                                  \n",
       "B                      357                  357                      357   \n",
       "M                      212                  212                      212   \n",
       "\n",
       "           concave_points_worst  symmetry_mean  symmetry_sd_error  \\\n",
       "diagnosis                                                           \n",
       "B                           357            357                357   \n",
       "M                           212            212                212   \n",
       "\n",
       "           symmetry_worst  fractal_dimension_mean  fractal_dimension_sd_error  \\\n",
       "diagnosis                                                                       \n",
       "B                     357                     357                         357   \n",
       "M                     212                     212                         212   \n",
       "\n",
       "           fractal_dimension_worst  \n",
       "diagnosis                           \n",
       "B                              357  \n",
       "M                              212  \n",
       "\n",
       "[2 rows x 31 columns]"
      ]
     },
     "execution_count": 157,
     "metadata": {},
     "output_type": "execute_result"
    }
   ],
   "source": [
    "input_data.groupby([\"diagnosis\"]).count()\n",
    "#grouping by the different "
   ]
  },
  {
   "cell_type": "code",
   "execution_count": 158,
   "metadata": {
    "collapsed": false
   },
   "outputs": [
    {
     "data": {
      "text/plain": [
       "8018.1390000000065"
      ]
     },
     "execution_count": 158,
     "metadata": {},
     "output_type": "execute_result"
    }
   ],
   "source": [
    "input_data[\"radius_mean\"].sum()\n",
    "#creating the sum of radius_mean"
   ]
  },
  {
   "cell_type": "code",
   "execution_count": 159,
   "metadata": {
    "collapsed": false
   },
   "outputs": [],
   "source": [
    "# MB_list=[]\n",
    "# def conv(diagnosis):\n",
    "#     if diagnosis == \"M\":\n",
    "#         return 1\n",
    "#     elif diagnosis == \"B\":\n",
    "#         return 0\n",
    "    \n",
    "# for rec in input_data['diagnosis']:\n",
    "#     rec = conv(rec)\n",
    "#     MB_list.append(rec)\n",
    "    \n",
    "# input_data[\"diagnosis\"] = MB_list\n",
    "\n",
    "\n",
    "# input_data['diagnosis']\n",
    "# #turns the M and B to 1 and 0"
   ]
  },
  {
   "cell_type": "code",
   "execution_count": 160,
   "metadata": {
    "collapsed": false
   },
   "outputs": [
    {
     "data": {
      "text/plain": [
       "0      1\n",
       "1      1\n",
       "2      1\n",
       "3      1\n",
       "4      1\n",
       "5      1\n",
       "6      1\n",
       "7      1\n",
       "8      1\n",
       "9      1\n",
       "10     1\n",
       "11     1\n",
       "12     1\n",
       "13     1\n",
       "14     1\n",
       "15     1\n",
       "16     1\n",
       "17     1\n",
       "18     1\n",
       "19     0\n",
       "20     0\n",
       "21     0\n",
       "22     1\n",
       "23     1\n",
       "24     1\n",
       "25     1\n",
       "26     1\n",
       "27     1\n",
       "28     1\n",
       "29     1\n",
       "      ..\n",
       "539    0\n",
       "540    0\n",
       "541    0\n",
       "542    0\n",
       "543    0\n",
       "544    0\n",
       "545    0\n",
       "546    0\n",
       "547    0\n",
       "548    0\n",
       "549    0\n",
       "550    0\n",
       "551    0\n",
       "552    0\n",
       "553    0\n",
       "554    0\n",
       "555    0\n",
       "556    0\n",
       "557    0\n",
       "558    0\n",
       "559    0\n",
       "560    0\n",
       "561    0\n",
       "562    1\n",
       "563    1\n",
       "564    1\n",
       "565    1\n",
       "566    1\n",
       "567    1\n",
       "568    0\n",
       "Name: diagnosis, dtype: int64"
      ]
     },
     "execution_count": 160,
     "metadata": {},
     "output_type": "execute_result"
    }
   ],
   "source": [
    "def diagnosis_to_numeric(x):\n",
    "    if x == \"M\":\n",
    "        return 1\n",
    "    elif x == \"B\":\n",
    "        return 0\n",
    "input_data[\"diagnosis\"] = input_data[\"diagnosis\"].apply(diagnosis_to_numeric)\n",
    "#another way to do the above in less code!\n",
    "input_data[\"diagnosis\"]"
   ]
  },
  {
   "cell_type": "code",
   "execution_count": 167,
   "metadata": {
    "collapsed": false
   },
   "outputs": [
    {
     "name": "stdout",
     "output_type": "stream",
     "text": [
      "Help on function get_dummies in module pandas.core.reshape:\n",
      "\n",
      "get_dummies(data, prefix=None, prefix_sep='_', dummy_na=False, columns=None, sparse=False, drop_first=False)\n",
      "    Convert categorical variable into dummy/indicator variables\n",
      "    \n",
      "    Parameters\n",
      "    ----------\n",
      "    data : array-like, Series, or DataFrame\n",
      "    prefix : string, list of strings, or dict of strings, default None\n",
      "        String to append DataFrame column names\n",
      "        Pass a list with length equal to the number of columns\n",
      "        when calling get_dummies on a DataFrame. Alternativly, `prefix`\n",
      "        can be a dictionary mapping column names to prefixes.\n",
      "    prefix_sep : string, default '_'\n",
      "        If appending prefix, separator/delimiter to use. Or pass a\n",
      "        list or dictionary as with `prefix.`\n",
      "    dummy_na : bool, default False\n",
      "        Add a column to indicate NaNs, if False NaNs are ignored.\n",
      "    columns : list-like, default None\n",
      "        Column names in the DataFrame to be encoded.\n",
      "        If `columns` is None then all the columns with\n",
      "        `object` or `category` dtype will be converted.\n",
      "    sparse : bool, default False\n",
      "        Whether the dummy columns should be sparse or not.  Returns\n",
      "        SparseDataFrame if `data` is a Series or if all columns are included.\n",
      "        Otherwise returns a DataFrame with some SparseBlocks.\n",
      "    \n",
      "        .. versionadded:: 0.16.1\n",
      "    drop_first : bool, default False\n",
      "        Whether to get k-1 dummies out of k categorical levels by removing the\n",
      "        first level.\n",
      "    \n",
      "        .. versionadded:: 0.18.0\n",
      "    Returns\n",
      "    -------\n",
      "    dummies : DataFrame or SparseDataFrame\n",
      "    \n",
      "    Examples\n",
      "    --------\n",
      "    >>> import pandas as pd\n",
      "    >>> s = pd.Series(list('abca'))\n",
      "    \n",
      "    >>> pd.get_dummies(s)\n",
      "       a  b  c\n",
      "    0  1  0  0\n",
      "    1  0  1  0\n",
      "    2  0  0  1\n",
      "    3  1  0  0\n",
      "    \n",
      "    >>> s1 = ['a', 'b', np.nan]\n",
      "    \n",
      "    >>> pd.get_dummies(s1)\n",
      "       a  b\n",
      "    0  1  0\n",
      "    1  0  1\n",
      "    2  0  0\n",
      "    \n",
      "    >>> pd.get_dummies(s1, dummy_na=True)\n",
      "       a  b  NaN\n",
      "    0  1  0    0\n",
      "    1  0  1    0\n",
      "    2  0  0    1\n",
      "    \n",
      "    >>> df = pd.DataFrame({'A': ['a', 'b', 'a'], 'B': ['b', 'a', 'c'],\n",
      "                        'C': [1, 2, 3]})\n",
      "    \n",
      "    >>> pd.get_dummies(df, prefix=['col1', 'col2'])\n",
      "       C  col1_a  col1_b  col2_a  col2_b  col2_c\n",
      "    0  1       1       0       0       1       0\n",
      "    1  2       0       1       1       0       0\n",
      "    2  3       1       0       0       0       1\n",
      "    \n",
      "    >>> pd.get_dummies(pd.Series(list('abcaa')))\n",
      "       a  b  c\n",
      "    0  1  0  0\n",
      "    1  0  1  0\n",
      "    2  0  0  1\n",
      "    3  1  0  0\n",
      "    4  1  0  0\n",
      "    \n",
      "    >>> pd.get_dummies(pd.Series(list('abcaa')), drop_first=True))\n",
      "       b  c\n",
      "    0  0  0\n",
      "    1  1  0\n",
      "    2  0  1\n",
      "    3  0  0\n",
      "    4  0  0\n",
      "    \n",
      "    See Also\n",
      "    --------\n",
      "    Series.str.get_dummies\n",
      "\n"
     ]
    }
   ],
   "source": [
    "help(pd.get_dummies)"
   ]
  },
  {
   "cell_type": "code",
   "execution_count": null,
   "metadata": {
    "collapsed": true
   },
   "outputs": [],
   "source": []
  }
 ],
 "metadata": {
  "anaconda-cloud": {},
  "kernelspec": {
   "display_name": "Python [Root]",
   "language": "python",
   "name": "Python [Root]"
  },
  "language_info": {
   "codemirror_mode": {
    "name": "ipython",
    "version": 2
   },
   "file_extension": ".py",
   "mimetype": "text/x-python",
   "name": "python",
   "nbconvert_exporter": "python",
   "pygments_lexer": "ipython2",
   "version": "2.7.12"
  }
 },
 "nbformat": 4,
 "nbformat_minor": 0
}
