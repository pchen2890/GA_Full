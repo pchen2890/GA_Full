{
 "cells": [
  {
   "cell_type": "code",
   "execution_count": 50,
   "metadata": {
    "collapsed": false
   },
   "outputs": [],
   "source": [
    "%matplotlib inline\n",
    "\n",
    "import pandas as pd\n",
    "\n",
    "\n",
    "with open(\"NEISS2014.csv\", \"r\") as file:\n",
    "    df = pd.read_csv(file, converters={\"prod1\":str, \"prod2\":str})"
   ]
  },
  {
   "cell_type": "code",
   "execution_count": 58,
   "metadata": {
    "collapsed": false
   },
   "outputs": [],
   "source": [
    "def conv(x):\n",
    "    if x > 200:\n",
    "        return (x-200)/12\n",
    "    else:\n",
    "        return x\n",
    "    \n",
    "#map applies a function to each element of a series\n",
    "df.age = df[\"age\"].map(conv)"
   ]
  },
  {
   "cell_type": "code",
   "execution_count": 57,
   "metadata": {
    "collapsed": false
   },
   "outputs": [
    {
     "data": {
      "text/plain": [
       "1      2413\n",
       "2      2146\n",
       "3      1748\n",
       "13     1715\n",
       "14     1664\n",
       "12     1606\n",
       "15     1536\n",
       "4      1489\n",
       "11     1485\n",
       "16     1462\n",
       "10     1384\n",
       "5      1380\n",
       "7      1341\n",
       "17     1330\n",
       "6      1301\n",
       "8      1267\n",
       "9      1227\n",
       "0      1194\n",
       "18     1009\n",
       "19      903\n",
       "21      847\n",
       "20      837\n",
       "22      832\n",
       "24      768\n",
       "23      748\n",
       "25      717\n",
       "27      715\n",
       "26      704\n",
       "31      702\n",
       "30      700\n",
       "       ... \n",
       "73      335\n",
       "68      334\n",
       "75      327\n",
       "74      326\n",
       "87      324\n",
       "86      318\n",
       "83      318\n",
       "84      318\n",
       "77      317\n",
       "76      315\n",
       "79      313\n",
       "85      303\n",
       "81      298\n",
       "88      280\n",
       "89      276\n",
       "90      219\n",
       "91      199\n",
       "92      190\n",
       "93      135\n",
       "94      119\n",
       "96       71\n",
       "95       69\n",
       "97       53\n",
       "98       36\n",
       "99       25\n",
       "101      19\n",
       "100      11\n",
       "103       4\n",
       "102       3\n",
       "105       1\n",
       "Name: age, dtype: int64"
      ]
     },
     "execution_count": 57,
     "metadata": {},
     "output_type": "execute_result"
    }
   ],
   "source": [
    "df.age.value_counts()"
   ]
  },
  {
   "cell_type": "code",
   "execution_count": 61,
   "metadata": {
    "collapsed": false
   },
   "outputs": [
    {
     "data": {
      "text/plain": [
       "list"
      ]
     },
     "execution_count": 61,
     "metadata": {},
     "output_type": "execute_result"
    }
   ],
   "source": [
    "ages = [212, 213, 214, 50, 202, 5, 8, 205, 204, 223]\n",
    "\n",
    "type(map(conv, df.age))"
   ]
  },
  {
   "cell_type": "code",
   "execution_count": 49,
   "metadata": {
    "collapsed": false
   },
   "outputs": [
    {
     "data": {
      "text/plain": [
       "[212, 213, 214, 50, 202, 5, 8, 205, 204, 223]"
      ]
     },
     "execution_count": 49,
     "metadata": {},
     "output_type": "execute_result"
    }
   ],
   "source": [
    "ages"
   ]
  },
  {
   "cell_type": "code",
   "execution_count": null,
   "metadata": {
    "collapsed": true
   },
   "outputs": [],
   "source": []
  }
 ],
 "metadata": {
  "anaconda-cloud": {},
  "kernelspec": {
   "display_name": "Python [conda env:dsienv]",
   "language": "python",
   "name": "conda-env-dsienv-py"
  },
  "language_info": {
   "codemirror_mode": {
    "name": "ipython",
    "version": 2
   },
   "file_extension": ".py",
   "mimetype": "text/x-python",
   "name": "python",
   "nbconvert_exporter": "python",
   "pygments_lexer": "ipython2",
   "version": "2.7.12"
  }
 },
 "nbformat": 4,
 "nbformat_minor": 1
}
