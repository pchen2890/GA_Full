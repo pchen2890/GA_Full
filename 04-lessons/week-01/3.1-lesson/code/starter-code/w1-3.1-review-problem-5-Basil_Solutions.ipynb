{
 "cells": [
  {
   "cell_type": "markdown",
   "metadata": {},
   "source": [
    "### Review problem 5 (hard)\n",
    "\n",
    "In this problem you will be defining a function that calculates the **pearson correlation coefficient** between two lists of numbers.\n",
    "\n",
    "Your function should:\n",
    "\n",
    "- Accept two arguments that are the provided lists ```X``` and ```Y```.\n",
    "- Print the length of ```X``` and ```Y``` using the ```len()``` function, like so:\n",
    "    ```python\n",
    "    Length of X: 40\n",
    "    Length of Y: 40\n",
    "    ```\n",
    "- Calculate the **pearson correlation** between the two lists and assign the value to variable ```pearson_r```.\n",
    "    - Create a variable ```X_deviation``` that is each element of ```X``` minus the **mean** of ```X```. You can use ```np.mean()``` to calculate the mean.\n",
    "    - Create a variable ```Y_deviation``` that is each element of ```Y``` minus the **mean** of ```Y```.\n",
    "    - Create a variable ```sqrt_X_deviation_sq``` that is the **square root** of the **sum** of the **square** of each element of ```X_deviation```. Ive partially completed it below, for clarification:\n",
    "        ```python\n",
    "        sqrt_X_deviation_sq = np.sqrt(np.sum(\"each element of X_deviation squared\"))\n",
    "        ```\n",
    "    - Create a variable ```sqrt_Y_deviation_sq``` that is the same thing you just did for ```X_deviation``` but for ```Y_deviation```.\n",
    "    - Create a variable ```sum_XY_deviation``` that is the **sum** of each element of X and Y multiplied by each other, in order. You can use the ```zip()``` function to iterate through two lists at the same time:\n",
    "        ```python\n",
    "        for x_d, y_d in zip(X_deviation, Y_deviation):\n",
    "        ```\n",
    "    - ```pearson_r``` is equal to ```sum_XY_deviation``` divided by ```(sqrt_X_deviation_sq * sqrt_Y_deviation_sq)```\n",
    "- Print ```pearson_r```\n",
    "- Check if it is the same as numpys correlation function. Print ```np.corrcoef(X, Y)[0,1]```\n",
    "    "
   ]
  },
  {
   "cell_type": "code",
   "execution_count": 4,
   "metadata": {
    "collapsed": true
   },
   "outputs": [],
   "source": [
    "import numpy as np\n",
    "\n",
    "X = [14.2,5.8,4.8,12.7,5.6,-1.2,5.3,11.9,4.8,8.1,1.5,8.5,14.9,6.1,\n",
    "     6.8,12.6,15.5,24.3,15.6,16.8,22.3,22.6,26.2,19.0,24.3,26.3,\n",
    "     25.3,31.6,27.3,33.0,32.6,30.7,29.6,34.7,32.7,43.1,40.1,35.4,49.6,38.6]\n",
    "\n",
    "Y = [-15.5,-8.5,0.8,-3.9,4.9,12.7,10.0,16.5,5.7,13.1,10.3,12.4,-1.5,\n",
    "     1.7,26.0,14.3,30.3,21.7,27.5,38.2,18.9,21.2,18.2,26.1,14.7,16.4,\n",
    "     22.8,34.3,37.1,38.9,39.1,33.8,52.2,36.5,20.7,21.6,14.5,33.6,44.5,44.2]\n"
   ]
  },
  {
   "cell_type": "code",
   "execution_count": 17,
   "metadata": {
    "collapsed": false
   },
   "outputs": [],
   "source": [
    "# Define your pearson correlation function here:\n",
    "\n",
    "def pearson_correlation(x, y):\n",
    "    x = np.array(x)\n",
    "    y = np.array(y)\n",
    "    \n",
    "    print len(x)\n",
    "    print len(y)\n",
    "    \n",
    "    X_mean = np.mean(x)\n",
    "    X_deviation = x - X_mean\n",
    "    \n",
    "    Y_mean = np.mean(y)\n",
    "    Y_deviation = y - Y_mean\n",
    "    \n",
    "    sqrt_X_deviation_sq =  np.sqrt(np.sum(X_deviation ** 2))\n",
    "    sqrt_Y_deviation_sq = np.sqrt(np.sum(Y_deviation **2))\n",
    "    \n",
    "    sum_XY_deviation = X_deviation.dot(Y_deviation)\n",
    "    \n",
    "    pearson = sum_XY_deviation / (sqrt_X_deviation_sq * sqrt_Y_deviation_sq)\n",
    "    \n",
    "    print pearson \n",
    "    \n",
    "    return pearson\n",
    "\n",
    "\n"
   ]
  },
  {
   "cell_type": "code",
   "execution_count": 18,
   "metadata": {
    "collapsed": false
   },
   "outputs": [
    {
     "name": "stdout",
     "output_type": "stream",
     "text": [
      "40\n",
      "40\n"
     ]
    }
   ],
   "source": [
    "    x = np.array(X)\n",
    "    y = np.array(Y)\n",
    "    \n",
    "    print len(x)\n",
    "    print len(y)\n",
    "    \n",
    "    X_mean = np.mean(x)\n",
    "    X_deviation = x - X_mean\n",
    "    \n",
    "    Y_mean = np.mean(y)\n",
    "    Y_deviation = y - Y_mean\n",
    "    \n",
    "    sqrt_X_deviation_sq =  np.sqrt(np.sum(X_deviation**2))\n",
    "    sqrt_Y_deviation_sq = np.sqrt(np.sum(Y_deviation **2))"
   ]
  },
  {
   "cell_type": "code",
   "execution_count": 19,
   "metadata": {
    "collapsed": false
   },
   "outputs": [
    {
     "data": {
      "text/plain": [
       "array([ 14.2,   5.8,   4.8,  12.7,   5.6,  -1.2,   5.3,  11.9,   4.8,\n",
       "         8.1,   1.5,   8.5,  14.9,   6.1,   6.8,  12.6,  15.5,  24.3,\n",
       "        15.6,  16.8,  22.3,  22.6,  26.2,  19. ,  24.3,  26.3,  25.3,\n",
       "        31.6,  27.3,  33. ,  32.6,  30.7,  29.6,  34.7,  32.7,  43.1,\n",
       "        40.1,  35.4,  49.6,  38.6])"
      ]
     },
     "execution_count": 19,
     "metadata": {},
     "output_type": "execute_result"
    }
   ],
   "source": [
    "x"
   ]
  },
  {
   "cell_type": "code",
   "execution_count": 20,
   "metadata": {
    "collapsed": false
   },
   "outputs": [
    {
     "data": {
      "text/plain": [
       "array([-15.5,  -8.5,   0.8,  -3.9,   4.9,  12.7,  10. ,  16.5,   5.7,\n",
       "        13.1,  10.3,  12.4,  -1.5,   1.7,  26. ,  14.3,  30.3,  21.7,\n",
       "        27.5,  38.2,  18.9,  21.2,  18.2,  26.1,  14.7,  16.4,  22.8,\n",
       "        34.3,  37.1,  38.9,  39.1,  33.8,  52.2,  36.5,  20.7,  21.6,\n",
       "        14.5,  33.6,  44.5,  44.2])"
      ]
     },
     "execution_count": 20,
     "metadata": {},
     "output_type": "execute_result"
    }
   ],
   "source": [
    "y"
   ]
  },
  {
   "cell_type": "code",
   "execution_count": 21,
   "metadata": {
    "collapsed": false
   },
   "outputs": [
    {
     "data": {
      "text/plain": [
       "21648.66"
      ]
     },
     "execution_count": 21,
     "metadata": {},
     "output_type": "execute_result"
    }
   ],
   "source": [
    "np.sum(x*y)"
   ]
  },
  {
   "cell_type": "code",
   "execution_count": 22,
   "metadata": {
    "collapsed": false
   },
   "outputs": [
    {
     "data": {
      "text/plain": [
       "21648.66"
      ]
     },
     "execution_count": 22,
     "metadata": {},
     "output_type": "execute_result"
    }
   ],
   "source": [
    "x.dot(y)"
   ]
  },
  {
   "cell_type": "code",
   "execution_count": 23,
   "metadata": {
    "collapsed": false
   },
   "outputs": [
    {
     "data": {
      "text/plain": [
       "21648.66"
      ]
     },
     "execution_count": 23,
     "metadata": {},
     "output_type": "execute_result"
    }
   ],
   "source": [
    "sum(np.multiply(x, y))"
   ]
  },
  {
   "cell_type": "code",
   "execution_count": 24,
   "metadata": {
    "collapsed": false
   },
   "outputs": [
    {
     "name": "stdout",
     "output_type": "stream",
     "text": [
      "21648.66\n"
     ]
    }
   ],
   "source": [
    "partial_sum = 0\n",
    "for ii in range(len(x)):\n",
    "    partial_sum = partial_sum + x[ii] * y[ii]\n",
    "print partial_sum"
   ]
  },
  {
   "cell_type": "code",
   "execution_count": 25,
   "metadata": {
    "collapsed": false
   },
   "outputs": [],
   "source": [
    "z = np.sum([el1* el2 for el1, el2 in zip(x,y)])"
   ]
  },
  {
   "cell_type": "code",
   "execution_count": 26,
   "metadata": {
    "collapsed": false
   },
   "outputs": [
    {
     "data": {
      "text/plain": [
       "21648.66"
      ]
     },
     "execution_count": 26,
     "metadata": {},
     "output_type": "execute_result"
    }
   ],
   "source": [
    "z"
   ]
  },
  {
   "cell_type": "code",
   "execution_count": 27,
   "metadata": {
    "collapsed": false
   },
   "outputs": [
    {
     "name": "stdout",
     "output_type": "stream",
     "text": [
      "40\n",
      "40\n",
      "0.659990523006\n"
     ]
    },
    {
     "data": {
      "text/plain": [
       "0.6599905230062455"
      ]
     },
     "execution_count": 27,
     "metadata": {},
     "output_type": "execute_result"
    }
   ],
   "source": [
    "pearson_correlation(X,Y)"
   ]
  },
  {
   "cell_type": "code",
   "execution_count": 28,
   "metadata": {
    "collapsed": false
   },
   "outputs": [
    {
     "data": {
      "text/plain": [
       "0.65999052300624572"
      ]
     },
     "execution_count": 28,
     "metadata": {},
     "output_type": "execute_result"
    }
   ],
   "source": [
    "np.corrcoef(X, Y)[0,1]"
   ]
  },
  {
   "cell_type": "code",
   "execution_count": null,
   "metadata": {
    "collapsed": true
   },
   "outputs": [],
   "source": []
  }
 ],
 "metadata": {
  "anaconda-cloud": {},
  "kernelspec": {
   "display_name": "Python [default]",
   "language": "python",
   "name": "python2"
  },
  "language_info": {
   "codemirror_mode": {
    "name": "ipython",
    "version": 2
   },
   "file_extension": ".py",
   "mimetype": "text/x-python",
   "name": "python",
   "nbconvert_exporter": "python",
   "pygments_lexer": "ipython2",
   "version": "2.7.12"
  }
 },
 "nbformat": 4,
 "nbformat_minor": 0
}
