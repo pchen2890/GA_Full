{
 "cells": [
  {
   "cell_type": "markdown",
   "metadata": {},
   "source": [
    "### Review problem 6 (hard)\n",
    "\n",
    "For this problem you will be defining a function that calculates the **spearman correlation coefficient** between two lists. The spearman correlation is a measure of how related two sets of numbers are.\n",
    "\n",
    "Your function should:\n",
    "\n",
    "- Accept two provided lists of numbers, ```X``` and ```Y```\n",
    "- Print the length of ```X``` and ```Y``` using the ```len()``` function, like so:\n",
    "    ```python\n",
    "    Length of X: 40\n",
    "    Length of Y: 40\n",
    "    ```\n",
    "- Calculate the **rank** of the numbers in the ```X``` and ```Y``` lists. The **rank** is a number that defines what index position each number would be if the list were in order.\n",
    "    - For example: say ```list1 = [5,2,0,9,-5]```, then ```list1_rank = [3,2,1,4,0]```\n",
    "    - Calculating the rank is not trivial. You can use the ```rankdata()``` function from ```scipy.stats``` on a list to get the ranks of the numbers.\n",
    "    - Assign the rank of list ```X``` to ```X_rank``` and list ```Y``` to ```Y_rank```\n",
    "- Calculate the **covariance between ```X_rank``` and ```Y_rank```** as ```XY_rank_cov```:\n",
    "    - The **covariance** is a measure of the \"relatedness\" between two lists of variables.\n",
    "    - To calculate the covariance between these two lists:\n",
    "        1. Calculate ```X_mean```: the mean of ```X_rank``` using ```np.mean()```\n",
    "        2. Calculate ```Y_mean```: the mean of ```Y_rank``` using ```np.mean()```\n",
    "        3. Calculate ```X_deviation```: subtract ```X_mean``` from each element of ```X_rank```\n",
    "        4. Calculate ```Y_deviation```: subtract ```Y_mean``` from each element of ```Y_rank```\n",
    "        5. Calculate ```XY_d```: multiply ```X_deviation``` with ```Y_deviation```, **element by element**. You can use pythons ```zip()``` function to iterate across lists at the same time:\n",
    "            ```python\n",
    "            for xd, yd in zip(X_deviation, Y_deviation):\n",
    "            ```\n",
    "        6. Calculate ```sum_XY_d```: the sum of the elements in ```XY_d``` with ```np.sum()```\n",
    "        7. Calculate ```XY_rank_cov```: divide ```sum_XY_d``` by ```len(XY_d)```\n",
    "- Calculate the standard deviations ```X_rank_std``` and ```Y_rank_std``` of the ```X_rank``` and ```Y_rank``` lists using ```np.std()```\n",
    "- Calculate the **spearman rank correlation coefficient** as ```XY_spearman```: divide ```XY_rank_cov``` by ```(X_rank_std * Y_rank_std)```\n",
    "- Print ```XY_spearman```\n",
    "- Compare your value to the scipy function for spearman: print out ```spearmanr(X, Y)```"
   ]
  },
  {
   "cell_type": "code",
   "execution_count": 16,
   "metadata": {
    "collapsed": true
   },
   "outputs": [],
   "source": [
    "import numpy as np\n",
    "from scipy import stats\n",
    "from scipy.stats import spearmanr\n",
    "\n",
    "X = [14.2,5.8,4.8,12.7,5.6,-1.2,5.3,11.9,4.8,8.1,1.5,8.5,14.9,6.1,\n",
    "     6.8,12.6,15.5,24.3,15.6,16.8,22.3,22.6,26.2,19.0,24.3,26.3,\n",
    "     25.3,31.6,27.3,33.0,32.6,30.7,29.6,34.7,32.7,43.1,40.1,35.4,49.6,38.6]\n",
    "\n",
    "Y = [-15.5,-8.5,0.8,-3.9,4.9,12.7,10.0,16.5,5.7,13.1,10.3,12.4,-1.5,\n",
    "     1.7,26.0,14.3,30.3,21.7,27.5,38.2,18.9,21.2,18.2,26.1,14.7,16.4,\n",
    "     22.8,34.3,37.1,38.9,39.1,33.8,52.2,36.5,20.7,21.6,14.5,33.6,44.5,44.2]\n"
   ]
  },
  {
   "cell_type": "code",
   "execution_count": 46,
   "metadata": {
    "collapsed": false
   },
   "outputs": [],
   "source": [
    "# Create your function for spearman here:\n",
    "\n",
    "def spearmans(X, Y):\n",
    "    print('Length of x: {:d}'.format(len(X)))\n",
    "    print('Length of y: {:d}'.format(len(Y)))\n",
    "    \n",
    "    x = np.array(X)\n",
    "    y = np.array(Y)\n",
    "    \n",
    "    x_rank = stats.rankdata(x)\n",
    "    y_rank = stats.rankdata(y)\n",
    "    \n",
    "    x_rank_std = np.std(x_rank)\n",
    "    y_rank_std = np.std(y_rank)\n",
    "    \n",
    "    x_mean = np.mean(x_rank)\n",
    "    y_mean = np.mean(y_rank)\n",
    "    \n",
    "    x_deviation = np.subtract(x_rank, x_mean)\n",
    "    y_deviation = np.subtract(y_rank, y_mean)\n",
    "    \n",
    "    print '(x, y)'\n",
    "    print (x, y)\n",
    "    print (x_rank, y_rank)\n",
    "    print (x_mean, y_mean)\n",
    "    print (x_deviation, y_deviation)\n",
    "    print (x_rank_std, y_rank_std)\n",
    "    \n",
    "    xy_d = x_deviation * y_deviation\n",
    "    print 'xy_d'\n",
    "    print xy_d\n",
    "    sum_xy_d = np.sum(xy_d)\n",
    "    print 'sum_xy_d'\n",
    "    print sum_xy_d\n",
    "    xy_rank_cov = sum_xy_d / len(xy_d)\n",
    "    print 'xy_rank_cov'\n",
    "    print xy_rank_cov\n",
    "    \n",
    "    xy_spearman = xy_rank_cov / (x_rank_std * y_rank_std)\n",
    "    return xy_spearman"
   ]
  },
  {
   "cell_type": "code",
   "execution_count": 48,
   "metadata": {
    "collapsed": false
   },
   "outputs": [
    {
     "name": "stdout",
     "output_type": "stream",
     "text": [
      "Length of x: 40\n",
      "Length of y: 40\n",
      "(x, y)\n",
      "(array([ 14.2,   5.8,   4.8,  12.7,   5.6,  -1.2,   5.3,  11.9,   4.8,\n",
      "         8.1,   1.5,   8.5,  14.9,   6.1,   6.8,  12.6,  15.5,  24.3,\n",
      "        15.6,  16.8,  22.3,  22.6,  26.2,  19. ,  24.3,  26.3,  25.3,\n",
      "        31.6,  27.3,  33. ,  32.6,  30.7,  29.6,  34.7,  32.7,  43.1,\n",
      "        40.1,  35.4,  49.6,  38.6]), array([-15.5,  -8.5,   0.8,  -3.9,   4.9,  12.7,  10. ,  16.5,   5.7,\n",
      "        13.1,  10.3,  12.4,  -1.5,   1.7,  26. ,  14.3,  30.3,  21.7,\n",
      "        27.5,  38.2,  18.9,  21.2,  18.2,  26.1,  14.7,  16.4,  22.8,\n",
      "        34.3,  37.1,  38.9,  39.1,  33.8,  52.2,  36.5,  20.7,  21.6,\n",
      "        14.5,  33.6,  44.5,  44.2]))\n",
      "(array([ 15. ,   7. ,   3.5,  14. ,   6. ,   1. ,   5. ,  12. ,   3.5,\n",
      "        10. ,   2. ,  11. ,  16. ,   8. ,   9. ,  13. ,  17. ,  23.5,\n",
      "        18. ,  19. ,  21. ,  22. ,  26. ,  20. ,  23.5,  27. ,  25. ,\n",
      "        31. ,  28. ,  34. ,  32. ,  30. ,  29. ,  35. ,  33. ,  39. ,\n",
      "        38. ,  36. ,  40. ,  37. ]), array([  1.,   2.,   5.,   3.,   7.,  12.,   9.,  18.,   8.,  13.,  10.,\n",
      "        11.,   4.,   6.,  26.,  14.,  29.,  24.,  28.,  35.,  20.,  22.,\n",
      "        19.,  27.,  16.,  17.,  25.,  32.,  34.,  36.,  37.,  31.,  40.,\n",
      "        33.,  21.,  23.,  15.,  30.,  39.,  38.]))\n",
      "(20.5, 20.5)\n",
      "(array([ -5.5, -13.5, -17. ,  -6.5, -14.5, -19.5, -15.5,  -8.5, -17. ,\n",
      "       -10.5, -18.5,  -9.5,  -4.5, -12.5, -11.5,  -7.5,  -3.5,   3. ,\n",
      "        -2.5,  -1.5,   0.5,   1.5,   5.5,  -0.5,   3. ,   6.5,   4.5,\n",
      "        10.5,   7.5,  13.5,  11.5,   9.5,   8.5,  14.5,  12.5,  18.5,\n",
      "        17.5,  15.5,  19.5,  16.5]), array([-19.5, -18.5, -15.5, -17.5, -13.5,  -8.5, -11.5,  -2.5, -12.5,\n",
      "        -7.5, -10.5,  -9.5, -16.5, -14.5,   5.5,  -6.5,   8.5,   3.5,\n",
      "         7.5,  14.5,  -0.5,   1.5,  -1.5,   6.5,  -4.5,  -3.5,   4.5,\n",
      "        11.5,  13.5,  15.5,  16.5,  10.5,  19.5,  12.5,   0.5,   2.5,\n",
      "        -5.5,   9.5,  18.5,  17.5]))\n",
      "(11.542313459614585, 11.543396380615196)\n",
      "xy_d\n",
      "[  1.07250000e+02   2.49750000e+02   2.63500000e+02   1.13750000e+02\n",
      "   1.95750000e+02   1.65750000e+02   1.78250000e+02   2.12500000e+01\n",
      "   2.12500000e+02   7.87500000e+01   1.94250000e+02   9.02500000e+01\n",
      "   7.42500000e+01   1.81250000e+02  -6.32500000e+01   4.87500000e+01\n",
      "  -2.97500000e+01   1.05000000e+01  -1.87500000e+01  -2.17500000e+01\n",
      "  -2.50000000e-01   2.25000000e+00  -8.25000000e+00  -3.25000000e+00\n",
      "  -1.35000000e+01  -2.27500000e+01   2.02500000e+01   1.20750000e+02\n",
      "   1.01250000e+02   2.09250000e+02   1.89750000e+02   9.97500000e+01\n",
      "   1.65750000e+02   1.81250000e+02   6.25000000e+00   4.62500000e+01\n",
      "  -9.62500000e+01   1.47250000e+02   3.60750000e+02   2.88750000e+02]\n",
      "sum_xy_d\n",
      "3847.5\n",
      "xy_rank_cov\n",
      "96.1875\n",
      "spearman correlation coefficient: 0.721925\n"
     ]
    },
    {
     "data": {
      "text/plain": [
       "(0.72192513686692761,\n",
       " SpearmanrResult(correlation=0.72192513686692761, pvalue=1.4606957738616958e-07))"
      ]
     },
     "execution_count": 48,
     "metadata": {},
     "output_type": "execute_result"
    }
   ],
   "source": [
    "s = spearmans(X, Y)\n",
    "s_test = spearmanr(X, Y)\n",
    "print 'spearman correlation coefficient: {:f}'.format(s)\n",
    "(s, s_test)"
   ]
  },
  {
   "cell_type": "code",
   "execution_count": null,
   "metadata": {
    "collapsed": true
   },
   "outputs": [],
   "source": []
  }
 ],
 "metadata": {
  "kernelspec": {
   "display_name": "Python [default]",
   "language": "python",
   "name": "python2"
  },
  "language_info": {
   "codemirror_mode": {
    "name": "ipython",
    "version": 2
   },
   "file_extension": ".py",
   "mimetype": "text/x-python",
   "name": "python",
   "nbconvert_exporter": "python",
   "pygments_lexer": "ipython2",
   "version": "2.7.12"
  }
 },
 "nbformat": 4,
 "nbformat_minor": 0
}
