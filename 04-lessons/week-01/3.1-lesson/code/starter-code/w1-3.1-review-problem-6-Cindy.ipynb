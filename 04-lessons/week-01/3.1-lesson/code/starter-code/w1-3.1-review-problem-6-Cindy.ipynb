{
 "cells": [
  {
   "cell_type": "code",
   "execution_count": 7,
   "metadata": {
    "collapsed": false
   },
   "outputs": [
    {
     "name": "stdout",
     "output_type": "stream",
     "text": [
      "\n"
     ]
    }
   ],
   "source": [
    "import numpy as np\n",
    "from scipy.stats import spearmanr\n",
    "from scipy.stats import rankdata\n",
    "\n",
    "X = [14.2,5.8,4.8,12.7,5.6,-1.2,5.3,11.9,4.8,8.1,1.5,8.5,14.9,6.1,\n",
    "     6.8,12.6,15.5,24.3,15.6,16.8,22.3,22.6,26.2,19.0,24.3,26.3,\n",
    "     25.3,31.6,27.3,33.0,32.6,30.7,29.6,34.7,32.7,43.1,40.1,35.4,49.6,38.6]\n",
    "\n",
    "Y = [-15.5,-8.5,0.8,-3.9,4.9,12.7,10.0,16.5,5.7,13.1,10.3,12.4,-1.5,\n",
    "     1.7,26.0,14.3,30.3,21.7,27.5,38.2,18.9,21.2,18.2,26.1,14.7,16.4,\n",
    "     22.8,34.3,37.1,38.9,39.1,33.8,52.2,36.5,20.7,21.6,14.5,33.6,44.5,44.2]"
   ]
  },
  {
   "cell_type": "code",
   "execution_count": 31,
   "metadata": {
    "collapsed": false
   },
   "outputs": [
    {
     "name": "stdout",
     "output_type": "stream",
     "text": [
      "The length of x is :  40\n",
      "The length of y is :  40\n",
      "0.721925136867\n",
      "the scipy spearman is :  SpearmanrResult(correlation=0.72192513686692761, pvalue=1.4606957738616958e-07)\n"
     ]
    }
   ],
   "source": [
    "# Create your function for spearman here:\n",
    "def spearman_correlation(x,y):\n",
    "    print 'The length of x is : ', len(x)\n",
    "    print 'The length of y is : ', len(y)\n",
    "    \n",
    "    #calculate the rank of the numbers\n",
    "    \n",
    "    X_rank = rankdata(x)\n",
    "    #print 'X_rank is :', X_rank\n",
    "    Y_rank = rankdata(y)\n",
    "    #print 'Y_rank is : ', Y_rank\n",
    "    \n",
    "    #Calculate the covariance between X_rank and Y_rank as XY_rank_cov\n",
    "    X_mean = np.mean(X_rank)\n",
    "    #print 'X_mean is :', X_mean\n",
    "    Y_mean = np.mean(Y_rank)\n",
    "    #print 'Y_mean is :', Y_mean\n",
    "    X_deviation = X_rank - X_mean\n",
    "    #print 'X_deviation is :', X_deviation\n",
    "    Y_deviation = Y_rank - Y_mean\n",
    "    #print 'Y_deviation is :', Y_deviation\n",
    "    #XY_rank_cov =\n",
    "    \n",
    "    #test using multiply\n",
    "    #XY_d = np.multiply(X_deviation, Y_deviation)\n",
    "    #print 'XY_d is : ', XY_d\n",
    "    \n",
    "    XY_d = np.empty_like(X_deviation)\n",
    "    n = 0\n",
    "    for xd, yd in zip(X_deviation, Y_deviation):\n",
    "        XY_d[n] = xd*yd\n",
    "        n += 1\n",
    "            \n",
    "    #print 'XY_d is : ', XY_d   \n",
    "    \n",
    "    #Calculate sum_XY_d: the sum of the elements in XY_d with np.sum()\n",
    "    sum_XY_d = np.sum(XY_d)\n",
    "    #print 'The sum is :', sum_XY_d\n",
    "    \n",
    "    #Calculate XY_rank_cov: divide sum_XY_d by len(XY_d)\n",
    "    XY_rank_cov = sum_XY_d/(len(XY_d))\n",
    "    #print 'XY_rank_cov is : ', XY_rank_cov\n",
    "    \n",
    "    #Calculate the standard deviations X_rank_std and Y_rank_std of \n",
    "    #the X_rank and Y_rank lists using np.std()\n",
    "    \n",
    "    X_rank_std = np.std(X_rank)\n",
    "    Y_rank_std = np.std(Y_rank)\n",
    "    \n",
    "    #print 'X_rank_std = ', X_rank_std\n",
    "    #print 'Y_rank_std = ', Y_rank_std\n",
    "    \n",
    "    #Calculate the spearman rank correlation coefficient as XY_spearman: \n",
    "    #divide XY_rank_cov by (X_rank_std * Y_rank_std)\n",
    "    \n",
    "    XY_spearman = XY_rank_cov/(X_rank_std * Y_rank_std)\n",
    "    \n",
    "    #print 'XY_spearman = ', XY_spearman\n",
    "    return XY_spearman\n",
    "    \n",
    "\n",
    "print spearman_correlation(X,Y)  \n",
    "\n",
    "\n",
    "#Compare your value to the scipy function for spearman: print out spearmanr(X, Y)\n",
    "print 'the scipy spearman is : ', spearmanr(X, Y)"
   ]
  },
  {
   "cell_type": "code",
   "execution_count": null,
   "metadata": {
    "collapsed": true
   },
   "outputs": [],
   "source": []
  }
 ],
 "metadata": {
  "kernelspec": {
   "display_name": "Python [conda env:test]",
   "language": "python",
   "name": "conda-env-test-py"
  },
  "language_info": {
   "codemirror_mode": {
    "name": "ipython",
    "version": 2
   },
   "file_extension": ".py",
   "mimetype": "text/x-python",
   "name": "python",
   "nbconvert_exporter": "python",
   "pygments_lexer": "ipython2",
   "version": "2.7.12"
  }
 },
 "nbformat": 4,
 "nbformat_minor": 1
}
