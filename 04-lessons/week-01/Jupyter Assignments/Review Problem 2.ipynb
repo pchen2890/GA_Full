{
 "cells": [
  {
   "cell_type": "code",
   "execution_count": 1,
   "metadata": {
    "collapsed": true
   },
   "outputs": [],
   "source": [
    "test_dict = {'A':[1,2,3,4,5], 'B':[12.1, 14.2, 20.3, 25.4], 'C':[10, 25.5, 50.9, 101]}\n",
    "optional_remainder = [2,3,4,5]\n",
    "\n",
    "# 1. Run the function with the default keyword argument\n",
    "# 2. Run the function assigning the default keyword argument to the optional list"
   ]
  },
  {
   "cell_type": "code",
   "execution_count": 9,
   "metadata": {
    "collapsed": false
   },
   "outputs": [
    {
     "name": "stdout",
     "output_type": "stream",
     "text": [
      "{'A': [1, 2, 3, 4, 5], 'C': [10, 25.5, 50.9, 101], 'B': [12.1, 14.2, 20.3, 25.4]}\n",
      "[2, 3, 4, 5]\n"
     ]
    }
   ],
   "source": [
    "print test_dict\n",
    "print optional_remainder"
   ]
  },
  {
   "cell_type": "code",
   "execution_count": 39,
   "metadata": {
    "collapsed": false
   },
   "outputs": [
    {
     "data": {
      "text/plain": [
       "{1: 1,\n",
       " 2: 2,\n",
       " 3: 3,\n",
       " 4: 4,\n",
       " 5: 0,\n",
       " 10: 0,\n",
       " 12.1: 2.0999999999999996,\n",
       " 14.2: 4.199999999999999,\n",
       " 20.3: 0.3000000000000007,\n",
       " 25.4: 0.3999999999999986,\n",
       " 25.5: 0.5,\n",
       " 50.9: 0.8999999999999986,\n",
       " 101: 1}"
      ]
     },
     "execution_count": 39,
     "metadata": {},
     "output_type": "execute_result"
    }
   ],
   "source": [
    "new_dict={}\n",
    "for i in test_dict:\n",
    "    for dict_num in test_dict[i]:\n",
    "        for rem in optional_remainder:\n",
    "            new_dict[dict_num]=dict_num%rem\n",
    "new_dict"
   ]
  },
  {
   "cell_type": "code",
   "execution_count": 2,
   "metadata": {
    "collapsed": true
   },
   "outputs": [],
   "source": [
    "def q2_func(d, remainder=[]):\n",
    "    if len(remainder) == 0:\n",
    "        remainder.append(2)\n",
    "    print(d)\n",
    "    print(remainder)\n",
    "    for key, values in d.items():\n",
    "        remainders_of_values = {}\n",
    "        for v in values:\n",
    "            current_value_remainders = []\n",
    "            for r in remainder:\n",
    "                current_value_remainders.append(v % r)\n",
    "            remainders_of_values[v] = current_value_remainders\n",
    "        d[key] = remainders_of_values\n",
    "    print(d)\n",
    "    return(d)\n",
    "                "
   ]
  },
  {
   "cell_type": "code",
   "execution_count": null,
   "metadata": {
    "collapsed": true
   },
   "outputs": [],
   "source": []
  }
 ],
 "metadata": {
  "anaconda-cloud": {},
  "kernelspec": {
   "display_name": "Python [conda env:dsienv]",
   "language": "python",
   "name": "conda-env-dsienv-py"
  },
  "language_info": {
   "codemirror_mode": {
    "name": "ipython",
    "version": 2
   },
   "file_extension": ".py",
   "mimetype": "text/x-python",
   "name": "python",
   "nbconvert_exporter": "python",
   "pygments_lexer": "ipython2",
   "version": "2.7.12"
  }
 },
 "nbformat": 4,
 "nbformat_minor": 1
}
