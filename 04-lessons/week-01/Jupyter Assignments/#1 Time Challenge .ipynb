{
 "cells": [
  {
   "cell_type": "code",
   "execution_count": 49,
   "metadata": {
    "collapsed": false
   },
   "outputs": [
    {
     "name": "stdout",
     "output_type": "stream",
     "text": [
      "\n",
      "\n",
      "\n",
      "\n",
      "\n",
      "\n",
      "\n",
      "\n",
      "\n",
      "\n",
      "\n",
      "\n",
      "\n",
      "\n",
      "\n",
      "\n",
      "\n",
      "\n",
      "\n",
      "\n",
      "\n",
      "\n",
      "\n",
      "\n",
      "\n",
      "\n",
      "\n",
      "\n",
      "\n",
      "\n",
      "\n",
      "\n",
      "\n",
      "\n",
      "\n"
     ]
    }
   ],
   "source": [
    "# MIN HAND every 1degree = 0.1 sec = 360/3600\n",
    "# HOUR HAND every 1degree = 120 sec = 360/12\n",
    "# 12 hours = 720 min = 43200 sec\n",
    "\n",
    "m = .1\n",
    "h = 120.\n",
    "\n",
    "\n",
    "\n",
    "for i in range(43200):\n",
    "    minhand = i*m\n",
    "    if minhand == h:\n",
    "        print \n",
    "        h = h+120.\n",
    "\n",
    "    \n",
    "# if (m*i) == (h*i):\n",
    "#         print str(h*i) + 'working'\n",
    "#     else:\n",
    "#         print str(h*i) + 'not working'\n",
    "        \n",
    "        \n",
    "\n",
    "# def minhand(x):\n",
    "#     for i in range(240):\n",
    "#         i*m\n",
    "        \n",
    "# def hourhand(y):\n",
    "#     for i in range(240):\n",
    "#         i*h\n",
    "\n",
    "        \n",
    "\n",
    "\n",
    "\n"
   ]
  },
  {
   "cell_type": "code",
   "execution_count": null,
   "metadata": {
    "collapsed": true
   },
   "outputs": [],
   "source": []
  }
 ],
 "metadata": {
  "kernelspec": {
   "display_name": "Python [default]",
   "language": "python",
   "name": "python2"
  },
  "language_info": {
   "codemirror_mode": {
    "name": "ipython",
    "version": 2
   },
   "file_extension": ".py",
   "mimetype": "text/x-python",
   "name": "python",
   "nbconvert_exporter": "python",
   "pygments_lexer": "ipython2",
   "version": "2.7.12"
  }
 },
 "nbformat": 4,
 "nbformat_minor": 1
}
