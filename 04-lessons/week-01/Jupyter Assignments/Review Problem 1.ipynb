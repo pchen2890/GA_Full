{
 "cells": [
  {
   "cell_type": "code",
   "execution_count": 1,
   "metadata": {
    "collapsed": true
   },
   "outputs": [],
   "source": [
    "import string"
   ]
  },
  {
   "cell_type": "code",
   "execution_count": 66,
   "metadata": {
    "collapsed": false
   },
   "outputs": [],
   "source": [
    "input_dict = {'list':[1,2,3,4], \n",
    "              'tuple':('cat', 'dog'), \n",
    "              'integer':1, \n",
    "              'float':99.99, \n",
    "              1:'integer', \n",
    "              2:'integer_2', \n",
    "              'Uppercase_string':'ABCD',\n",
    "              'CHARACTER':'C'}"
   ]
  },
  {
   "cell_type": "code",
   "execution_count": 69,
   "metadata": {
    "collapsed": false
   },
   "outputs": [
    {
     "data": {
      "text/plain": [
       "{'float': 'consonant',\n",
       " 'integer': 'vowel',\n",
       " 'list': 'consonant',\n",
       " 'tuple': 'consonant'}"
      ]
     },
     "execution_count": 69,
     "metadata": {},
     "output_type": "execute_result"
    }
   ],
   "source": [
    "# # For pairs where the key starts with a lowercase vowel, change the value to \"vowel\".\n",
    "# # For pairs where the key starts with a lowercase consonant, change the value to \"consonant\".\n",
    "# # Remove all other pairs from the dictionary.\n",
    "\n",
    "def mod_dict(input_dict):\n",
    "    new_dict = {}\n",
    "\n",
    "    for i in input_dict:\n",
    "        if type(i)== str:\n",
    "            if i.lower()==i:\n",
    "                if i[0]==\"a\" or i[0]== \"e\"or i[0]== \"i\"or i[0]== \"u\":\n",
    "                    new_dict[i] = \"vowel\"\n",
    "                else:\n",
    "                    new_dict[i]=\"consonant\"\n",
    "    return new_dict\n",
    "                \n",
    "mod_dict(input_dict)"
   ]
  },
  {
   "cell_type": "code",
   "execution_count": 64,
   "metadata": {
    "collapsed": false
   },
   "outputs": [],
   "source": [
    "# from string import ascii_lowercase as lower\n",
    "# input_dict = {'list':[1,2,3,4], \n",
    "#               'tuple':('cat', 'dog'), \n",
    "#               'integer':1, \n",
    "#               'float':99.99, \n",
    "#               1:'integer', \n",
    "#               2:'integer_2', \n",
    "#               'Uppercase_string':'ABCD',\n",
    "#               'CHARACTER':'C'}\n",
    "# vowels = \"aeiou\"\n",
    "\n",
    "# def problem1(dict_in):\n",
    "#     print dict_in\n",
    "#     for key in dict_in:\n",
    "#         if key[0] in vowels:\n",
    "#             dict_in[key]=\"vowel\"\n",
    "#         elif (key[0] in lower) and key[0 not in vowels]:\n",
    "#             dict_in[key]=\"consonant\"\n",
    "#         else:\n",
    "#             del dict_in[key]\n",
    "#         print dict_in\n",
    "#         return dict_in\n",
    "    \n",
    "# problem1(input_dict)"
   ]
  },
  {
   "cell_type": "code",
   "execution_count": 72,
   "metadata": {
    "collapsed": false
   },
   "outputs": [
    {
     "data": {
      "text/plain": [
       "{'float': 'consonant',\n",
       " 'integer': 'vowel',\n",
       " 'list': 'consonant',\n",
       " 'tuple': 'consonant'}"
      ]
     },
     "execution_count": 72,
     "metadata": {},
     "output_type": "execute_result"
    }
   ],
   "source": [
    "def mod_dict(input_dict):\n",
    "    new_dict = {}\n",
    "    vowels = \"aeiou\"\n",
    "    for i in input_dict:\n",
    "        if type(i)== str:\n",
    "            if i.lower()==i:\n",
    "                if i[0] in vowels:\n",
    "                    new_dict[i] = \"vowel\"\n",
    "                else:\n",
    "                    new_dict[i]=\"consonant\"\n",
    "    return new_dict\n",
    "                \n",
    "mod_dict(input_dict)"
   ]
  },
  {
   "cell_type": "code",
   "execution_count": null,
   "metadata": {
    "collapsed": true
   },
   "outputs": [],
   "source": []
  }
 ],
 "metadata": {
  "anaconda-cloud": {},
  "kernelspec": {
   "display_name": "Python [conda env:dsienv]",
   "language": "python",
   "name": "conda-env-dsienv-py"
  },
  "language_info": {
   "codemirror_mode": {
    "name": "ipython",
    "version": 2
   },
   "file_extension": ".py",
   "mimetype": "text/x-python",
   "name": "python",
   "nbconvert_exporter": "python",
   "pygments_lexer": "ipython2",
   "version": "2.7.12"
  }
 },
 "nbformat": 4,
 "nbformat_minor": 1
}
