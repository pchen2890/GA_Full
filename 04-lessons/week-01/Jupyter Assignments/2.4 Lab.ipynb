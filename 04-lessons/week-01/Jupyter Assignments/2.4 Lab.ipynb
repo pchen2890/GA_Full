{
 "cells": [
  {
   "cell_type": "code",
   "execution_count": 1,
   "metadata": {
    "collapsed": true
   },
   "outputs": [],
   "source": [
    "movies = [\n",
    "{\n",
    "\"name\": \"Usual Suspects\", \n",
    "\"imdb\": 7.0,\n",
    "\"category\": \"Thriller\"\n",
    "},\n",
    "{\n",
    "\"name\": \"Hitman\",\n",
    "\"imdb\": 6.3,\n",
    "\"category\": \"Action\"\n",
    "},\n",
    "{\n",
    "\"name\": \"Dark Knight\",\n",
    "\"imdb\": 9.0,\n",
    "\"category\": \"Adventure\"\n",
    "},\n",
    "{\n",
    "\"name\": \"The Help\",\n",
    "\"imdb\": 8.0,\n",
    "\"category\": \"Drama\"\n",
    "},\n",
    "{\n",
    "\"name\": \"The Choice\",\n",
    "\"imdb\": 6.2,\n",
    "\"category\": \"Romance\"\n",
    "},\n",
    "{\n",
    "\"name\": \"Colonia\",\n",
    "\"imdb\": 7.4,\n",
    "\"category\": \"Romance\"\n",
    "},\n",
    "{\n",
    "\"name\": \"Love\",\n",
    "\"imdb\": 6.0,\n",
    "\"category\": \"Romance\"\n",
    "},\n",
    "{\n",
    "\"name\": \"Bride Wars\",\n",
    "\"imdb\": 5.4,\n",
    "\"category\": \"Romance\"\n",
    "},\n",
    "{\n",
    "\"name\": \"AlphaJet\",\n",
    "\"imdb\": 3.2,\n",
    "\"category\": \"War\"\n",
    "},\n",
    "{\n",
    "\"name\": \"Ringing Crime\",\n",
    "\"imdb\": 4.0,\n",
    "\"category\": \"Crime\"\n",
    "},\n",
    "{\n",
    "\"name\": \"Joking muck\",\n",
    "\"imdb\": 7.2,\n",
    "\"category\": \"Comedy\"\n",
    "},\n",
    "{\n",
    "\"name\": \"What is the name\",\n",
    "\"imdb\": 9.2,\n",
    "\"category\": \"Suspense\"\n",
    "},\n",
    "{\n",
    "\"name\": \"Detective\",\n",
    "\"imdb\": 7.0,\n",
    "\"category\": \"Suspense\"\n",
    "},\n",
    "{\n",
    "\"name\": \"Exam\",\n",
    "\"imdb\": 4.2,\n",
    "\"category\": \"Thriller\"\n",
    "},\n",
    "{\n",
    "\"name\": \"We Two\",\n",
    "\"imdb\": 7.2,\n",
    "\"category\": \"Romance\"\n",
    "}\n",
    "]"
   ]
  },
  {
   "cell_type": "code",
   "execution_count": 74,
   "metadata": {
    "collapsed": false
   },
   "outputs": [
    {
     "name": "stdout",
     "output_type": "stream",
     "text": [
      "True\n"
     ]
    }
   ],
   "source": [
    "# Write a function that takes a single movie and \n",
    "# returns True if its IMDB score is above 5.5\n",
    "\n",
    "def p1(movie):\n",
    "    if movie [\"imdb\"]>5.5:\n",
    "        return True\n",
    "    \n",
    "print p1({\n",
    "\"name\": \"We Two\",\n",
    "\"imdb\": 7.2,\n",
    "\"category\": \"Romance\"\n",
    "})\n",
    "\n",
    "\n"
   ]
  },
  {
   "cell_type": "code",
   "execution_count": 72,
   "metadata": {
    "collapsed": false
   },
   "outputs": [
    {
     "data": {
      "text/plain": [
       "[{'category': 'Thriller', 'imdb': 7.0, 'name': 'Usual Suspects'},\n",
       " {'category': 'Action', 'imdb': 6.3, 'name': 'Hitman'},\n",
       " {'category': 'Adventure', 'imdb': 9.0, 'name': 'Dark Knight'},\n",
       " {'category': 'Drama', 'imdb': 8.0, 'name': 'The Help'},\n",
       " {'category': 'Romance', 'imdb': 6.2, 'name': 'The Choice'},\n",
       " {'category': 'Romance', 'imdb': 7.4, 'name': 'Colonia'},\n",
       " {'category': 'Romance', 'imdb': 6.0, 'name': 'Love'},\n",
       " {'category': 'Comedy', 'imdb': 7.2, 'name': 'Joking muck'},\n",
       " {'category': 'Suspense', 'imdb': 9.2, 'name': 'What is the name'},\n",
       " {'category': 'Suspense', 'imdb': 7.0, 'name': 'Detective'},\n",
       " {'category': 'Romance', 'imdb': 7.2, 'name': 'We Two'}]"
      ]
     },
     "execution_count": 72,
     "metadata": {},
     "output_type": "execute_result"
    }
   ],
   "source": [
    "# Write a function that returns a sublist of movies \n",
    "# with an IMDB score above 5.5. \n",
    "def p2(movies):\n",
    "    subcat=[]\n",
    "    for i in movies:\n",
    "        if i[\"imdb\"]>5.5:\n",
    "            subcat.append(i)\n",
    "    return subcat\n",
    "\n",
    "p2(movies)\n",
    "        "
   ]
  },
  {
   "cell_type": "code",
   "execution_count": 77,
   "metadata": {
    "collapsed": false
   },
   "outputs": [
    {
     "data": {
      "text/plain": [
       "'Usual Suspects'"
      ]
     },
     "execution_count": 77,
     "metadata": {},
     "output_type": "execute_result"
    }
   ],
   "source": [
    "# Write a function that takes a category name and returns \n",
    "# just those movies under that category.\n",
    "\n",
    "def p3(cat):\n",
    "    for i in range(15):\n",
    "        if movies[i][\"category\"]==cat:\n",
    "            return movies[i][\"name\"]\n",
    "\n",
    "p3(\"Thriller\")\n",
    "\n",
    "        "
   ]
  },
  {
   "cell_type": "code",
   "execution_count": 81,
   "metadata": {
    "collapsed": false
   },
   "outputs": [
    {
     "data": {
      "text/plain": [
       "6.486666666666667"
      ]
     },
     "execution_count": 81,
     "metadata": {},
     "output_type": "execute_result"
    }
   ],
   "source": [
    "# Write a function that takes a list of movies and computes \n",
    "# the average IMDB score.\n",
    "def p4(movies):\n",
    "    total_score = 0\n",
    "    for i in range(15):\n",
    "        total_score = total_score + movies[i][\"imdb\"]\n",
    "    return total_score/len(movies)\n",
    "p4(movies)"
   ]
  },
  {
   "cell_type": "code",
   "execution_count": 105,
   "metadata": {
    "collapsed": false
   },
   "outputs": [
    {
     "data": {
      "text/plain": [
       "5.6"
      ]
     },
     "execution_count": 105,
     "metadata": {},
     "output_type": "execute_result"
    }
   ],
   "source": [
    "# Write a function that takes a category and computes \n",
    "# the average IMDB score (HINT: reuse the function \n",
    "# from question 2.)\n",
    "\n",
    "def p5(movies,cat):\n",
    "    total_score = 0\n",
    "    bot=0\n",
    "    for i in range(15):\n",
    "        if movies[i][\"category\"]==cat:\n",
    "            total_score = total_score + movies[i][\"imdb\"]\n",
    "            bot=bot+1\n",
    "    return total_score/bot\n",
    "p5(movies,\"Thriller\")"
   ]
  },
  {
   "cell_type": "code",
   "execution_count": 86,
   "metadata": {
    "collapsed": true
   },
   "outputs": [],
   "source": [
    "def isgoodmovie(movie):\n",
    "    if movie[\"imdb\"] > 5.5:\n",
    "        return True\n",
    "    return False"
   ]
  },
  {
   "cell_type": "code",
   "execution_count": 88,
   "metadata": {
    "collapsed": false
   },
   "outputs": [
    {
     "data": {
      "text/plain": [
       "False"
      ]
     },
     "execution_count": 88,
     "metadata": {},
     "output_type": "execute_result"
    }
   ],
   "source": [
    "isgoodmovie(movies[-2])"
   ]
  },
  {
   "cell_type": "code",
   "execution_count": 95,
   "metadata": {
    "collapsed": false
   },
   "outputs": [
    {
     "data": {
      "text/plain": [
       "[{'category': 'Thriller', 'imdb': 7.0, 'name': 'Usual Suspects'},\n",
       " {'category': 'Action', 'imdb': 6.3, 'name': 'Hitman'},\n",
       " {'category': 'Adventure', 'imdb': 9.0, 'name': 'Dark Knight'},\n",
       " {'category': 'Drama', 'imdb': 8.0, 'name': 'The Help'},\n",
       " {'category': 'Romance', 'imdb': 6.2, 'name': 'The Choice'},\n",
       " {'category': 'Romance', 'imdb': 7.4, 'name': 'Colonia'},\n",
       " {'category': 'Romance', 'imdb': 6.0, 'name': 'Love'},\n",
       " {'category': 'Comedy', 'imdb': 7.2, 'name': 'Joking muck'},\n",
       " {'category': 'Suspense', 'imdb': 9.2, 'name': 'What is the name'},\n",
       " {'category': 'Suspense', 'imdb': 7.0, 'name': 'Detective'},\n",
       " {'category': 'Romance', 'imdb': 7.2, 'name': 'We Two'}]"
      ]
     },
     "execution_count": 95,
     "metadata": {},
     "output_type": "execute_result"
    }
   ],
   "source": [
    "def best_movies(movies):\n",
    "    returnlist = []\n",
    "    for movie in movies:\n",
    "        if isgoodmovie(movie):\n",
    "            returnlist.append(movie)\n",
    "    return returnlist\n",
    "\n",
    "best_movies(movies)"
   ]
  },
  {
   "cell_type": "code",
   "execution_count": 117,
   "metadata": {
    "collapsed": false
   },
   "outputs": [
    {
     "data": {
      "text/plain": [
       "[{'category': 'Thriller', 'imdb': 7.0, 'name': 'Usual Suspects'},\n",
       " {'category': 'Action', 'imdb': 6.3, 'name': 'Hitman'},\n",
       " {'category': 'Adventure', 'imdb': 9.0, 'name': 'Dark Knight'},\n",
       " {'category': 'Drama', 'imdb': 8.0, 'name': 'The Help'},\n",
       " {'category': 'Romance', 'imdb': 6.2, 'name': 'The Choice'},\n",
       " {'category': 'Romance', 'imdb': 7.4, 'name': 'Colonia'},\n",
       " {'category': 'Romance', 'imdb': 6.0, 'name': 'Love'},\n",
       " {'category': 'Romance', 'imdb': 5.4, 'name': 'Bride Wars'},\n",
       " {'category': 'War', 'imdb': 3.2, 'name': 'AlphaJet'},\n",
       " {'category': 'Crime', 'imdb': 4.0, 'name': 'Ringing Crime'},\n",
       " {'category': 'Comedy', 'imdb': 7.2, 'name': 'Joking muck'},\n",
       " {'category': 'Suspense', 'imdb': 9.2, 'name': 'What is the name'},\n",
       " {'category': 'Suspense', 'imdb': 7.0, 'name': 'Detective'},\n",
       " {'category': 'Thriller', 'imdb': 4.2, 'name': 'Exam'},\n",
       " {'category': 'Romance', 'imdb': 7.2, 'name': 'We Two'}]"
      ]
     },
     "execution_count": 117,
     "metadata": {},
     "output_type": "execute_result"
    }
   ],
   "source": [
    "def filtercategory(category,movieslist):\n",
    "    newlist =[]\n",
    "    for i in range(len(movieslist)):\n",
    "        if category == movieslist[i][\"category\"]:\n",
    "            newlist.append(movieslist[i])\n",
    "        return movieslist\n",
    "    \n",
    "filtercategory(\"Romance\", movies)\n"
   ]
  },
  {
   "cell_type": "code",
   "execution_count": 120,
   "metadata": {
    "collapsed": false
   },
   "outputs": [],
   "source": [
    "def categoryaverage(movies,category):\n",
    "    \n",
    "    "
   ]
  },
  {
   "cell_type": "code",
   "execution_count": 122,
   "metadata": {
    "collapsed": false
   },
   "outputs": [
    {
     "ename": "NameError",
     "evalue": "global name 'averagescore' is not defined",
     "output_type": "error",
     "traceback": [
      "\u001b[0;31m---------------------------------------------------------------------------\u001b[0m",
      "\u001b[0;31mNameError\u001b[0m                                 Traceback (most recent call last)",
      "\u001b[0;32m<ipython-input-122-1c25adfe486b>\u001b[0m in \u001b[0;36m<module>\u001b[0;34m()\u001b[0m\n\u001b[0;32m----> 1\u001b[0;31m \u001b[0mcategoryaverage\u001b[0m\u001b[0;34m(\u001b[0m\u001b[0mmovies\u001b[0m\u001b[0;34m,\u001b[0m\u001b[0;34m\"Thriller\"\u001b[0m\u001b[0;34m)\u001b[0m\u001b[0;34m\u001b[0m\u001b[0m\n\u001b[0m",
      "\u001b[0;32m<ipython-input-120-be73be25aff4>\u001b[0m in \u001b[0;36mcategoryaverage\u001b[0;34m(movies, category)\u001b[0m\n\u001b[1;32m      1\u001b[0m \u001b[0;32mdef\u001b[0m \u001b[0mcategoryaverage\u001b[0m\u001b[0;34m(\u001b[0m\u001b[0mmovies\u001b[0m\u001b[0;34m,\u001b[0m\u001b[0mcategory\u001b[0m\u001b[0;34m)\u001b[0m\u001b[0;34m:\u001b[0m\u001b[0;34m\u001b[0m\u001b[0m\n\u001b[1;32m      2\u001b[0m     \u001b[0mfilteredlist\u001b[0m \u001b[0;34m=\u001b[0m \u001b[0mfiltercategory\u001b[0m \u001b[0;34m(\u001b[0m\u001b[0mcategory\u001b[0m\u001b[0;34m,\u001b[0m \u001b[0mmovies\u001b[0m\u001b[0;34m)\u001b[0m\u001b[0;34m\u001b[0m\u001b[0m\n\u001b[0;32m----> 3\u001b[0;31m     \u001b[0;32mreturn\u001b[0m \u001b[0maveragescore\u001b[0m\u001b[0;34m(\u001b[0m\u001b[0mfilteredlist\u001b[0m\u001b[0;34m)\u001b[0m\u001b[0;34m\u001b[0m\u001b[0m\n\u001b[0m\u001b[1;32m      4\u001b[0m \u001b[0;34m\u001b[0m\u001b[0m\n\u001b[1;32m      5\u001b[0m \u001b[0;34m\u001b[0m\u001b[0m\n",
      "\u001b[0;31mNameError\u001b[0m: global name 'averagescore' is not defined"
     ]
    }
   ],
   "source": [
    "categoryaverage(movies,\"Thriller\")"
   ]
  },
  {
   "cell_type": "code",
   "execution_count": null,
   "metadata": {
    "collapsed": true
   },
   "outputs": [],
   "source": []
  }
 ],
 "metadata": {
  "anaconda-cloud": {},
  "kernelspec": {
   "display_name": "Python [conda env:dsienv]",
   "language": "python",
   "name": "conda-env-dsienv-py"
  },
  "language_info": {
   "codemirror_mode": {
    "name": "ipython",
    "version": 2
   },
   "file_extension": ".py",
   "mimetype": "text/x-python",
   "name": "python",
   "nbconvert_exporter": "python",
   "pygments_lexer": "ipython2",
   "version": "2.7.12"
  }
 },
 "nbformat": 4,
 "nbformat_minor": 1
}
