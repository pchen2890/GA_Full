{
 "cells": [
  {
   "cell_type": "code",
   "execution_count": 1,
   "metadata": {
    "collapsed": false,
    "slideshow": {
     "slide_type": "skip"
    }
   },
   "outputs": [
    {
     "name": "stderr",
     "output_type": "stream",
     "text": [
      "/Users/dyawitz/anaconda2/lib/python2.7/site-packages/matplotlib/font_manager.py:273: UserWarning: Matplotlib is building the font cache using fc-list. This may take a moment.\n",
      "  warnings.warn('Matplotlib is building the font cache using fc-list. This may take a moment.')\n"
     ]
    }
   ],
   "source": [
    "import pandas as pd\n",
    "import numpy as np\n",
    "import matplotlib.pyplot as plt\n",
    "%matplotlib inline"
   ]
  },
  {
   "cell_type": "markdown",
   "metadata": {
    "slideshow": {
     "slide_type": "slide"
    }
   },
   "source": [
    "# Congratulations!\n",
    "You built a model. Now you have to present it. "
   ]
  },
  {
   "cell_type": "markdown",
   "metadata": {
    "slideshow": {
     "slide_type": "slide"
    }
   },
   "source": [
    "### How might different audiences respond to the following statments:\n",
    "    \n",
    "1. The predictive model I built has an accuracy of 80%.\n",
    "2. The logistic regression was optimized with L2 regularization, so you know it's good.\n",
    "3. Gender was more important than age in the predictive model because it had a larger coefficient.\n",
    "4. Here's the AUC chart that shows how well the model did."
   ]
  },
  {
   "cell_type": "markdown",
   "metadata": {
    "slideshow": {
     "slide_type": "slide"
    }
   },
   "source": [
    "### We'll go over how to make 3 charts for classification:\n",
    "\n",
    "- Probability Plot\n",
    "- Confusion Matrix\n",
    "- ROC Curve\n"
   ]
  },
  {
   "cell_type": "markdown",
   "metadata": {
    "slideshow": {
     "slide_type": "slide"
    }
   },
   "source": [
    "## But first let's review our terms:\n",
    "![](assets/images/confusion_matrix.png)\n",
    "\n",
    "## ... and talk about geese"
   ]
  },
  {
   "cell_type": "markdown",
   "metadata": {},
   "source": [
    "### Example of ROC from the whiteboard:\n",
    "http://ebp.uga.edu/courses/Chapter%204%20-%20Diagnosis%20I/8%20-%20ROC%20curves.html"
   ]
  },
  {
   "cell_type": "markdown",
   "metadata": {
    "slideshow": {
     "slide_type": "slide"
    }
   },
   "source": [
    "# Example walkthrough\n",
    "Using a dataset of flight delays let's:\n",
    "- try to predict whether a flight will be delayed by 15 minutes\n",
    "- visualize our predictions"
   ]
  },
  {
   "cell_type": "code",
   "execution_count": 2,
   "metadata": {
    "collapsed": false
   },
   "outputs": [
    {
     "data": {
      "text/html": [
       "<div>\n",
       "<table border=\"1\" class=\"dataframe\">\n",
       "  <thead>\n",
       "    <tr style=\"text-align: right;\">\n",
       "      <th></th>\n",
       "      <th>DAY_OF_MONTH</th>\n",
       "      <th>DAY_OF_WEEK</th>\n",
       "      <th>FL_DATE</th>\n",
       "      <th>UNIQUE_CARRIER</th>\n",
       "      <th>AIRLINE_ID</th>\n",
       "      <th>CARRIER</th>\n",
       "      <th>ORIGIN_AIRPORT_ID</th>\n",
       "      <th>ORIGIN_AIRPORT_SEQ_ID</th>\n",
       "      <th>ORIGIN_CITY_MARKET_ID</th>\n",
       "      <th>DEST_AIRPORT_ID</th>\n",
       "      <th>DEST_AIRPORT_SEQ_ID</th>\n",
       "      <th>DEST_CITY_MARKET_ID</th>\n",
       "      <th>CRS_DEP_TIME</th>\n",
       "      <th>DEP_TIME</th>\n",
       "      <th>DEP_DEL15</th>\n",
       "      <th>Unnamed: 15</th>\n",
       "    </tr>\n",
       "  </thead>\n",
       "  <tbody>\n",
       "    <tr>\n",
       "      <th>0</th>\n",
       "      <td>1</td>\n",
       "      <td>4</td>\n",
       "      <td>2015-01-01</td>\n",
       "      <td>AA</td>\n",
       "      <td>19805</td>\n",
       "      <td>AA</td>\n",
       "      <td>12478</td>\n",
       "      <td>1247802</td>\n",
       "      <td>31703</td>\n",
       "      <td>12892</td>\n",
       "      <td>1289203</td>\n",
       "      <td>32575</td>\n",
       "      <td>900</td>\n",
       "      <td>855.0</td>\n",
       "      <td>0.0</td>\n",
       "      <td>NaN</td>\n",
       "    </tr>\n",
       "    <tr>\n",
       "      <th>1</th>\n",
       "      <td>1</td>\n",
       "      <td>4</td>\n",
       "      <td>2015-01-01</td>\n",
       "      <td>AA</td>\n",
       "      <td>19805</td>\n",
       "      <td>AA</td>\n",
       "      <td>12892</td>\n",
       "      <td>1289203</td>\n",
       "      <td>32575</td>\n",
       "      <td>12478</td>\n",
       "      <td>1247802</td>\n",
       "      <td>31703</td>\n",
       "      <td>900</td>\n",
       "      <td>856.0</td>\n",
       "      <td>0.0</td>\n",
       "      <td>NaN</td>\n",
       "    </tr>\n",
       "    <tr>\n",
       "      <th>2</th>\n",
       "      <td>1</td>\n",
       "      <td>4</td>\n",
       "      <td>2015-01-01</td>\n",
       "      <td>AA</td>\n",
       "      <td>19805</td>\n",
       "      <td>AA</td>\n",
       "      <td>12478</td>\n",
       "      <td>1247802</td>\n",
       "      <td>31703</td>\n",
       "      <td>12892</td>\n",
       "      <td>1289203</td>\n",
       "      <td>32575</td>\n",
       "      <td>1230</td>\n",
       "      <td>1226.0</td>\n",
       "      <td>0.0</td>\n",
       "      <td>NaN</td>\n",
       "    </tr>\n",
       "  </tbody>\n",
       "</table>\n",
       "</div>"
      ],
      "text/plain": [
       "   DAY_OF_MONTH  DAY_OF_WEEK     FL_DATE UNIQUE_CARRIER  AIRLINE_ID CARRIER  \\\n",
       "0             1            4  2015-01-01             AA       19805      AA   \n",
       "1             1            4  2015-01-01             AA       19805      AA   \n",
       "2             1            4  2015-01-01             AA       19805      AA   \n",
       "\n",
       "   ORIGIN_AIRPORT_ID  ORIGIN_AIRPORT_SEQ_ID  ORIGIN_CITY_MARKET_ID  \\\n",
       "0              12478                1247802                  31703   \n",
       "1              12892                1289203                  32575   \n",
       "2              12478                1247802                  31703   \n",
       "\n",
       "   DEST_AIRPORT_ID  DEST_AIRPORT_SEQ_ID  DEST_CITY_MARKET_ID  CRS_DEP_TIME  \\\n",
       "0            12892              1289203                32575           900   \n",
       "1            12478              1247802                31703           900   \n",
       "2            12892              1289203                32575          1230   \n",
       "\n",
       "   DEP_TIME  DEP_DEL15  Unnamed: 15  \n",
       "0     855.0        0.0          NaN  \n",
       "1     856.0        0.0          NaN  \n",
       "2    1226.0        0.0          NaN  "
      ]
     },
     "execution_count": 2,
     "metadata": {},
     "output_type": "execute_result"
    }
   ],
   "source": [
    "df = pd.read_csv('assets/dataset/flight_delays.csv')\n",
    "df.head(3)"
   ]
  },
  {
   "cell_type": "markdown",
   "metadata": {
    "slideshow": {
     "slide_type": "slide"
    }
   },
   "source": [
    "Turn the days of the week into dummy variables and remove null y-values:"
   ]
  },
  {
   "cell_type": "code",
   "execution_count": 3,
   "metadata": {
    "collapsed": false
   },
   "outputs": [
    {
     "data": {
      "text/html": [
       "<div>\n",
       "<table border=\"1\" class=\"dataframe\">\n",
       "  <thead>\n",
       "    <tr style=\"text-align: right;\">\n",
       "      <th></th>\n",
       "      <th>DAY_OF_MONTH</th>\n",
       "      <th>DAY_OF_WEEK</th>\n",
       "      <th>FL_DATE</th>\n",
       "      <th>UNIQUE_CARRIER</th>\n",
       "      <th>AIRLINE_ID</th>\n",
       "      <th>CARRIER</th>\n",
       "      <th>ORIGIN_AIRPORT_ID</th>\n",
       "      <th>ORIGIN_AIRPORT_SEQ_ID</th>\n",
       "      <th>ORIGIN_CITY_MARKET_ID</th>\n",
       "      <th>DEST_AIRPORT_ID</th>\n",
       "      <th>...</th>\n",
       "      <th>DEP_TIME</th>\n",
       "      <th>DEP_DEL15</th>\n",
       "      <th>Unnamed: 15</th>\n",
       "      <th>dow_1</th>\n",
       "      <th>dow_2</th>\n",
       "      <th>dow_3</th>\n",
       "      <th>dow_4</th>\n",
       "      <th>dow_5</th>\n",
       "      <th>dow_6</th>\n",
       "      <th>dow_7</th>\n",
       "    </tr>\n",
       "  </thead>\n",
       "  <tbody>\n",
       "    <tr>\n",
       "      <th>0</th>\n",
       "      <td>1</td>\n",
       "      <td>4</td>\n",
       "      <td>2015-01-01</td>\n",
       "      <td>AA</td>\n",
       "      <td>19805</td>\n",
       "      <td>AA</td>\n",
       "      <td>12478</td>\n",
       "      <td>1247802</td>\n",
       "      <td>31703</td>\n",
       "      <td>12892</td>\n",
       "      <td>...</td>\n",
       "      <td>855.0</td>\n",
       "      <td>0.0</td>\n",
       "      <td>NaN</td>\n",
       "      <td>0.0</td>\n",
       "      <td>0.0</td>\n",
       "      <td>0.0</td>\n",
       "      <td>1.0</td>\n",
       "      <td>0.0</td>\n",
       "      <td>0.0</td>\n",
       "      <td>0.0</td>\n",
       "    </tr>\n",
       "    <tr>\n",
       "      <th>1</th>\n",
       "      <td>1</td>\n",
       "      <td>4</td>\n",
       "      <td>2015-01-01</td>\n",
       "      <td>AA</td>\n",
       "      <td>19805</td>\n",
       "      <td>AA</td>\n",
       "      <td>12892</td>\n",
       "      <td>1289203</td>\n",
       "      <td>32575</td>\n",
       "      <td>12478</td>\n",
       "      <td>...</td>\n",
       "      <td>856.0</td>\n",
       "      <td>0.0</td>\n",
       "      <td>NaN</td>\n",
       "      <td>0.0</td>\n",
       "      <td>0.0</td>\n",
       "      <td>0.0</td>\n",
       "      <td>1.0</td>\n",
       "      <td>0.0</td>\n",
       "      <td>0.0</td>\n",
       "      <td>0.0</td>\n",
       "    </tr>\n",
       "  </tbody>\n",
       "</table>\n",
       "<p>2 rows × 23 columns</p>\n",
       "</div>"
      ],
      "text/plain": [
       "   DAY_OF_MONTH  DAY_OF_WEEK     FL_DATE UNIQUE_CARRIER  AIRLINE_ID CARRIER  \\\n",
       "0             1            4  2015-01-01             AA       19805      AA   \n",
       "1             1            4  2015-01-01             AA       19805      AA   \n",
       "\n",
       "   ORIGIN_AIRPORT_ID  ORIGIN_AIRPORT_SEQ_ID  ORIGIN_CITY_MARKET_ID  \\\n",
       "0              12478                1247802                  31703   \n",
       "1              12892                1289203                  32575   \n",
       "\n",
       "   DEST_AIRPORT_ID  ...    DEP_TIME  DEP_DEL15  Unnamed: 15  dow_1  dow_2  \\\n",
       "0            12892  ...       855.0        0.0          NaN    0.0    0.0   \n",
       "1            12478  ...       856.0        0.0          NaN    0.0    0.0   \n",
       "\n",
       "   dow_3  dow_4  dow_5  dow_6  dow_7  \n",
       "0    0.0    1.0    0.0    0.0    0.0  \n",
       "1    0.0    1.0    0.0    0.0    0.0  \n",
       "\n",
       "[2 rows x 23 columns]"
      ]
     },
     "execution_count": 3,
     "metadata": {},
     "output_type": "execute_result"
    }
   ],
   "source": [
    "df = df.join(pd.get_dummies(df['DAY_OF_WEEK'], prefix='dow'))\n",
    "df = df[df.DEP_DEL15.notnull()].copy()\n",
    "df.head(2)"
   ]
  },
  {
   "cell_type": "markdown",
   "metadata": {
    "slideshow": {
     "slide_type": "slide"
    }
   },
   "source": [
    "Run a logistic regression model to predict delays:"
   ]
  },
  {
   "cell_type": "code",
   "execution_count": 4,
   "metadata": {
    "collapsed": false
   },
   "outputs": [
    {
     "data": {
      "text/plain": [
       "LogisticRegression(C=1.0, class_weight=None, dual=False, fit_intercept=True,\n",
       "          intercept_scaling=1, max_iter=100, multi_class='ovr', n_jobs=1,\n",
       "          penalty='l2', random_state=None, solver='liblinear', tol=0.0001,\n",
       "          verbose=0, warm_start=False)"
      ]
     },
     "execution_count": 4,
     "metadata": {},
     "output_type": "execute_result"
    }
   ],
   "source": [
    "import sklearn.linear_model as lm\n",
    "\n",
    "model = lm.LogisticRegression()\n",
    "#Only features are time of day and day of the week\n",
    "features = ['CRS_DEP_TIME', 'dow_1', 'dow_2', 'dow_3', 'dow_4', 'dow_5', 'dow_6']\n",
    "\n",
    "X = df[features]\n",
    "y = df['DEP_DEL15']\n",
    "#this is a binary column: was the flight delayed or not?\n",
    "\n",
    "model.fit(X, y)"
   ]
  },
  {
   "cell_type": "markdown",
   "metadata": {
    "slideshow": {
     "slide_type": "slide"
    }
   },
   "source": [
    "One effective way to explain your model over particular variables is to plot the predicted variables against the most explanatory variables. For example, with logistic regression, plotting the probability of a class against a variable can help explain the range of effect on the model."
   ]
  },
  {
   "cell_type": "markdown",
   "metadata": {
    "slideshow": {
     "slide_type": "-"
    }
   },
   "source": [
    "```model.predict_proba``` will give you the probability of an outcome, instead of just the outcome:"
   ]
  },
  {
   "cell_type": "code",
   "execution_count": 5,
   "metadata": {
    "collapsed": false
   },
   "outputs": [],
   "source": [
    "## COPY THE LECTURE CODE\n",
    "df['probability'] = model.predict_proba(df[features]).T[1]"
   ]
  },
  {
   "cell_type": "code",
   "execution_count": 6,
   "metadata": {
    "collapsed": false,
    "slideshow": {
     "slide_type": "slide"
    }
   },
   "outputs": [
    {
     "data": {
      "text/plain": [
       "<matplotlib.text.Text at 0x116dcaed0>"
      ]
     },
     "execution_count": 6,
     "metadata": {},
     "output_type": "execute_result"
    },
    {
     "data": {
      "image/png": "[encoded data removed]",
      "text/plain": [
       "<matplotlib.figure.Figure at 0x116dc1b90>"
      ]
     },
     "metadata": {},
     "output_type": "display_data"
    }
   ],
   "source": [
    "days = ['dow_1', 'dow_2', 'dow_3', 'dow_4', 'dow_5', 'dow_6']\n",
    "names = ['Mon', 'Tues', 'Weds', 'Thurs', 'Fri', 'Sat'] \n",
    "colors = ['blue', 'green', 'red', 'purple', 'orange', 'brown']\n",
    "\n",
    "plt.figure(figsize=(10,6))\n",
    "ax = plt.subplot(111)\n",
    "\n",
    "for e, c in enumerate(colors):\n",
    "    df[df[days[e]] == 1].plot(x='CRS_DEP_TIME', y='probability', kind='scatter', label = names[e], color = c, ax=ax)\n",
    "\n",
    "ax.legend(loc='upper left')\n",
    "ax.set_title('Probability of Delay\\n Based on Day of Week and Time of Day')\n",
    "ax.set_xlabel('Scheduled departure time (2400 clock)')"
   ]
  },
  {
   "cell_type": "markdown",
   "metadata": {
    "slideshow": {
     "slide_type": "slide"
    }
   },
   "source": [
    "![Plotting Probabilities](assets/images/plotting_proba.png)\n"
   ]
  },
  {
   "cell_type": "markdown",
   "metadata": {},
   "source": [
    "### Advantages of a probability plot\n",
    "- Interpretable! Shows how odds change with respect to one variable\n",
    "- Can be helpful to demonstrate key takeaways to a stakeholder"
   ]
  },
  {
   "cell_type": "markdown",
   "metadata": {
    "slideshow": {
     "slide_type": "slide"
    }
   },
   "source": [
    "### SKlearn has a built in confusion matrix function that lets you see your cm as a 2x2 matrix"
   ]
  },
  {
   "cell_type": "markdown",
   "metadata": {
    "slideshow": {
     "slide_type": "skip"
    }
   },
   "source": [
    "First, let's run a model with slightly different inputs"
   ]
  },
  {
   "cell_type": "code",
   "execution_count": 12,
   "metadata": {
    "collapsed": false,
    "slideshow": {
     "slide_type": "slide"
    }
   },
   "outputs": [
    {
     "data": {
      "text/plain": [
       "LogisticRegression(C=1.0, class_weight=None, dual=False, fit_intercept=True,\n",
       "          intercept_scaling=1, max_iter=100, multi_class='ovr', n_jobs=1,\n",
       "          penalty='l2', random_state=None, solver='liblinear', tol=0.0001,\n",
       "          verbose=0, warm_start=False)"
      ]
     },
     "execution_count": 12,
     "metadata": {},
     "output_type": "execute_result"
    }
   ],
   "source": [
    "features = ['CRS_DEP_TIME', 'DAY_OF_WEEK', \"DAY_OF_MONTH\" ]\n",
    "\n",
    "X = df[features]\n",
    "y = df['DEP_DEL15']\n",
    "#this is a binary column: was the flight delayed or not?\n",
    "\n",
    "model.fit(X, y)"
   ]
  },
  {
   "cell_type": "code",
   "execution_count": 14,
   "metadata": {
    "collapsed": false
   },
   "outputs": [
    {
     "data": {
      "text/plain": [
       "array([[366501,    832],\n",
       "       [ 90555,    423]])"
      ]
     },
     "execution_count": 14,
     "metadata": {},
     "output_type": "execute_result"
    }
   ],
   "source": [
    "from sklearn.metrics import confusion_matrix\n",
    "\n",
    "predictions = model.predict(X)\n",
    "\n",
    "cm = confusion_matrix(y, predictions)\n",
    "cm"
   ]
  },
  {
   "cell_type": "markdown",
   "metadata": {},
   "source": [
    "### NOTE: SKLearn defines 0 as positive and 1 as negative for classification"
   ]
  },
  {
   "cell_type": "markdown",
   "metadata": {
    "slideshow": {
     "slide_type": "slide"
    }
   },
   "source": [
    "### We can write some matplotlib to make that confusion matrix look nice"
   ]
  },
  {
   "cell_type": "code",
   "execution_count": 15,
   "metadata": {
    "collapsed": true,
    "slideshow": {
     "slide_type": "slide"
    }
   },
   "outputs": [],
   "source": [
    "import matplotlib.patheffects as path_effects\n",
    "\n",
    "def plot_confusion_matrix(cm, title='Confusion matrix', labels=['Positive','Negative'], cmap=plt.cm.Blues):\n",
    "    \n",
    "    plt.figure(figsize=(7,7))\n",
    "    plt.imshow(cm, interpolation='nearest', cmap=cmap)\n",
    "    \n",
    "    tick_marks = np.arange(2)\n",
    "    plt.xticks(tick_marks, labels)\n",
    "    plt.yticks(tick_marks, labels)\n",
    "        \n",
    "    plt.title(title)\n",
    "    plt.ylabel('True label')\n",
    "    plt.xlabel('Predicted label')\n",
    "    plt.tight_layout()\n",
    "    \n",
    "    width, height = cm.shape\n",
    "    \n",
    "    for x in xrange(width):\n",
    "        for y in xrange(height):\n",
    "            plt.annotate(str(cm[x][y]), xy=(y, x), \n",
    "                        horizontalalignment='center',\n",
    "                        verticalalignment='center',\n",
    "                        color = 'white',\n",
    "                        fontsize=18).set_path_effects([path_effects.Stroke(linewidth=1, foreground='black'),\n",
    "                                                       path_effects.Normal()]) #The last line here adds a text outline"
   ]
  },
  {
   "cell_type": "code",
   "execution_count": 17,
   "metadata": {
    "collapsed": false
   },
   "outputs": [
    {
     "data": {
      "image/png": "[encoded data removed]",
      "text/plain": [
       "<matplotlib.figure.Figure at 0x118e47610>"
      ]
     },
     "metadata": {},
     "output_type": "display_data"
    }
   ],
   "source": [
    "plot_confusion_matrix(cm, title='Confusion matrix - Delayed Flights', labels=['On Time','Delayed'], cmap=plt.cm.Blues)"
   ]
  },
  {
   "cell_type": "markdown",
   "metadata": {},
   "source": [
    "Ask yourself: What does good coloring on an confusion matrix look like?"
   ]
  },
  {
   "cell_type": "markdown",
   "metadata": {
    "slideshow": {
     "slide_type": "slide"
    }
   },
   "source": [
    "### Advantages of a confusion matrix\n",
    "- Clearly visualizes what the true and false positive rates are\n",
    "- Can be useful for a non-techincal audience, but requires good labeling and explanation. "
   ]
  },
  {
   "cell_type": "markdown",
   "metadata": {
    "slideshow": {
     "slide_type": "slide"
    }
   },
   "source": [
    "### Sklearn also has an ROC package that exports your false positive rate, true positive rate and thresholds as 3 arrays"
   ]
  },
  {
   "cell_type": "code",
   "execution_count": 19,
   "metadata": {
    "collapsed": false
   },
   "outputs": [
    {
     "data": {
      "text/plain": [
       "(array([  0.00000000e+00,   2.99455807e-05,   3.26679062e-05, ...,\n",
       "          9.99997278e-01,   9.99997278e-01,   1.00000000e+00]),\n",
       " array([  0.00000000e+00,   1.09916683e-04,   1.31900020e-04, ...,\n",
       "          9.99989008e-01,   1.00000000e+00,   1.00000000e+00]),\n",
       " array([ 1.54671423,  0.54671423,  0.54650645, ...,  0.0310402 ,\n",
       "         0.03091436,  0.03066417]))"
      ]
     },
     "execution_count": 19,
     "metadata": {},
     "output_type": "execute_result"
    }
   ],
   "source": [
    "from sklearn.metrics import roc_curve\n",
    "#It takes probability of predicted value as an input:\n",
    "\n",
    "proba = model.predict_proba(df[features]).T[1]\n",
    "\n",
    "\n",
    "roc = roc_curve(y, proba)\n",
    "roc"
   ]
  },
  {
   "cell_type": "code",
   "execution_count": 39,
   "metadata": {
    "collapsed": false
   },
   "outputs": [],
   "source": [
    "from sklearn.metrics import roc_auc_score\n",
    "from sklearn.cross_validation import train_test_split\n",
    "\n",
    "def getROCcurve(roc, title='ROC Curve', xlabel ='% of False Positives', ylabel = '% of True Positives'):\n",
    "    \n",
    "    fpr, tpr, thresholds = roc\n",
    "    \n",
    "    fig,ax = plt.subplots()\n",
    "    ax.plot(fpr, tpr, label='ROC Curve')\n",
    "\n",
    "    fig.set_size_inches(7, 6, forward=True)\n",
    "    plt.xlabel(xlabel, fontsize=15)\n",
    "    plt.ylabel(ylabel, fontsize=15)\n",
    "    plt.title(title)\n",
    "    plt.legend(loc='best')\n",
    "    \n"
   ]
  },
  {
   "cell_type": "markdown",
   "metadata": {
    "slideshow": {
     "slide_type": "slide"
    }
   },
   "source": [
    "### We can plot these in matplotlib too:"
   ]
  },
  {
   "cell_type": "code",
   "execution_count": 21,
   "metadata": {
    "collapsed": false
   },
   "outputs": [
    {
     "data": {
      "image/png": "[encoded data removed]",
      "text/plain": [
       "<matplotlib.figure.Figure at 0x1174fad50>"
      ]
     },
     "metadata": {},
     "output_type": "display_data"
    }
   ],
   "source": [
    "getROCcurve(roc, title='Predicting Delayed Flights', ylabel='% of delayed flights predicted as delayed',\\\n",
    "            xlabel='% of on time flights predicted as delayed')"
   ]
  },
  {
   "cell_type": "markdown",
   "metadata": {
    "slideshow": {
     "slide_type": "slide"
    }
   },
   "source": [
    "![](http://gim.unmc.edu/dxtests/roccomp.jpg)"
   ]
  },
  {
   "cell_type": "markdown",
   "metadata": {},
   "source": [
    "### Advantages of an ROC Curve\n",
    "- Shows the details of your model's performance as you tune it\n",
    "- Helpful for stats- and techincal audiences\n",
    "- Not ideal for non-technical stakeholders"
   ]
  },
  {
   "cell_type": "markdown",
   "metadata": {
    "slideshow": {
     "slide_type": "slide"
    }
   },
   "source": [
    "# Guided Practice\n",
    "Here's a dataset of grad school admissions, based on GPA, rank, and GRE score. In the admit column \"1\" is admit."
   ]
  },
  {
   "cell_type": "code",
   "execution_count": 22,
   "metadata": {
    "collapsed": false,
    "slideshow": {
     "slide_type": "slide"
    }
   },
   "outputs": [
    {
     "data": {
      "text/html": [
       "<div>\n",
       "<table border=\"1\" class=\"dataframe\">\n",
       "  <thead>\n",
       "    <tr style=\"text-align: right;\">\n",
       "      <th></th>\n",
       "      <th>admit</th>\n",
       "      <th>gre</th>\n",
       "      <th>gpa</th>\n",
       "      <th>rank</th>\n",
       "    </tr>\n",
       "  </thead>\n",
       "  <tbody>\n",
       "    <tr>\n",
       "      <th>0</th>\n",
       "      <td>0</td>\n",
       "      <td>380</td>\n",
       "      <td>3.61</td>\n",
       "      <td>3</td>\n",
       "    </tr>\n",
       "    <tr>\n",
       "      <th>1</th>\n",
       "      <td>1</td>\n",
       "      <td>660</td>\n",
       "      <td>3.67</td>\n",
       "      <td>3</td>\n",
       "    </tr>\n",
       "    <tr>\n",
       "      <th>2</th>\n",
       "      <td>1</td>\n",
       "      <td>800</td>\n",
       "      <td>4.00</td>\n",
       "      <td>1</td>\n",
       "    </tr>\n",
       "    <tr>\n",
       "      <th>3</th>\n",
       "      <td>1</td>\n",
       "      <td>640</td>\n",
       "      <td>3.19</td>\n",
       "      <td>4</td>\n",
       "    </tr>\n",
       "    <tr>\n",
       "      <th>4</th>\n",
       "      <td>0</td>\n",
       "      <td>520</td>\n",
       "      <td>2.93</td>\n",
       "      <td>4</td>\n",
       "    </tr>\n",
       "  </tbody>\n",
       "</table>\n",
       "</div>"
      ],
      "text/plain": [
       "   admit  gre   gpa  rank\n",
       "0      0  380  3.61     3\n",
       "1      1  660  3.67     3\n",
       "2      1  800  4.00     1\n",
       "3      1  640  3.19     4\n",
       "4      0  520  2.93     4"
      ]
     },
     "execution_count": 22,
     "metadata": {},
     "output_type": "execute_result"
    }
   ],
   "source": [
    "df = pd.read_csv('assets/dataset/collegeadmissions.csv')\n",
    "df.head()"
   ]
  },
  {
   "cell_type": "code",
   "execution_count": 23,
   "metadata": {
    "collapsed": false,
    "slideshow": {
     "slide_type": "slide"
    }
   },
   "outputs": [
    {
     "data": {
      "text/plain": [
       "LogisticRegression(C=1.0, class_weight=None, dual=False, fit_intercept=True,\n",
       "          intercept_scaling=1, max_iter=100, multi_class='ovr', n_jobs=1,\n",
       "          penalty='l2', random_state=None, solver='liblinear', tol=0.0001,\n",
       "          verbose=0, warm_start=False)"
      ]
     },
     "execution_count": 23,
     "metadata": {},
     "output_type": "execute_result"
    }
   ],
   "source": [
    "## Build a classification model of your choice. \n",
    "import sklearn.linear_model as lm\n",
    "model = lm.LogisticRegression()\n",
    "\n",
    "features = ['gre', 'gpa', 'rank']\n",
    "X = df[features]\n",
    "y = df['admit']\n",
    "\n",
    "model.fit(X,y)"
   ]
  },
  {
   "cell_type": "code",
   "execution_count": 24,
   "metadata": {
    "collapsed": false
   },
   "outputs": [],
   "source": [
    "## use your model to predict admissions. \n",
    "predictions = model.predict(X)\n"
   ]
  },
  {
   "cell_type": "markdown",
   "metadata": {
    "slideshow": {
     "slide_type": "slide"
    }
   },
   "source": [
    "How well does your prediction do compared to the actual values? "
   ]
  },
  {
   "cell_type": "code",
   "execution_count": 27,
   "metadata": {
    "collapsed": true
   },
   "outputs": [],
   "source": [
    "from sklearn.metrics import accuracy_score\n",
    "from sklearn.metrics import precision_score\n",
    "from sklearn.metrics import recall_score\n",
    "from sklearn.metrics import auc #area under the curve -- which curve?"
   ]
  },
  {
   "cell_type": "code",
   "execution_count": 28,
   "metadata": {
    "collapsed": false
   },
   "outputs": [
    {
     "data": {
      "text/plain": [
       "0.71499999999999997"
      ]
     },
     "execution_count": 28,
     "metadata": {},
     "output_type": "execute_result"
    }
   ],
   "source": [
    "accuracy_score(y, predictions)"
   ]
  },
  {
   "cell_type": "code",
   "execution_count": 29,
   "metadata": {
    "collapsed": false
   },
   "outputs": [
    {
     "data": {
      "text/plain": [
       "0.22047244094488189"
      ]
     },
     "execution_count": 29,
     "metadata": {},
     "output_type": "execute_result"
    }
   ],
   "source": [
    "recall_score(y, predictions)"
   ]
  },
  {
   "cell_type": "code",
   "execution_count": 30,
   "metadata": {
    "collapsed": false
   },
   "outputs": [
    {
     "data": {
      "text/plain": [
       "0.65116279069767447"
      ]
     },
     "execution_count": 30,
     "metadata": {},
     "output_type": "execute_result"
    }
   ],
   "source": [
    "precision_score(y, predictions)"
   ]
  },
  {
   "cell_type": "markdown",
   "metadata": {},
   "source": [
    "### Confusion Matrix"
   ]
  },
  {
   "cell_type": "code",
   "execution_count": 31,
   "metadata": {
    "collapsed": false,
    "slideshow": {
     "slide_type": "slide"
    }
   },
   "outputs": [
    {
     "data": {
      "text/plain": [
       "array([[258,  15],\n",
       "       [ 99,  28]])"
      ]
     },
     "execution_count": 31,
     "metadata": {},
     "output_type": "execute_result"
    }
   ],
   "source": [
    "from sklearn.metrics import confusion_matrix\n",
    "\n",
    "## Generate a confusion matrix in sklearn\n",
    "cm = confusion_matrix(y, predictions)\n",
    "cm"
   ]
  },
  {
   "cell_type": "code",
   "execution_count": 32,
   "metadata": {
    "collapsed": false
   },
   "outputs": [
    {
     "data": {
      "text/plain": [
       "43"
      ]
     },
     "execution_count": 32,
     "metadata": {},
     "output_type": "execute_result"
    }
   ],
   "source": [
    "sum(predictions)"
   ]
  },
  {
   "cell_type": "code",
   "execution_count": 33,
   "metadata": {
    "collapsed": false,
    "slideshow": {
     "slide_type": "slide"
    }
   },
   "outputs": [
    {
     "data": {
      "image/png": "[encoded data removed]",
      "text/plain": [
       "<matplotlib.figure.Figure at 0x117433350>"
      ]
     },
     "metadata": {},
     "output_type": "display_data"
    }
   ],
   "source": [
    "plot_confusion_matrix(cm)"
   ]
  },
  {
   "cell_type": "markdown",
   "metadata": {},
   "source": [
    "Remember, sklearn calls 0 a postive classification and 1 a negative classificaiton. We know 1 is admit. "
   ]
  },
  {
   "cell_type": "code",
   "execution_count": 34,
   "metadata": {
    "collapsed": false,
    "slideshow": {
     "slide_type": "slide"
    }
   },
   "outputs": [
    {
     "data": {
      "image/png": "[encoded data removed]",
      "text/plain": [
       "<matplotlib.figure.Figure at 0x117135b50>"
      ]
     },
     "metadata": {},
     "output_type": "display_data"
    }
   ],
   "source": [
    "## plot the confusion matrix in matplotlib. \n",
    "## BONUS: customize it. Play with the colors, labels and axes\n",
    "plot_confusion_matrix(cm, title='Predicting Admissions', labels=['rejected', 'admitted'])"
   ]
  },
  {
   "cell_type": "markdown",
   "metadata": {},
   "source": [
    "### ROC Curve"
   ]
  },
  {
   "cell_type": "code",
   "execution_count": 35,
   "metadata": {
    "collapsed": false,
    "scrolled": true,
    "slideshow": {
     "slide_type": "slide"
    }
   },
   "outputs": [
    {
     "data": {
      "text/plain": [
       "(array([ 0.        ,  0.003663  ,  0.003663  ,  0.00732601,  0.00732601,\n",
       "         0.01098901,  0.01465201,  0.01465201,  0.02564103,  0.02564103,\n",
       "         0.02930403,  0.02930403,  0.03296703,  0.03296703,  0.04029304,\n",
       "         0.04029304,  0.04761905,  0.04761905,  0.05128205,  0.05128205,\n",
       "         0.05494505,  0.05494505,  0.06227106,  0.06227106,  0.07692308,\n",
       "         0.07692308,  0.08791209,  0.08791209,  0.09157509,  0.09157509,\n",
       "         0.0952381 ,  0.0952381 ,  0.0989011 ,  0.0989011 ,  0.1025641 ,\n",
       "         0.1025641 ,  0.10622711,  0.10622711,  0.11721612,  0.12454212,\n",
       "         0.12454212,  0.12820513,  0.12820513,  0.13186813,  0.13186813,\n",
       "         0.13919414,  0.13919414,  0.14652015,  0.14652015,  0.15750916,\n",
       "         0.15750916,  0.16117216,  0.16117216,  0.17216117,  0.17582418,\n",
       "         0.17948718,  0.17948718,  0.18315018,  0.18315018,  0.22344322,\n",
       "         0.22344322,  0.22710623,  0.22710623,  0.23809524,  0.23809524,\n",
       "         0.24542125,  0.24542125,  0.25641026,  0.25641026,  0.26007326,\n",
       "         0.26007326,  0.27106227,  0.27106227,  0.27472527,  0.27472527,\n",
       "         0.27838828,  0.29304029,  0.29304029,  0.2967033 ,  0.2967033 ,\n",
       "         0.3003663 ,  0.3003663 ,  0.3040293 ,  0.3040293 ,  0.30769231,\n",
       "         0.30769231,  0.30769231,  0.30769231,  0.31501832,  0.31501832,\n",
       "         0.34798535,  0.34798535,  0.35531136,  0.35531136,  0.36630037,\n",
       "         0.36996337,  0.4029304 ,  0.4029304 ,  0.43956044,  0.43956044,\n",
       "         0.44688645,  0.44688645,  0.46886447,  0.46886447,  0.47619048,\n",
       "         0.47619048,  0.48351648,  0.48351648,  0.5018315 ,  0.5018315 ,\n",
       "         0.50915751,  0.50915751,  0.52380952,  0.52380952,  0.52380952,\n",
       "         0.54945055,  0.54945055,  0.58241758,  0.58241758,  0.58608059,\n",
       "         0.58608059,  0.60805861,  0.60805861,  0.61904762,  0.61904762,\n",
       "         0.63369963,  0.63369963,  0.64835165,  0.64835165,  0.65934066,\n",
       "         0.65934066,  0.68498168,  0.68498168,  0.69230769,  0.69230769,\n",
       "         0.6996337 ,  0.6996337 ,  0.71062271,  0.71062271,  0.73992674,\n",
       "         0.73992674,  0.77289377,  0.77289377,  0.78754579,  0.78754579,\n",
       "         0.83150183,  0.83150183,  0.84249084,  0.84249084,  0.88644689,\n",
       "         0.88644689,  0.8974359 ,  0.8974359 ,  0.90842491,  0.91575092,\n",
       "         0.91575092,  0.98168498,  0.98168498,  1.        ]),\n",
       " array([ 0.00787402,  0.00787402,  0.01574803,  0.01574803,  0.05511811,\n",
       "         0.07086614,  0.07086614,  0.07874016,  0.07874016,  0.08661417,\n",
       "         0.08661417,  0.1023622 ,  0.1023622 ,  0.12598425,  0.12598425,\n",
       "         0.15748031,  0.15748031,  0.18110236,  0.18110236,  0.19685039,\n",
       "         0.19685039,  0.22047244,  0.22047244,  0.22834646,  0.22834646,\n",
       "         0.24409449,  0.24409449,  0.2519685 ,  0.2519685 ,  0.27559055,\n",
       "         0.27559055,  0.29133858,  0.29133858,  0.30708661,  0.30708661,\n",
       "         0.31496063,  0.31496063,  0.32283465,  0.32283465,  0.32283465,\n",
       "         0.33070866,  0.33070866,  0.34645669,  0.34645669,  0.37007874,\n",
       "         0.37007874,  0.39370079,  0.39370079,  0.4015748 ,  0.4015748 ,\n",
       "         0.40944882,  0.40944882,  0.41732283,  0.41732283,  0.42519685,\n",
       "         0.42519685,  0.44094488,  0.44094488,  0.4488189 ,  0.4488189 ,\n",
       "         0.45669291,  0.45669291,  0.46456693,  0.46456693,  0.48031496,\n",
       "         0.48031496,  0.48818898,  0.48818898,  0.49606299,  0.49606299,\n",
       "         0.50393701,  0.50393701,  0.53543307,  0.53543307,  0.5511811 ,\n",
       "         0.55905512,  0.55905512,  0.56692913,  0.56692913,  0.57480315,\n",
       "         0.57480315,  0.58267717,  0.58267717,  0.59055118,  0.59055118,\n",
       "         0.5984252 ,  0.61417323,  0.62204724,  0.62204724,  0.62992126,\n",
       "         0.62992126,  0.63779528,  0.63779528,  0.64566929,  0.64566929,\n",
       "         0.65354331,  0.65354331,  0.66141732,  0.66141732,  0.66929134,\n",
       "         0.66929134,  0.67716535,  0.67716535,  0.69291339,  0.69291339,\n",
       "         0.7007874 ,  0.7007874 ,  0.70866142,  0.70866142,  0.71653543,\n",
       "         0.71653543,  0.72440945,  0.72440945,  0.74015748,  0.75590551,\n",
       "         0.75590551,  0.76377953,  0.76377953,  0.77165354,  0.77165354,\n",
       "         0.77952756,  0.77952756,  0.80314961,  0.80314961,  0.81889764,\n",
       "         0.81889764,  0.82677165,  0.82677165,  0.8503937 ,  0.8503937 ,\n",
       "         0.86614173,  0.86614173,  0.88188976,  0.88188976,  0.88976378,\n",
       "         0.88976378,  0.8976378 ,  0.8976378 ,  0.90551181,  0.90551181,\n",
       "         0.92125984,  0.92125984,  0.92913386,  0.92913386,  0.93700787,\n",
       "         0.93700787,  0.94488189,  0.94488189,  0.95275591,  0.95275591,\n",
       "         0.96850394,  0.96850394,  0.97637795,  0.97637795,  0.97637795,\n",
       "         0.99212598,  0.99212598,  1.        ,  1.        ]),\n",
       " array([ 0.6475512 ,  0.64607332,  0.63465174,  0.63415158,  0.60828073,\n",
       "         0.60269692,  0.5972814 ,  0.59324564,  0.58421094,  0.5797707 ,\n",
       "         0.57596648,  0.56548494,  0.56499323,  0.55006087,  0.54657015,\n",
       "         0.53144391,  0.52809613,  0.51729783,  0.51423018,  0.50772524,\n",
       "         0.50627215,  0.5000533 ,  0.49653798,  0.49288971,  0.48442423,\n",
       "         0.4821453 ,  0.47970344,  0.47618668,  0.47581237,  0.46623545,\n",
       "         0.45469831,  0.45099668,  0.45042431,  0.44618787,  0.44562481,\n",
       "         0.44415068,  0.44340982,  0.44033412,  0.4370331 ,  0.43605704,\n",
       "         0.43577279,  0.43461984,  0.43312359,  0.43259421,  0.42942116,\n",
       "         0.42917605,  0.42321479,  0.42130035,  0.41892541,  0.41703256,\n",
       "         0.41666777,  0.41638683,  0.41626528,  0.41039206,  0.4089485 ,\n",
       "         0.4088276 ,  0.40634494,  0.40610362,  0.40398749,  0.39519255,\n",
       "         0.39083852,  0.38993117,  0.38851216,  0.38595374,  0.3844217 ,\n",
       "         0.38097384,  0.38046541,  0.37515343,  0.37477302,  0.37438502,\n",
       "         0.37426787,  0.37287101,  0.37097294,  0.36923154,  0.36869325,\n",
       "         0.36857683,  0.36495488,  0.36433939,  0.36410772,  0.3639559 ,\n",
       "         0.36334113,  0.36307377,  0.3629581 ,  0.35833187,  0.35825262,\n",
       "         0.3579869 ,  0.35696816,  0.35589219,  0.35524781,  0.35475404,\n",
       "         0.34008853,  0.33849869,  0.33707899,  0.33682073,  0.33118322,\n",
       "         0.33103799,  0.32158436,  0.32028349,  0.31186653,  0.31036572,\n",
       "         0.30888301,  0.30760318,  0.30089505,  0.29926778,  0.29669146,\n",
       "         0.29521375,  0.2921081 ,  0.29111385,  0.28931182,  0.28889379,\n",
       "         0.28388702,  0.28334724,  0.28152256,  0.28029208,  0.28005894,\n",
       "         0.27563183,  0.27467189,  0.26206958,  0.26062759,  0.25954523,\n",
       "         0.259353  ,  0.25259168,  0.24984631,  0.249226  ,  0.2469059 ,\n",
       "         0.24242984,  0.24112367,  0.23380169,  0.22825491,  0.22410336,\n",
       "         0.22278026,  0.21593594,  0.2133128 ,  0.21214005,  0.21122745,\n",
       "         0.20973675,  0.20760027,  0.20456858,  0.20448182,  0.19697637,\n",
       "         0.19629507,  0.18583955,  0.18511741,  0.18003808,  0.1794808 ,\n",
       "         0.16496304,  0.16348768,  0.16002581,  0.15866933,  0.1452339 ,\n",
       "         0.14404298,  0.1426575 ,  0.14198993,  0.1395818 ,  0.13888506,\n",
       "         0.13440586,  0.1110553 ,  0.1072329 ,  0.08488523]))"
      ]
     },
     "execution_count": 35,
     "metadata": {},
     "output_type": "execute_result"
    }
   ],
   "source": [
    "## Generate an ROC Curve in sklearn\n",
    "probs = model.predict_proba(X).T[1]\n",
    "\n",
    "roc = roc_curve(y, probs)\n",
    "roc"
   ]
  },
  {
   "cell_type": "code",
   "execution_count": 40,
   "metadata": {
    "collapsed": false,
    "slideshow": {
     "slide_type": "slide"
    }
   },
   "outputs": [
    {
     "data": {
      "image/png": "[encoded data removed]",
      "text/plain": [
       "<matplotlib.figure.Figure at 0x116e1cf10>"
      ]
     },
     "metadata": {},
     "output_type": "display_data"
    }
   ],
   "source": [
    "getROCcurve(roc)"
   ]
  },
  {
   "cell_type": "code",
   "execution_count": 41,
   "metadata": {
    "collapsed": false,
    "slideshow": {
     "slide_type": "slide"
    }
   },
   "outputs": [
    {
     "data": {
      "image/png": "[encoded data removed]",
      "text/plain": [
       "<matplotlib.figure.Figure at 0x118e7f150>"
      ]
     },
     "metadata": {},
     "output_type": "display_data"
    }
   ],
   "source": [
    "## plot the confusion matrix in matplotlib. \n",
    "## BONUS: customize it. Play with the colors and labels\n",
    "getROCcurve(roc, title='Predicting Admissions', ylabel='% of rejected students predicted as rejected', xlabel=\"% of admitted students predicted as rejected\")"
   ]
  }
 ],
 "metadata": {
  "kernelspec": {
   "display_name": "Python 2",
   "language": "python",
   "name": "python2"
  },
  "language_info": {
   "codemirror_mode": {
    "name": "ipython",
    "version": 2
   },
   "file_extension": ".py",
   "mimetype": "text/x-python",
   "name": "python",
   "nbconvert_exporter": "python",
   "pygments_lexer": "ipython2",
   "version": "2.7.11"
  }
 },
 "nbformat": 4,
 "nbformat_minor": 0
}
