{
 "cells": [
  {
   "cell_type": "markdown",
   "metadata": {},
   "source": [
    "### Python Question"
   ]
  },
  {
   "cell_type": "markdown",
   "metadata": {},
   "source": [
    "Our webservers generate logs containing one line per browser request. A sample log snippet\n",
    "looks like this:\n",
    "\n",
    "date=2015-04-25:16:43:22 visitor=xxyy1234567 url=/search?triangles\n",
    "date=2015-04-25:16:43:28 visitor=abcd8988721 url=/practice?skill=423\n",
    "date=2015-04-25:16:43:49 visitor=xxyy1234567 url=/practice?skill=182\n",
    "\n",
    "\n",
    "The \"visitor\" field helps us identify distinct visitors to the site. It contains a semi-random\n",
    "value that is assigned the first time a given user/browser/computer sends a request. Different\n",
    "requests will generally have the same visitor value if they come from the same\n",
    "user/browser/computer.\n",
    "\n"
   ]
  },
  {
   "cell_type": "markdown",
   "metadata": {},
   "source": [
    "### Part 1"
   ]
  },
  {
   "cell_type": "markdown",
   "metadata": {},
   "source": [
    "Write a script to analyze the log entries for one day and produce a listing of the total\n",
    "\n",
    "number of requests that were logged, by hour of day. For example, your output might look like:\n",
    "\n",
    "00,234556\n",
    "\n",
    "01,345623\n",
    "\n",
    "02,333925\n",
    "\n",
    "03,452341\n",
    "\n",
    "04,562342\n",
    "\n",
    "05,602342\n",
    "\n",
    "06,823456"
   ]
  },
  {
   "cell_type": "code",
   "execution_count": 53,
   "metadata": {
    "collapsed": true
   },
   "outputs": [],
   "source": [
    "from collections import Counter\n",
    "import pandas as pd"
   ]
  },
  {
   "cell_type": "code",
   "execution_count": 50,
   "metadata": {
    "collapsed": false
   },
   "outputs": [],
   "source": [
    "#let's specify a particular form for the solution.\n",
    "\n",
    "#Expect exactly 1 day of logs as a text file, each entry on a separate line\n",
    "#Return dictionary object with hour as key and count as values.\n",
    "\n",
    "#Note we could also do this line by line, aggregating as we go.\n",
    "\n",
    "fulllog = \"\"\"date=2015-04-25:16:43:22 visitor=xxyy1234567 url=/search?triangles\n",
    "date=2015-04-25:16:43:28 visitor=abcd8988721 url=/practice?skill=423\n",
    "date=2015-04-25:16:43:49 visitor=xxyy1234567 url=/practice?skill=182\n",
    "\"\"\"\n",
    "\n",
    "line = \"date=2015-04-25:16:43:22 visitor=xxyy1234567 url=/search?triangles\"\n",
    "\n",
    "def get_hour(line):\n",
    "    # returns the hour from a single line\n",
    "    return line.split()[0][-8:-6]\n",
    "\n",
    "def get_lines(fulllog):\n",
    "    # takes text file of log and returns list of strings,\n",
    "    # each string is a line\n",
    "    lines = fulllog.split(\"\\n\")\n",
    "    lines = filter(lambda x: len(x)>0, lines)\n",
    "    return lines\n",
    "\n",
    "def agg_hours(fulllog):\n",
    "    lines = get_lines(fulllog)\n",
    "    hours = map(get_hour, lines)\n",
    "    return dict(Counter(hours))\n",
    "        \n",
    "        \n",
    "    \n",
    "    \n"
   ]
  },
  {
   "cell_type": "code",
   "execution_count": 51,
   "metadata": {
    "collapsed": false,
    "scrolled": true
   },
   "outputs": [
    {
     "data": {
      "text/plain": [
       "{'16': 3}"
      ]
     },
     "execution_count": 51,
     "metadata": {},
     "output_type": "execute_result"
    }
   ],
   "source": [
    "#example\n",
    "agg_hours(fulllog)"
   ]
  },
  {
   "cell_type": "markdown",
   "metadata": {},
   "source": [
    "### Part 2"
   ]
  },
  {
   "cell_type": "markdown",
   "metadata": {},
   "source": [
    "Write a similar script which produces a listing not of total requests, but of total distinct visitors by hour.\n"
   ]
  },
  {
   "cell_type": "code",
   "execution_count": 77,
   "metadata": {
    "collapsed": true
   },
   "outputs": [],
   "source": [
    "def get_visitor(line):\n",
    "    return line.split()[1].replace(\"visitor=\", \"\")\n",
    "\n",
    "def aggregate_visitors(fulllog):\n",
    "    df = pd.DataFrame()\n",
    "    lines = get_lines(fulllog)\n",
    "    hours = map(get_hour, lines)\n",
    "    df[\"hour\"] = hours\n",
    "    visitors = map(get_visitor, lines)\n",
    "    df[\"visitor\"] = visitors\n",
    "    return dict(df.groupby(\"hour\")[\"visitor\"].nunique())"
   ]
  },
  {
   "cell_type": "code",
   "execution_count": 79,
   "metadata": {
    "collapsed": false
   },
   "outputs": [
    {
     "data": {
      "text/plain": [
       "{'16': 2}"
      ]
     },
     "execution_count": 79,
     "metadata": {},
     "output_type": "execute_result"
    }
   ],
   "source": [
    "#example\n",
    "aggregate_visitors(fulllog)\n"
   ]
  },
  {
   "cell_type": "markdown",
   "metadata": {},
   "source": [
    "### Part 3"
   ]
  },
  {
   "cell_type": "markdown",
   "metadata": {},
   "source": [
    "The Search team wants to understand how well the search feature is contributing to new memberships. Write a script that scans the log entries for a day for URLs that begin with either \"/search\" or \"/signup\", and then answers these two related questions:\n",
    "\n",
    "What percentage of distinct visitors who request a \"/search\" URL end up requesting a\n",
    "\"/signup\" URL later on the same day?\n",
    "\n",
    "What percentage of distinct visitors who request a \"/signup\" URL have requested a \"/search\"\n",
    "URL earlier on the same day?"
   ]
  },
  {
   "cell_type": "code",
   "execution_count": null,
   "metadata": {
    "collapsed": true
   },
   "outputs": [],
   "source": []
  }
 ],
 "metadata": {
  "anaconda-cloud": {},
  "kernelspec": {
   "display_name": "Python [conda env:dsienv]",
   "language": "python",
   "name": "conda-env-dsienv-py"
  },
  "language_info": {
   "codemirror_mode": {
    "name": "ipython",
    "version": 2
   },
   "file_extension": ".py",
   "mimetype": "text/x-python",
   "name": "python",
   "nbconvert_exporter": "python",
   "pygments_lexer": "ipython2",
   "version": "2.7.12"
  }
 },
 "nbformat": 4,
 "nbformat_minor": 1
}
