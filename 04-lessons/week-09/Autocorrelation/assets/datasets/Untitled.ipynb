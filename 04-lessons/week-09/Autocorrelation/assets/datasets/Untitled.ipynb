{
 "cells": [
  {
   "cell_type": "code",
   "execution_count": 60,
   "metadata": {
    "collapsed": true
   },
   "outputs": [],
   "source": [
    "import numpy.random as rand\n",
    "import pandas as pd\n",
    "import numpy as np\n"
   ]
  },
  {
   "cell_type": "code",
   "execution_count": 87,
   "metadata": {
    "collapsed": false
   },
   "outputs": [],
   "source": [
    "arr = rand.rand(10000)\n",
    "arr_norm = rand.randn(10000)\n",
    "arr_sin = np.sin(np.linspace(0, 200*np.pi, num = 10000))"
   ]
  },
  {
   "cell_type": "code",
   "execution_count": 88,
   "metadata": {
    "collapsed": false
   },
   "outputs": [
    {
     "data": {
      "text/plain": [
       "10000"
      ]
     },
     "execution_count": 88,
     "metadata": {},
     "output_type": "execute_result"
    }
   ],
   "source": [
    "len(arr_sin)"
   ]
  },
  {
   "cell_type": "code",
   "execution_count": 89,
   "metadata": {
    "collapsed": false
   },
   "outputs": [],
   "source": [
    "df = pd.DataFrame()"
   ]
  },
  {
   "cell_type": "code",
   "execution_count": 90,
   "metadata": {
    "collapsed": false
   },
   "outputs": [],
   "source": [
    "df[\"rand\"] = arr\n",
    "df[\"rand_norm\"] = arr_norm\n",
    "df[\"sin\"] = arr_sin"
   ]
  },
  {
   "cell_type": "code",
   "execution_count": 91,
   "metadata": {
    "collapsed": false
   },
   "outputs": [
    {
     "data": {
      "text/plain": [
       "-0.0031606164479191182"
      ]
     },
     "execution_count": 91,
     "metadata": {},
     "output_type": "execute_result"
    }
   ],
   "source": [
    "df['rand'].autocorr(lag=10)"
   ]
  },
  {
   "cell_type": "code",
   "execution_count": 92,
   "metadata": {
    "collapsed": false
   },
   "outputs": [
    {
     "data": {
      "text/plain": [
       "-0.011818629777898241"
      ]
     },
     "execution_count": 92,
     "metadata": {},
     "output_type": "execute_result"
    }
   ],
   "source": [
    "df['rand_norm'].autocorr(lag=10)"
   ]
  },
  {
   "cell_type": "code",
   "execution_count": 93,
   "metadata": {
    "collapsed": false
   },
   "outputs": [
    {
     "data": {
      "text/plain": [
       "0.99802633384464123"
      ]
     },
     "execution_count": 93,
     "metadata": {},
     "output_type": "execute_result"
    }
   ],
   "source": [
    "df[\"sin\"].autocorr(lag=1)"
   ]
  },
  {
   "cell_type": "code",
   "execution_count": 94,
   "metadata": {
    "collapsed": false
   },
   "outputs": [
    {
     "data": {
      "text/plain": [
       "0       0.000000e+00\n",
       "1       6.279679e-02\n",
       "2       1.253457e-01\n",
       "3       1.873998e-01\n",
       "4       2.487142e-01\n",
       "5       3.090469e-01\n",
       "6       3.681596e-01\n",
       "7       4.258191e-01\n",
       "8       4.817977e-01\n",
       "9       5.358745e-01\n",
       "10      5.878361e-01\n",
       "11      6.374772e-01\n",
       "12      6.846021e-01\n",
       "13      7.290245e-01\n",
       "14      7.705693e-01\n",
       "15      8.090724e-01\n",
       "16      8.443818e-01\n",
       "17      8.763581e-01\n",
       "18      9.048752e-01\n",
       "19      9.298204e-01\n",
       "20      9.510953e-01\n",
       "21      9.686160e-01\n",
       "22      9.823131e-01\n",
       "23      9.921328e-01\n",
       "24      9.980362e-01\n",
       "25      1.000000e+00\n",
       "26      9.980165e-01\n",
       "27      9.920934e-01\n",
       "28      9.822543e-01\n",
       "29      9.685378e-01\n",
       "            ...     \n",
       "9970   -9.685378e-01\n",
       "9971   -9.822543e-01\n",
       "9972   -9.920934e-01\n",
       "9973   -9.980165e-01\n",
       "9974   -1.000000e+00\n",
       "9975   -9.980362e-01\n",
       "9976   -9.921328e-01\n",
       "9977   -9.823131e-01\n",
       "9978   -9.686160e-01\n",
       "9979   -9.510953e-01\n",
       "9980   -9.298204e-01\n",
       "9981   -9.048752e-01\n",
       "9982   -8.763581e-01\n",
       "9983   -8.443818e-01\n",
       "9984   -8.090724e-01\n",
       "9985   -7.705693e-01\n",
       "9986   -7.290245e-01\n",
       "9987   -6.846021e-01\n",
       "9988   -6.374772e-01\n",
       "9989   -5.878361e-01\n",
       "9990   -5.358745e-01\n",
       "9991   -4.817977e-01\n",
       "9992   -4.258191e-01\n",
       "9993   -3.681596e-01\n",
       "9994   -3.090469e-01\n",
       "9995   -2.487142e-01\n",
       "9996   -1.873998e-01\n",
       "9997   -1.253457e-01\n",
       "9998   -6.279679e-02\n",
       "9999    3.928773e-15\n",
       "Name: sin, dtype: float64"
      ]
     },
     "execution_count": 94,
     "metadata": {},
     "output_type": "execute_result"
    }
   ],
   "source": [
    "df[\"sin\"]"
   ]
  },
  {
   "cell_type": "code",
   "execution_count": null,
   "metadata": {
    "collapsed": true
   },
   "outputs": [],
   "source": []
  },
  {
   "cell_type": "code",
   "execution_count": null,
   "metadata": {
    "collapsed": true
   },
   "outputs": [],
   "source": []
  }
 ],
 "metadata": {
  "anaconda-cloud": {},
  "kernelspec": {
   "display_name": "Python [conda env:dsienv]",
   "language": "python",
   "name": "conda-env-dsienv-py"
  },
  "language_info": {
   "codemirror_mode": {
    "name": "ipython",
    "version": 2
   },
   "file_extension": ".py",
   "mimetype": "text/x-python",
   "name": "python",
   "nbconvert_exporter": "python",
   "pygments_lexer": "ipython2",
   "version": "2.7.12"
  }
 },
 "nbformat": 4,
 "nbformat_minor": 1
}
