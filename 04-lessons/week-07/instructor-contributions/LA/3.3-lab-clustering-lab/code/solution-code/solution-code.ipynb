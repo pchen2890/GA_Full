{
 "cells": [
  {
   "cell_type": "markdown",
   "metadata": {},
   "source": [
    "# Week 7 Lab 3.3\n",
    "## Airport Delay dataset with pipeline from clustering/unsupervised to classification/supervised"
   ]
  },
  {
   "cell_type": "code",
   "execution_count": 210,
   "metadata": {
    "collapsed": false
   },
   "outputs": [],
   "source": [
    "%matplotlib inline \n",
    "\n",
    "import pandas as pd\n",
    "import numpy as np\n",
    "from sklearn import cluster, metrics\n",
    "from sklearn.ensemble import ExtraTreesClassifier\n",
    "from sklearn.neighbors import KNeighborsClassifier\n",
    "\n",
    "from scipy.cluster.hierarchy import dendrogram, linkage, cophenet, fcluster\n",
    "from scipy.spatial.distance import pdist\n",
    "\n",
    "from sklearn.preprocessing import StandardScaler\n",
    "from sklearn.decomposition import PCA \n",
    "\n",
    "from sklearn import linear_model, decomposition, datasets\n",
    "from sklearn.pipeline import Pipeline\n",
    "from sklearn.grid_search import GridSearchCV\n",
    "\n",
    "\n",
    "import matplotlib.pyplot as plt\n",
    "import matplotlib\n",
    "import seaborn as sns\n",
    "matplotlib.style.use('ggplot') "
   ]
  },
  {
   "cell_type": "markdown",
   "metadata": {},
   "source": [
    "## 1. Format the Data"
   ]
  },
  {
   "cell_type": "code",
   "execution_count": 211,
   "metadata": {
    "collapsed": false
   },
   "outputs": [
    {
     "data": {
      "text/html": [
       "<div>\n",
       "<table border=\"1\" class=\"dataframe\">\n",
       "  <thead>\n",
       "    <tr style=\"text-align: right;\">\n",
       "      <th></th>\n",
       "      <th>Airport</th>\n",
       "      <th>Year</th>\n",
       "      <th>Departure Cancellations</th>\n",
       "      <th>Arrival Cancellations</th>\n",
       "      <th>Departure Diversions</th>\n",
       "      <th>Arrival Diversions</th>\n",
       "    </tr>\n",
       "  </thead>\n",
       "  <tbody>\n",
       "    <tr>\n",
       "      <th>0</th>\n",
       "      <td>ABQ</td>\n",
       "      <td>2004</td>\n",
       "      <td>242</td>\n",
       "      <td>235</td>\n",
       "      <td>71</td>\n",
       "      <td>46</td>\n",
       "    </tr>\n",
       "    <tr>\n",
       "      <th>1</th>\n",
       "      <td>ABQ</td>\n",
       "      <td>2005</td>\n",
       "      <td>221</td>\n",
       "      <td>190</td>\n",
       "      <td>61</td>\n",
       "      <td>33</td>\n",
       "    </tr>\n",
       "    <tr>\n",
       "      <th>2</th>\n",
       "      <td>ABQ</td>\n",
       "      <td>2006</td>\n",
       "      <td>392</td>\n",
       "      <td>329</td>\n",
       "      <td>71</td>\n",
       "      <td>124</td>\n",
       "    </tr>\n",
       "    <tr>\n",
       "      <th>3</th>\n",
       "      <td>ABQ</td>\n",
       "      <td>2007</td>\n",
       "      <td>366</td>\n",
       "      <td>304</td>\n",
       "      <td>107</td>\n",
       "      <td>45</td>\n",
       "    </tr>\n",
       "    <tr>\n",
       "      <th>4</th>\n",
       "      <td>ABQ</td>\n",
       "      <td>2008</td>\n",
       "      <td>333</td>\n",
       "      <td>300</td>\n",
       "      <td>79</td>\n",
       "      <td>42</td>\n",
       "    </tr>\n",
       "  </tbody>\n",
       "</table>\n",
       "</div>"
      ],
      "text/plain": [
       "  Airport  Year  Departure Cancellations  Arrival Cancellations  \\\n",
       "0     ABQ  2004                      242                    235   \n",
       "1     ABQ  2005                      221                    190   \n",
       "2     ABQ  2006                      392                    329   \n",
       "3     ABQ  2007                      366                    304   \n",
       "4     ABQ  2008                      333                    300   \n",
       "\n",
       "   Departure Diversions  Arrival Diversions  \n",
       "0                    71                  46  \n",
       "1                    61                  33  \n",
       "2                    71                 124  \n",
       "3                   107                  45  \n",
       "4                    79                  42  "
      ]
     },
     "execution_count": 211,
     "metadata": {},
     "output_type": "execute_result"
    }
   ],
   "source": [
    "ap = pd.read_csv('../../assets/datasets/airport2.csv')\n",
    "ap.head()"
   ]
  },
  {
   "cell_type": "code",
   "execution_count": 212,
   "metadata": {
    "collapsed": false
   },
   "outputs": [
    {
     "data": {
      "text/plain": [
       "<seaborn.axisgrid.PairGrid at 0x7ff1591ee890>"
      ]
     },
     "execution_count": 212,
     "metadata": {},
     "output_type": "execute_result"
    },
    {
     "data": {
      "image/png": "[encoded data removed]",
      "text/plain": [
       "<matplotlib.figure.Figure at 0x7ff1591ee910>"
      ]
     },
     "metadata": {},
     "output_type": "display_data"
    }
   ],
   "source": [
    "#plot before change Airport to numeric\n",
    "# Do you see any patterns in relationships of the scatter plot matrix\n",
    "sns.set()\n",
    "sns.pairplot(ap, hue=\"Airport\")"
   ]
  },
  {
   "cell_type": "markdown",
   "metadata": {},
   "source": [
    "Convert the class labels, in this case the airports, to numeric. *Remember*, we've truncated the airport dataset for simplicty to make this part easy! "
   ]
  },
  {
   "cell_type": "code",
   "execution_count": 213,
   "metadata": {
    "collapsed": false
   },
   "outputs": [],
   "source": [
    "def air_to_numeric(x):\n",
    "    if x=='ABQ':\n",
    "        return 1\n",
    "    if x=='ANC':\n",
    "        return 2\n",
    "    if x=='ATL':\n",
    "        return 3"
   ]
  },
  {
   "cell_type": "code",
   "execution_count": 214,
   "metadata": {
    "collapsed": false
   },
   "outputs": [],
   "source": [
    "ap['Airport'] = ap['Airport'].apply(air_to_numeric)"
   ]
  },
  {
   "cell_type": "markdown",
   "metadata": {},
   "source": [
    "## 2. Plot the data\n",
    "Consider outsourcing your EDA to tableau"
   ]
  },
  {
   "cell_type": "code",
   "execution_count": 215,
   "metadata": {
    "collapsed": false
   },
   "outputs": [
    {
     "data": {
      "text/plain": [
       "<matplotlib.axes._subplots.AxesSubplot at 0x7ff157f411d0>"
      ]
     },
     "execution_count": 215,
     "metadata": {},
     "output_type": "execute_result"
    },
    {
     "data": {
      "image/png": "[encoded data removed]",
      "text/plain": [
       "<matplotlib.figure.Figure at 0x7ff159205e90>"
      ]
     },
     "metadata": {},
     "output_type": "display_data"
    }
   ],
   "source": [
    "ap.plot(kind='scatter',x='Departure Cancellations',y='Arrival Cancellations')"
   ]
  },
  {
   "cell_type": "code",
   "execution_count": 216,
   "metadata": {
    "collapsed": false
   },
   "outputs": [
    {
     "data": {
      "text/plain": [
       "<matplotlib.axes._subplots.AxesSubplot at 0x7ff157e363d0>"
      ]
     },
     "execution_count": 216,
     "metadata": {},
     "output_type": "execute_result"
    },
    {
     "data": {
      "image/png": "[encoded data removed]",
      "text/plain": [
       "<matplotlib.figure.Figure at 0x7ff157e40bd0>"
      ]
     },
     "metadata": {},
     "output_type": "display_data"
    }
   ],
   "source": [
    "ap.plot(kind='scatter',x='Departure Cancellations',y='Departure Diversions')"
   ]
  },
  {
   "cell_type": "markdown",
   "metadata": {},
   "source": [
    "**Question**: Based on the graphs, how many clusters do you estimate that we have?"
   ]
  },
  {
   "cell_type": "markdown",
   "metadata": {},
   "source": [
    "# A SECTION\n",
    "## 3.  KMEANS =Perform a K-Means Clustering \n",
    "\n",
    "**Suggested additions:** \n",
    "- loop through different k values,  ways of initializing k-means clustering, and distance measures\n",
    "- Add at least one way to scale the data \n",
    "- Graph and compare the groupings of labels given different paramters\n",
    "- Compare and graph silhoutte scores and enertia (Sum of distances of samples to their closest cluster center) for each set of parameters used\n",
    "- Visualize and describe the values with cluster labels -- consider outsourcing to tableau. Apply a story to different clusters\n",
    "\n",
    "Remember: The Silhouette Coefficient for a sample is (sample_dist_nearest_cluster - intra_c_dist) / max(intra_c_dist, sample_dict_nearest_cluster). \n",
    "- b is the distance between a sample and the nearest cluster that the sample is not a part of.\n",
    "- a is mean intra-cluster distance (a) and the mean nearest-cluster distance (b) for each sample\n",
    "\n",
    " Silhouette Coefficent is only defined if number of labels is 2 <= n_labels <= n_samples - 1.\n"
   ]
  },
  {
   "cell_type": "markdown",
   "metadata": {},
   "source": [
    "#### 3.1 Split the dataset into the attribute data and class labels"
   ]
  },
  {
   "cell_type": "code",
   "execution_count": 217,
   "metadata": {
    "collapsed": true
   },
   "outputs": [],
   "source": [
    "x = ap.ix[:,1:5]\n",
    "y = ap.ix[:,0]"
   ]
  },
  {
   "cell_type": "code",
   "execution_count": 251,
   "metadata": {
    "collapsed": false
   },
   "outputs": [
    {
     "name": "stdout",
     "output_type": "stream",
     "text": [
      "[[ 2004   242   235    71]\n",
      " [ 2005   221   190    61]\n",
      " [ 2006   392   329    71]\n",
      " [ 2007   366   304   107]\n",
      " [ 2008   333   300    79]\n",
      " [ 2009   192   162    74]\n",
      " [ 2010   222   177    71]\n",
      " [ 2011   345   294    77]\n",
      " [ 2012   237   181    65]\n",
      " [ 2013   232   212    62]\n",
      " [ 2014   315   274    66]\n",
      " [ 2004   473   532    73]\n",
      " [ 2005   424   484    74]\n",
      " [ 2006   367   436    88]\n",
      " [ 2007   359   423    93]\n",
      " [ 2008   268   355    97]\n",
      " [ 2009   354   421    84]\n",
      " [ 2010   149   204    84]\n",
      " [ 2011   191   265    87]\n",
      " [ 2012   216   284    78]\n",
      " [ 2013   141   184    65]\n",
      " [ 2014   111   162    74]\n",
      " [ 2004  7870  8433   737]\n",
      " [ 2005 13837 14480   790]\n",
      " [ 2006  6624  7301   913]\n",
      " [ 2007  6796  7790   920]\n",
      " [ 2008  5830  6705   982]\n",
      " [ 2009  5324  6303  1064]\n",
      " [ 2010  8198  9279   971]\n",
      " [ 2011  6555  7484   903]\n",
      " [ 2012  2259  2782   798]\n",
      " [ 2013  2916  3450   870]\n",
      " [ 2014  5977  6483   781]]\n"
     ]
    }
   ],
   "source": [
    "X = x.as_matrix(columns=None)\n",
    "print X"
   ]
  },
  {
   "cell_type": "markdown",
   "metadata": {},
   "source": [
    "#### 3.2 Conduct the k-means clustering"
   ]
  },
  {
   "cell_type": "code",
   "execution_count": 219,
   "metadata": {
    "collapsed": false
   },
   "outputs": [
    {
     "data": {
      "text/plain": [
       "KMeans(copy_x=True, init='k-means++', max_iter=300, n_clusters=3, n_init=10,\n",
       "    n_jobs=1, precompute_distances='auto', random_state=None, tol=0.0001,\n",
       "    verbose=0)"
      ]
     },
     "execution_count": 219,
     "metadata": {},
     "output_type": "execute_result"
    }
   ],
   "source": [
    "k = 3\n",
    "kmeans = cluster.KMeans(n_clusters=k)\n",
    "kmeans.fit(X)"
   ]
  },
  {
   "cell_type": "markdown",
   "metadata": {},
   "source": [
    "#### 3.3 Compute the labels and centroids"
   ]
  },
  {
   "cell_type": "code",
   "execution_count": 220,
   "metadata": {
    "collapsed": true
   },
   "outputs": [],
   "source": [
    "labels = kmeans.labels_\n",
    "centroids = kmeans.cluster_centers_"
   ]
  },
  {
   "cell_type": "code",
   "execution_count": 221,
   "metadata": {
    "collapsed": false
   },
   "outputs": [
    {
     "name": "stdout",
     "output_type": "stream",
     "text": [
      "[0 0 0 0 0 0 0 0 0 0 0 0 0 0 0 0 0 0 0 0 0 0 1 2 1 1 1 1 1 1 0 0 1]\n",
      "[[  2009.29166667    471.875         526.66666667    140.375     ]\n",
      " [  2008.625        6646.75         7472.25          908.875     ]\n",
      " [  2005.          13837.          14480.            790.        ]]\n"
     ]
    }
   ],
   "source": [
    "print(labels)\n",
    "print(centroids)"
   ]
  },
  {
   "cell_type": "markdown",
   "metadata": {},
   "source": [
    "#### 3.4 Format the resulting predicted \"y\" variables and check the accuracy score, classification report, and confusion matrix"
   ]
  },
  {
   "cell_type": "code",
   "execution_count": 222,
   "metadata": {
    "collapsed": false
   },
   "outputs": [
    {
     "data": {
      "text/plain": [
       "0.0"
      ]
     },
     "execution_count": 222,
     "metadata": {},
     "output_type": "execute_result"
    }
   ],
   "source": [
    "metrics.accuracy_score(y, labels)"
   ]
  },
  {
   "cell_type": "code",
   "execution_count": 223,
   "metadata": {
    "collapsed": false
   },
   "outputs": [
    {
     "name": "stdout",
     "output_type": "stream",
     "text": [
      "             precision    recall  f1-score   support\n",
      "\n",
      "          0       0.00      0.00      0.00         0\n",
      "          1       0.00      0.00      0.00        11\n",
      "          2       0.00      0.00      0.00        11\n",
      "          3       0.00      0.00      0.00        11\n",
      "\n",
      "avg / total       0.00      0.00      0.00        33\n",
      "\n"
     ]
    }
   ],
   "source": [
    "print(metrics.classification_report(y, labels))"
   ]
  },
  {
   "cell_type": "code",
   "execution_count": 224,
   "metadata": {
    "collapsed": false
   },
   "outputs": [
    {
     "name": "stdout",
     "output_type": "stream",
     "text": [
      "[[ 0  0  0  0]\n",
      " [11  0  0  0]\n",
      " [11  0  0  0]\n",
      " [ 2  8  1  0]]\n"
     ]
    }
   ],
   "source": [
    "print(metrics.confusion_matrix(y, labels))"
   ]
  },
  {
   "cell_type": "code",
   "execution_count": 225,
   "metadata": {
    "collapsed": false
   },
   "outputs": [
    {
     "data": {
      "text/plain": [
       "0.87898661007879986"
      ]
     },
     "execution_count": 225,
     "metadata": {},
     "output_type": "execute_result"
    }
   ],
   "source": [
    "metrics.silhouette_score(x, labels, metric='euclidean')"
   ]
  },
  {
   "cell_type": "markdown",
   "metadata": {},
   "source": [
    "**Question**: What are we understand from this these performance metrics? "
   ]
  },
  {
   "cell_type": "markdown",
   "metadata": {},
   "source": [
    "# KMEANS to Classification\n",
    "## Kmeans labels to Extra Trees Classifier\n",
    "### Builds models with kmeans labels as targets\n",
    "\n",
    "Suggested addition: \n",
    "- Build this section with test/train split and/or cross validation\n",
    "- Output and Compare classification results from the \"best\" and \"worse\" labels"
   ]
  },
  {
   "cell_type": "code",
   "execution_count": 226,
   "metadata": {
    "collapsed": false
   },
   "outputs": [
    {
     "data": {
      "text/plain": [
       "ExtraTreesClassifier(bootstrap=False, class_weight=None, criterion='gini',\n",
       "           max_depth=None, max_features='auto', max_leaf_nodes=None,\n",
       "           min_samples_leaf=1, min_samples_split=2,\n",
       "           min_weight_fraction_leaf=0.0, n_estimators=10, n_jobs=1,\n",
       "           oob_score=False, random_state=None, verbose=0, warm_start=False)"
      ]
     },
     "execution_count": 226,
     "metadata": {},
     "output_type": "execute_result"
    }
   ],
   "source": [
    "trees = ExtraTreesClassifier()\n",
    "trees.fit(X, labels)"
   ]
  },
  {
   "cell_type": "code",
   "execution_count": 227,
   "metadata": {
    "collapsed": false
   },
   "outputs": [
    {
     "name": "stdout",
     "output_type": "stream",
     "text": [
      "[ 0.04222258  0.38101877  0.25037202  0.32638663]\n",
      "Index([u'Departure Cancellations', u'Arrival Cancellations',\n",
      "       u'Departure Diversions'],\n",
      "      dtype='object')\n"
     ]
    }
   ],
   "source": [
    "importances = trees.feature_importances_\n",
    "print(importances)\n",
    "print(ap.columns[2:-1])"
   ]
  },
  {
   "cell_type": "code",
   "execution_count": 228,
   "metadata": {
    "collapsed": false
   },
   "outputs": [
    {
     "data": {
      "image/png": "[encoded data removed]",
      "text/plain": [
       "<matplotlib.figure.Figure at 0x7ff15880d610>"
      ]
     },
     "metadata": {},
     "output_type": "display_data"
    }
   ],
   "source": [
    "#graph feature importance for \n",
    "indices = np.argsort(importances)[::-1]\n",
    "std = np.std([tree.feature_importances_ for tree in trees.estimators_],\n",
    "             axis=0)\n",
    "\n",
    "plt.figure()\n",
    "plt.title(\"Feature importances\")\n",
    "plt.bar(range(X.shape[1]), importances[indices],\n",
    "       color=\"r\", yerr=std[indices], align=\"center\")\n",
    "plt.xticks(range(X.shape[1]), indices)\n",
    "plt.xlim([-1, X.shape[1]])\n",
    "plt.show()"
   ]
  },
  {
   "cell_type": "markdown",
   "metadata": {},
   "source": [
    "# KMEANS to Classification\n",
    "## Kmeans labels to KNN Classifier\n",
    "### Builds models with kmeans labels as targets\n",
    "\n",
    "Suggested addition: \n",
    "- Build this section with test/train split and/or cross validation\n",
    "- Output and Compare classification results from the \"best\" and \"worse\" labels\n",
    "- Plot Knn results"
   ]
  },
  {
   "cell_type": "code",
   "execution_count": 229,
   "metadata": {
    "collapsed": false
   },
   "outputs": [
    {
     "data": {
      "text/plain": [
       "KNeighborsClassifier(algorithm='auto', leaf_size=30, metric='minkowski',\n",
       "           metric_params=None, n_jobs=1, n_neighbors=5, p=2,\n",
       "           weights='uniform')"
      ]
     },
     "execution_count": 229,
     "metadata": {},
     "output_type": "execute_result"
    }
   ],
   "source": [
    "knn = KNeighborsClassifier()\n",
    "knn.fit(X, labels)"
   ]
  },
  {
   "cell_type": "code",
   "execution_count": 230,
   "metadata": {
    "collapsed": false
   },
   "outputs": [],
   "source": [
    "exp = labels\n",
    "predicted = knn.predict(x)"
   ]
  },
  {
   "cell_type": "code",
   "execution_count": 231,
   "metadata": {
    "collapsed": false
   },
   "outputs": [
    {
     "name": "stdout",
     "output_type": "stream",
     "text": [
      "             precision    recall  f1-score   support\n",
      "\n",
      "          0       1.00      1.00      1.00        24\n",
      "          1       0.89      1.00      0.94         8\n",
      "          2       0.00      0.00      0.00         1\n",
      "\n",
      "avg / total       0.94      0.97      0.96        33\n",
      "\n",
      "[[24  0  0]\n",
      " [ 0  8  0]\n",
      " [ 0  1  0]]\n"
     ]
    }
   ],
   "source": [
    "print(metrics.classification_report(exp, predicted))\n",
    "print(metrics.confusion_matrix(exp, predicted))"
   ]
  },
  {
   "cell_type": "markdown",
   "metadata": {},
   "source": [
    "# B SECTION\n",
    "## Hierarchical Clustering - Conduct exploration and apply labels"
   ]
  },
  {
   "cell_type": "markdown",
   "metadata": {},
   "source": [
    "#### 1. Create the linkage for clustering\n",
    "\n",
    "Suggesions to add: \n",
    "- loop through distances and paramters to find the best cophrenetic source\n",
    "- Explore the dendrograms to determine what criteria to use for clusters"
   ]
  },
  {
   "cell_type": "code",
   "execution_count": 232,
   "metadata": {
    "collapsed": false
   },
   "outputs": [],
   "source": [
    "Z = linkage(X, 'ward')"
   ]
  },
  {
   "cell_type": "code",
   "execution_count": 233,
   "metadata": {
    "collapsed": false
   },
   "outputs": [
    {
     "data": {
      "text/plain": [
       "0.88957255706074634"
      ]
     },
     "execution_count": 233,
     "metadata": {},
     "output_type": "execute_result"
    }
   ],
   "source": [
    "c, coph_dists = cophenet(Z, pdist(X))\n",
    "c"
   ]
  },
  {
   "cell_type": "code",
   "execution_count": 234,
   "metadata": {
    "collapsed": false
   },
   "outputs": [
    {
     "data": {
      "image/png": "[encoded data removed]",
      "text/plain": [
       "<matplotlib.figure.Figure at 0x7ff157d656d0>"
      ]
     },
     "metadata": {},
     "output_type": "display_data"
    }
   ],
   "source": [
    "plt.figure(figsize=(30, 10))\n",
    "plt.title('Dendrogram')\n",
    "plt.xlabel('Index Numbers')\n",
    "plt.ylabel('Distance')\n",
    "dendrogram(\n",
    "    Z,\n",
    "    leaf_rotation=90.,  \n",
    "    leaf_font_size=8.,\n",
    ")\n",
    "plt.show()"
   ]
  },
  {
   "cell_type": "code",
   "execution_count": 235,
   "metadata": {
    "collapsed": false
   },
   "outputs": [
    {
     "data": {
      "image/png": "[encoded data removed]",
      "text/plain": [
       "<matplotlib.figure.Figure at 0x7ff157ba9f50>"
      ]
     },
     "metadata": {},
     "output_type": "display_data"
    }
   ],
   "source": [
    "plt.title('Truncated Dendrogram')\n",
    "plt.xlabel('Index Numbers')\n",
    "plt.ylabel('Distance')\n",
    "dendrogram(\n",
    "    Z,\n",
    "    truncate_mode='lastp',  \n",
    "    p=15,  \n",
    "    show_leaf_counts=False,  \n",
    "    leaf_rotation=90.,\n",
    "    leaf_font_size=12.,\n",
    "    show_contracted=True,  \n",
    ")\n",
    "plt.show()"
   ]
  },
  {
   "cell_type": "code",
   "execution_count": 236,
   "metadata": {
    "collapsed": false
   },
   "outputs": [
    {
     "data": {
      "text/plain": [
       "array([ 6,  7, 11, 12,  9,  8,  7,  9,  7,  6, 10,  2,  3,  1,  1, 15,  1,\n",
       "        4, 13, 14,  4,  5, 18, 26, 20, 22, 23, 25, 19, 21, 16, 17, 24], dtype=int32)"
      ]
     },
     "execution_count": 236,
     "metadata": {},
     "output_type": "execute_result"
    }
   ],
   "source": [
    "max_d = 30\n",
    "clusters = fcluster(Z, max_d, criterion='distance')\n",
    "clusters"
   ]
  },
  {
   "cell_type": "code",
   "execution_count": 237,
   "metadata": {
    "collapsed": false
   },
   "outputs": [
    {
     "data": {
      "image/png": "[encoded data removed]",
      "text/plain": [
       "<matplotlib.figure.Figure at 0x7ff157d65090>"
      ]
     },
     "metadata": {},
     "output_type": "display_data"
    }
   ],
   "source": [
    "plt.scatter(X[:,0], X[:,2], c=clusters, cmap='prism')\n",
    "plt.show()"
   ]
  },
  {
   "cell_type": "markdown",
   "metadata": {},
   "source": [
    "# Hierarchical Clustering to Classification\n",
    "## Hierarchical Clustering --> Extra Trees Classifier\n",
    "Applying hierarchical clustering gueses to classification algorithms. What kind of insight do you get from adding classification models at the end of your workflow?\n",
    "\n",
    "Suggested addition: \n",
    "- Build this section with test/train split and/or cross validation\n",
    "- Output and Compare classification results from the \"best\" and \"worse\" labels"
   ]
  },
  {
   "cell_type": "code",
   "execution_count": 238,
   "metadata": {
    "collapsed": false
   },
   "outputs": [
    {
     "data": {
      "text/plain": [
       "ExtraTreesClassifier(bootstrap=False, class_weight=None, criterion='gini',\n",
       "           max_depth=None, max_features='auto', max_leaf_nodes=None,\n",
       "           min_samples_leaf=1, min_samples_split=2,\n",
       "           min_weight_fraction_leaf=0.0, n_estimators=10, n_jobs=1,\n",
       "           oob_score=False, random_state=None, verbose=0, warm_start=False)"
      ]
     },
     "execution_count": 238,
     "metadata": {},
     "output_type": "execute_result"
    }
   ],
   "source": [
    "trees2 = ExtraTreesClassifier()\n",
    "trees2.fit(X, clusters) #clusters from hierarchical fclusters above"
   ]
  },
  {
   "cell_type": "code",
   "execution_count": 239,
   "metadata": {
    "collapsed": false
   },
   "outputs": [
    {
     "name": "stdout",
     "output_type": "stream",
     "text": [
      "[[2004  242  235   71]\n",
      " [2005  221  190   61]\n",
      " [2006  392  329   71]\n",
      " [2007  366  304  107]\n",
      " [2008  333  300   79]]\n",
      "[ 0.16745273  0.25984633  0.32458624  0.2481147 ]\n"
     ]
    }
   ],
   "source": [
    "print(X[:5])\n",
    "\n",
    "print(trees2.feature_importances_)"
   ]
  },
  {
   "cell_type": "markdown",
   "metadata": {},
   "source": [
    "## Hierarchical Clustering --> KNN Classifier"
   ]
  },
  {
   "cell_type": "code",
   "execution_count": 240,
   "metadata": {
    "collapsed": false
   },
   "outputs": [
    {
     "data": {
      "text/plain": [
       "KNeighborsClassifier(algorithm='auto', leaf_size=30, metric='minkowski',\n",
       "           metric_params=None, n_jobs=1, n_neighbors=5, p=2,\n",
       "           weights='uniform')"
      ]
     },
     "execution_count": 240,
     "metadata": {},
     "output_type": "execute_result"
    }
   ],
   "source": [
    "knn2 = KNeighborsClassifier()\n",
    "knn2.fit(X, clusters)"
   ]
  },
  {
   "cell_type": "code",
   "execution_count": 241,
   "metadata": {
    "collapsed": false
   },
   "outputs": [],
   "source": [
    "exp2 = clusters\n",
    "predicted2 = knn2.predict(X)"
   ]
  },
  {
   "cell_type": "code",
   "execution_count": 242,
   "metadata": {
    "collapsed": false
   },
   "outputs": [
    {
     "name": "stdout",
     "output_type": "stream",
     "text": [
      "             precision    recall  f1-score   support\n",
      "\n",
      "          0       1.00      1.00      1.00        24\n",
      "          1       0.89      1.00      0.94         8\n",
      "          2       0.00      0.00      0.00         1\n",
      "\n",
      "avg / total       0.94      0.97      0.96        33\n",
      "\n",
      "[[24  0  0]\n",
      " [ 0  8  0]\n",
      " [ 0  1  0]]\n"
     ]
    }
   ],
   "source": [
    "print(metrics.classification_report(exp, predicted))\n",
    "print(metrics.confusion_matrix(exp, predicted))"
   ]
  },
  {
   "cell_type": "markdown",
   "metadata": {
    "collapsed": true
   },
   "source": [
    "# SECTION C\n",
    "## PCA to Logistic Regression\n",
    "\n",
    "Suggestion to add: \n",
    "- Explore the PCA components & graph eigenvalues (scree plot) and cumulative explained variance\n",
    "- Find the most influential records in various PCA components, as well as relationship to loadings\n",
    "- Do you need to scale and transform the data before applying models? \n",
    "- Graph eigenvalues in components along with loadings\n",
    "- Add objects to your pipeline and Gridsearch, such as train/test split or cross validation\n",
    "- Plot the outputs of regression given different # components applied"
   ]
  },
  {
   "cell_type": "code",
   "execution_count": 243,
   "metadata": {
    "collapsed": false
   },
   "outputs": [],
   "source": [
    "PCA_ap = PCA(n_components=4)\n",
    "Y = PCA_ap.fit_transform(X)"
   ]
  },
  {
   "cell_type": "code",
   "execution_count": 244,
   "metadata": {
    "collapsed": false
   },
   "outputs": [
    {
     "name": "stdout",
     "output_type": "stream",
     "text": [
      "4\n",
      "[  2.54801800e+07   5.27045912e+04   3.04361873e+03   8.62336747e+00]\n"
     ]
    }
   ],
   "source": [
    "print PCA_ap.n_components\n",
    "print PCA_set.explained_variance_\n",
    "x_vals = np.arange(1, PCA_ap.n_components)"
   ]
  },
  {
   "cell_type": "code",
   "execution_count": 245,
   "metadata": {
    "collapsed": false
   },
   "outputs": [
    {
     "data": {
      "text/plain": [
       "Index([u'Year', u'Departure Cancellations', u'Arrival Cancellations',\n",
       "       u'Departure Diversions'],\n",
       "      dtype='object')"
      ]
     },
     "execution_count": 245,
     "metadata": {},
     "output_type": "execute_result"
    }
   ],
   "source": [
    "x.columns"
   ]
  },
  {
   "cell_type": "code",
   "execution_count": 246,
   "metadata": {
    "collapsed": false
   },
   "outputs": [
    {
     "name": "stdout",
     "output_type": "stream",
     "text": [
      "       Year  Dep Cancellations  Arrival Cancellations  Dep Diversions\n",
      "0 -0.000116          -0.004164               0.006314        0.999971\n",
      "1  0.673041           0.444510               0.591120       -0.001804\n",
      "2  0.736667          -0.331736              -0.589293        0.002425\n",
      "3  0.065853          -0.832072               0.550700       -0.006934\n"
     ]
    }
   ],
   "source": [
    "pca_loadings = pd.DataFrame(PCA_ap.components_.T, columns=['Year', 'Dep Cancellations', 'Arrival Cancellations',\n",
    "       'Dep Diversions'] )\n",
    "print pca_loadings"
   ]
  },
  {
   "cell_type": "code",
   "execution_count": 247,
   "metadata": {
    "collapsed": false
   },
   "outputs": [
    {
     "data": {
      "text/html": [
       "<div>\n",
       "<table border=\"1\" class=\"dataframe\">\n",
       "  <thead>\n",
       "    <tr style=\"text-align: right;\">\n",
       "      <th></th>\n",
       "      <th>PC1</th>\n",
       "      <th>PC2</th>\n",
       "      <th>PC3</th>\n",
       "      <th>PC4</th>\n",
       "    </tr>\n",
       "  </thead>\n",
       "  <tbody>\n",
       "    <tr>\n",
       "      <th>23</th>\n",
       "      <td>16471.506954</td>\n",
       "      <td>796.388016</td>\n",
       "      <td>39.211257</td>\n",
       "      <td>0.976857</td>\n",
       "    </tr>\n",
       "    <tr>\n",
       "      <th>28</th>\n",
       "      <td>8856.739269</td>\n",
       "      <td>-135.469109</td>\n",
       "      <td>-129.494680</td>\n",
       "      <td>2.279889</td>\n",
       "    </tr>\n",
       "    <tr>\n",
       "      <th>22</th>\n",
       "      <td>7997.352152</td>\n",
       "      <td>194.110532</td>\n",
       "      <td>46.257902</td>\n",
       "      <td>-3.557337</td>\n",
       "    </tr>\n",
       "    <tr>\n",
       "      <th>25</th>\n",
       "      <td>6812.879557</td>\n",
       "      <td>-222.268521</td>\n",
       "      <td>-108.892703</td>\n",
       "      <td>-1.448526</td>\n",
       "    </tr>\n",
       "    <tr>\n",
       "      <th>29</th>\n",
       "      <td>6424.136430</td>\n",
       "      <td>-213.755526</td>\n",
       "      <td>-80.365688</td>\n",
       "      <td>2.361859</td>\n",
       "    </tr>\n",
       "    <tr>\n",
       "      <th>24</th>\n",
       "      <td>6336.425242</td>\n",
       "      <td>-130.676452</td>\n",
       "      <td>73.737635</td>\n",
       "      <td>-3.275598</td>\n",
       "    </tr>\n",
       "    <tr>\n",
       "      <th>26</th>\n",
       "      <td>5367.520395</td>\n",
       "      <td>-343.323874</td>\n",
       "      <td>-6.382255</td>\n",
       "      <td>-1.767318</td>\n",
       "    </tr>\n",
       "    <tr>\n",
       "      <th>32</th>\n",
       "      <td>5289.680084</td>\n",
       "      <td>-37.113834</td>\n",
       "      <td>100.682528</td>\n",
       "      <td>4.822777</td>\n",
       "    </tr>\n",
       "    <tr>\n",
       "      <th>27</th>\n",
       "      <td>4736.221098</td>\n",
       "      <td>-503.122030</td>\n",
       "      <td>-23.429566</td>\n",
       "      <td>-1.398161</td>\n",
       "    </tr>\n",
       "    <tr>\n",
       "      <th>31</th>\n",
       "      <td>1001.049756</td>\n",
       "      <td>-465.652883</td>\n",
       "      <td>127.595064</td>\n",
       "      <td>1.371533</td>\n",
       "    </tr>\n",
       "    <tr>\n",
       "      <th>30</th>\n",
       "      <td>62.026538</td>\n",
       "      <td>-476.182704</td>\n",
       "      <td>93.220020</td>\n",
       "      <td>0.435914</td>\n",
       "    </tr>\n",
       "    <tr>\n",
       "      <th>11</th>\n",
       "      <td>-2845.269400</td>\n",
       "      <td>79.614999</td>\n",
       "      <td>-35.919925</td>\n",
       "      <td>-4.771513</td>\n",
       "    </tr>\n",
       "    <tr>\n",
       "      <th>12</th>\n",
       "      <td>-2913.542717</td>\n",
       "      <td>72.921118</td>\n",
       "      <td>-36.041740</td>\n",
       "      <td>-3.806498</td>\n",
       "    </tr>\n",
       "    <tr>\n",
       "      <th>13</th>\n",
       "      <td>-2986.344272</td>\n",
       "      <td>51.854215</td>\n",
       "      <td>-33.733410</td>\n",
       "      <td>-2.917199</td>\n",
       "    </tr>\n",
       "    <tr>\n",
       "      <th>14</th>\n",
       "      <td>-3000.976127</td>\n",
       "      <td>48.446183</td>\n",
       "      <td>-28.041747</td>\n",
       "      <td>-1.968996</td>\n",
       "    </tr>\n",
       "    <tr>\n",
       "      <th>16</th>\n",
       "      <td>-3006.407579</td>\n",
       "      <td>54.367429</td>\n",
       "      <td>-34.762438</td>\n",
       "      <td>0.097524</td>\n",
       "    </tr>\n",
       "    <tr>\n",
       "      <th>2</th>\n",
       "      <td>-3049.461163</td>\n",
       "      <td>112.608002</td>\n",
       "      <td>34.737026</td>\n",
       "      <td>-3.103898</td>\n",
       "    </tr>\n",
       "    <tr>\n",
       "      <th>3</th>\n",
       "      <td>-3083.006319</td>\n",
       "      <td>79.385385</td>\n",
       "      <td>53.931754</td>\n",
       "      <td>-2.367293</td>\n",
       "    </tr>\n",
       "    <tr>\n",
       "      <th>7</th>\n",
       "      <td>-3106.482918</td>\n",
       "      <td>98.313551</td>\n",
       "      <td>30.915403</td>\n",
       "      <td>1.854250</td>\n",
       "    </tr>\n",
       "    <tr>\n",
       "      <th>4</th>\n",
       "      <td>-3110.007354</td>\n",
       "      <td>89.337356</td>\n",
       "      <td>21.368662</td>\n",
       "      <td>-1.123337</td>\n",
       "    </tr>\n",
       "    <tr>\n",
       "      <th>15</th>\n",
       "      <td>-3112.052963</td>\n",
       "      <td>27.221389</td>\n",
       "      <td>-39.552649</td>\n",
       "      <td>-0.997529</td>\n",
       "    </tr>\n",
       "    <tr>\n",
       "      <th>10</th>\n",
       "      <td>-3142.132235</td>\n",
       "      <td>100.753280</td>\n",
       "      <td>18.928894</td>\n",
       "      <td>4.936051</td>\n",
       "    </tr>\n",
       "    <tr>\n",
       "      <th>19</th>\n",
       "      <td>-3200.606167</td>\n",
       "      <td>43.452871</td>\n",
       "      <td>-38.889154</td>\n",
       "      <td>3.055720</td>\n",
       "    </tr>\n",
       "    <tr>\n",
       "      <th>0</th>\n",
       "      <td>-3219.663847</td>\n",
       "      <td>77.123038</td>\n",
       "      <td>1.449904</td>\n",
       "      <td>-5.061240</td>\n",
       "    </tr>\n",
       "    <tr>\n",
       "      <th>18</th>\n",
       "      <td>-3230.836083</td>\n",
       "      <td>31.158623</td>\n",
       "      <td>-37.520604</td>\n",
       "      <td>1.992356</td>\n",
       "    </tr>\n",
       "    <tr>\n",
       "      <th>9</th>\n",
       "      <td>-3243.931331</td>\n",
       "      <td>87.759053</td>\n",
       "      <td>4.192964</td>\n",
       "      <td>3.963171</td>\n",
       "    </tr>\n",
       "    <tr>\n",
       "      <th>8</th>\n",
       "      <td>-3263.205140</td>\n",
       "      <td>97.773382</td>\n",
       "      <td>27.062431</td>\n",
       "      <td>2.858199</td>\n",
       "    </tr>\n",
       "    <tr>\n",
       "      <th>1</th>\n",
       "      <td>-3267.606394</td>\n",
       "      <td>91.033026</td>\n",
       "      <td>10.053871</td>\n",
       "      <td>-4.063177</td>\n",
       "    </tr>\n",
       "    <tr>\n",
       "      <th>6</th>\n",
       "      <td>-3275.852077</td>\n",
       "      <td>87.448569</td>\n",
       "      <td>23.844374</td>\n",
       "      <td>0.834006</td>\n",
       "    </tr>\n",
       "    <tr>\n",
       "      <th>17</th>\n",
       "      <td>-3304.237970</td>\n",
       "      <td>35.225504</td>\n",
       "      <td>-28.059200</td>\n",
       "      <td>0.941013</td>\n",
       "    </tr>\n",
       "    <tr>\n",
       "      <th>5</th>\n",
       "      <td>-3306.895648</td>\n",
       "      <td>76.597259</td>\n",
       "      <td>16.595950</td>\n",
       "      <td>-0.169033</td>\n",
       "    </tr>\n",
       "    <tr>\n",
       "      <th>20</th>\n",
       "      <td>-3325.607207</td>\n",
       "      <td>54.101035</td>\n",
       "      <td>-31.446669</td>\n",
       "      <td>4.038606</td>\n",
       "    </tr>\n",
       "    <tr>\n",
       "      <th>21</th>\n",
       "      <td>-3361.412563</td>\n",
       "      <td>40.571119</td>\n",
       "      <td>-31.253212</td>\n",
       "      <td>4.976929</td>\n",
       "    </tr>\n",
       "  </tbody>\n",
       "</table>\n",
       "</div>"
      ],
      "text/plain": [
       "             PC1         PC2         PC3       PC4\n",
       "23  16471.506954  796.388016   39.211257  0.976857\n",
       "28   8856.739269 -135.469109 -129.494680  2.279889\n",
       "22   7997.352152  194.110532   46.257902 -3.557337\n",
       "25   6812.879557 -222.268521 -108.892703 -1.448526\n",
       "29   6424.136430 -213.755526  -80.365688  2.361859\n",
       "24   6336.425242 -130.676452   73.737635 -3.275598\n",
       "26   5367.520395 -343.323874   -6.382255 -1.767318\n",
       "32   5289.680084  -37.113834  100.682528  4.822777\n",
       "27   4736.221098 -503.122030  -23.429566 -1.398161\n",
       "31   1001.049756 -465.652883  127.595064  1.371533\n",
       "30     62.026538 -476.182704   93.220020  0.435914\n",
       "11  -2845.269400   79.614999  -35.919925 -4.771513\n",
       "12  -2913.542717   72.921118  -36.041740 -3.806498\n",
       "13  -2986.344272   51.854215  -33.733410 -2.917199\n",
       "14  -3000.976127   48.446183  -28.041747 -1.968996\n",
       "16  -3006.407579   54.367429  -34.762438  0.097524\n",
       "2   -3049.461163  112.608002   34.737026 -3.103898\n",
       "3   -3083.006319   79.385385   53.931754 -2.367293\n",
       "7   -3106.482918   98.313551   30.915403  1.854250\n",
       "4   -3110.007354   89.337356   21.368662 -1.123337\n",
       "15  -3112.052963   27.221389  -39.552649 -0.997529\n",
       "10  -3142.132235  100.753280   18.928894  4.936051\n",
       "19  -3200.606167   43.452871  -38.889154  3.055720\n",
       "0   -3219.663847   77.123038    1.449904 -5.061240\n",
       "18  -3230.836083   31.158623  -37.520604  1.992356\n",
       "9   -3243.931331   87.759053    4.192964  3.963171\n",
       "8   -3263.205140   97.773382   27.062431  2.858199\n",
       "1   -3267.606394   91.033026   10.053871 -4.063177\n",
       "6   -3275.852077   87.448569   23.844374  0.834006\n",
       "17  -3304.237970   35.225504  -28.059200  0.941013\n",
       "5   -3306.895648   76.597259   16.595950 -0.169033\n",
       "20  -3325.607207   54.101035  -31.446669  4.038606\n",
       "21  -3361.412563   40.571119  -31.253212  4.976929"
      ]
     },
     "execution_count": 247,
     "metadata": {},
     "output_type": "execute_result"
    }
   ],
   "source": [
    "ap_pca = pd.DataFrame(Y, columns=['PC1', 'PC2', 'PC3', 'PC4'])\n",
    "ap_pca.sort_values(by='PC1', ascending=False)"
   ]
  },
  {
   "cell_type": "code",
   "execution_count": 248,
   "metadata": {
    "collapsed": false
   },
   "outputs": [],
   "source": [
    "PCA_chain = PCA(n_components=4)\n",
    "logistic = linear_model.LogisticRegression()\n",
    "pipe = Pipeline(steps=[('pca', PCA_chain), ('logistic', logistic)])"
   ]
  },
  {
   "cell_type": "code",
   "execution_count": 249,
   "metadata": {
    "collapsed": false
   },
   "outputs": [
    {
     "data": {
      "text/plain": [
       "PCA(copy=True, n_components=4, whiten=False)"
      ]
     },
     "execution_count": 249,
     "metadata": {},
     "output_type": "execute_result"
    }
   ],
   "source": [
    "PCA_chain.fit(X)"
   ]
  },
  {
   "cell_type": "code",
   "execution_count": 250,
   "metadata": {
    "collapsed": false
   },
   "outputs": [
    {
     "data": {
      "text/plain": [
       "<matplotlib.text.Text at 0x7ff15798acd0>"
      ]
     },
     "execution_count": 250,
     "metadata": {},
     "output_type": "execute_result"
    },
    {
     "data": {
      "image/png": "[encoded data removed]",
      "text/plain": [
       "<matplotlib.figure.Figure at 0x7ff1579b1bd0>"
      ]
     },
     "metadata": {},
     "output_type": "display_data"
    }
   ],
   "source": [
    "plt.figure(1, figsize=(4, 3))\n",
    "plt.clf()\n",
    "plt.axes([.2, .2, .7, .7])\n",
    "plt.plot(PCA_chain.explained_variance_, linewidth=2)\n",
    "plt.axis('tight')\n",
    "plt.xlabel('n_components')\n",
    "plt.ylabel('explained_variance_')"
   ]
  },
  {
   "cell_type": "code",
   "execution_count": null,
   "metadata": {
    "collapsed": true
   },
   "outputs": [],
   "source": [
    "#Parameters of pipelines can be set using ‘__’ separated parameter names:\n",
    "\n",
    "estimator = GridSearchCV(pipe,\n",
    "                         dict(pca__n_components=n_components,\n",
    "                              logistic__C=Cs))\n",
    "estimator.fit(X_digits, y_digits)\n",
    "\n",
    "plt.axvline(estimator.best_estimator_.named_steps['pca'].n_components,\n",
    "            linestyle=':', label='n_components chosen')\n",
    "plt.legend(prop=dict(size=12))\n",
    "plt.show()"
   ]
  }
 ],
 "metadata": {
  "kernelspec": {
   "display_name": "Python 2",
   "language": "python",
   "name": "python2"
  },
  "language_info": {
   "codemirror_mode": {
    "name": "ipython",
    "version": 2
   },
   "file_extension": ".py",
   "mimetype": "text/x-python",
   "name": "python",
   "nbconvert_exporter": "python",
   "pygments_lexer": "ipython2",
   "version": "2.7.12"
  }
 },
 "nbformat": 4,
 "nbformat_minor": 0
}
