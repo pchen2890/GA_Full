{
 "cells": [
  {
   "cell_type": "code",
   "execution_count": 35,
   "metadata": {
    "collapsed": false
   },
   "outputs": [
    {
     "name": "stdout",
     "output_type": "stream",
     "text": [
      "The sql extension is already loaded. To reload it, use:\n",
      "  %reload_ext sql\n"
     ]
    }
   ],
   "source": [
    "%load_ext sql"
   ]
  },
  {
   "cell_type": "code",
   "execution_count": 36,
   "metadata": {
    "collapsed": false
   },
   "outputs": [
    {
     "data": {
      "text/plain": [
       "u'Connected: basilbeirouti@None'"
      ]
     },
     "execution_count": 36,
     "metadata": {},
     "output_type": "execute_result"
    }
   ],
   "source": [
    "%%sql \n",
    "postgresql://basilbeirouti@localhost:5432"
   ]
  },
  {
   "cell_type": "code",
   "execution_count": 50,
   "metadata": {
    "collapsed": false
   },
   "outputs": [
    {
     "name": "stdout",
     "output_type": "stream",
     "text": [
      "Done.\n"
     ]
    },
    {
     "data": {
      "text/plain": [
       "[]"
      ]
     },
     "execution_count": 50,
     "metadata": {},
     "output_type": "execute_result"
    }
   ],
   "source": [
    "%%sql\n",
    "DROP TABLE mytable;"
   ]
  },
  {
   "cell_type": "markdown",
   "metadata": {},
   "source": [
    "The data type of **wine_id** is serial. This is a pecial notation to create unique identifier columns. The values will automatically be generated and incremented for every new row that is added to the table.\n",
    "\n",
    "See the docs https://www.postgresql.org/docs/9.3/static/datatype-numeric.html"
   ]
  },
  {
   "cell_type": "code",
   "execution_count": 45,
   "metadata": {
    "collapsed": false
   },
   "outputs": [
    {
     "name": "stdout",
     "output_type": "stream",
     "text": [
      "Done.\n"
     ]
    },
    {
     "data": {
      "text/plain": [
       "[]"
      ]
     },
     "execution_count": 45,
     "metadata": {},
     "output_type": "execute_result"
    }
   ],
   "source": [
    "%%sql\n",
    "CREATE TABLE mytable(\n",
    "    wine_id SERIAL PRIMARY KEY,\n",
    "    fixed_acidity  VARCHAR(13) NOT NULL\n",
    "  ,volatile_acidity  VARCHAR(16) NOT NULL\n",
    "  ,citric_acid  VARCHAR(11) NOT NULL\n",
    "  ,residual_sugar  VARCHAR(14) NOT NULL\n",
    "  ,chlorides  VARCHAR(9) NOT NULL\n",
    "  ,free_so2  VARCHAR(19) NOT NULL\n",
    "  ,total_so2  VARCHAR(20) NOT NULL\n",
    "  ,density  VARCHAR(7) NOT NULL\n",
    "  ,pH  VARCHAR(4) NOT NULL\n",
    "  ,sulphates VARCHAR(9) NOT NULL\n",
    "  ,alcohol VARCHAR(11) NOT NULL\n",
    "  ,quality VARCHAR(7) NOT NULL\n",
    ");"
   ]
  },
  {
   "cell_type": "markdown",
   "metadata": {},
   "source": [
    "Note that the column **wine_id** is not specified. PostgreSQL will automatically generate the values for that column since we specified the datatype as SERIAL (see above)."
   ]
  },
  {
   "cell_type": "code",
   "execution_count": 46,
   "metadata": {
    "collapsed": false
   },
   "outputs": [
    {
     "name": "stdout",
     "output_type": "stream",
     "text": [
      "1 rows affected.\n"
     ]
    },
    {
     "data": {
      "text/plain": [
       "[]"
      ]
     },
     "execution_count": 46,
     "metadata": {},
     "output_type": "execute_result"
    }
   ],
   "source": [
    "%%sql\n",
    "INSERT INTO mytable( fixed_acidity,\n",
    "                    volatile_acidity,\n",
    "                    citric_acid,\n",
    "                    residual_sugar,\n",
    "                    chlorides,\n",
    "                    free_so2,\n",
    "                    total_so2,\n",
    "                    density,\n",
    "                    pH,\n",
    "                    sulphates,\n",
    "                    alcohol,\n",
    "                    quality)\n",
    "VALUES\n",
    "('7.4','0.7','0','1.9','0.076','11','34','0.9978','3.51','0.56','9.4','5');\n"
   ]
  },
  {
   "cell_type": "markdown",
   "metadata": {},
   "source": [
    "Note how the wine_id value was automatically generated."
   ]
  },
  {
   "cell_type": "code",
   "execution_count": 47,
   "metadata": {
    "collapsed": false
   },
   "outputs": [
    {
     "name": "stdout",
     "output_type": "stream",
     "text": [
      "1 rows affected.\n"
     ]
    },
    {
     "data": {
      "text/html": [
       "<table>\n",
       "    <tr>\n",
       "        <th>wine_id</th>\n",
       "        <th>fixed_acidity</th>\n",
       "        <th>volatile_acidity</th>\n",
       "        <th>citric_acid</th>\n",
       "        <th>residual_sugar</th>\n",
       "        <th>chlorides</th>\n",
       "        <th>free_so2</th>\n",
       "        <th>total_so2</th>\n",
       "        <th>density</th>\n",
       "        <th>ph</th>\n",
       "        <th>sulphates</th>\n",
       "        <th>alcohol</th>\n",
       "        <th>quality</th>\n",
       "    </tr>\n",
       "    <tr>\n",
       "        <td>1</td>\n",
       "        <td>7.4</td>\n",
       "        <td>0.7</td>\n",
       "        <td>0</td>\n",
       "        <td>1.9</td>\n",
       "        <td>0.076</td>\n",
       "        <td>11</td>\n",
       "        <td>34</td>\n",
       "        <td>0.9978</td>\n",
       "        <td>3.51</td>\n",
       "        <td>0.56</td>\n",
       "        <td>9.4</td>\n",
       "        <td>5</td>\n",
       "    </tr>\n",
       "</table>"
      ],
      "text/plain": [
       "[(1, u'7.4', u'0.7', u'0', u'1.9', u'0.076', u'11', u'34', u'0.9978', u'3.51', u'0.56', u'9.4', u'5')]"
      ]
     },
     "execution_count": 47,
     "metadata": {},
     "output_type": "execute_result"
    }
   ],
   "source": [
    "%%sql\n",
    "SELECT * FROM mytable;"
   ]
  },
  {
   "cell_type": "markdown",
   "metadata": {},
   "source": [
    "Here, instead of merely excluding the first row **wine_id** from the INSERT INTO statement, I include **wine_id**, and include the keyword DEFAULT instead of a real value in VALUES clause. The effect is the same, but this syntax might be easier to understand."
   ]
  },
  {
   "cell_type": "code",
   "execution_count": 48,
   "metadata": {
    "collapsed": false
   },
   "outputs": [
    {
     "name": "stdout",
     "output_type": "stream",
     "text": [
      "1 rows affected.\n"
     ]
    },
    {
     "data": {
      "text/plain": [
       "[]"
      ]
     },
     "execution_count": 48,
     "metadata": {},
     "output_type": "execute_result"
    }
   ],
   "source": [
    "%%sql\n",
    "INSERT INTO mytable( wine_id,\n",
    "                    fixed_acidity,\n",
    "                    volatile_acidity,\n",
    "                    citric_acid,\n",
    "                    residual_sugar,\n",
    "                    chlorides,\n",
    "                    free_so2,\n",
    "                    total_so2,\n",
    "                    density,\n",
    "                    pH,\n",
    "                    sulphates,\n",
    "                    alcohol,\n",
    "                    quality)\n",
    "VALUES\n",
    "(DEFAULT, '7.5','0.75','0.1','1.2','0.048','12','31','0.9782','3.21','0.86','5.2','5');\n"
   ]
  },
  {
   "cell_type": "markdown",
   "metadata": {},
   "source": [
    "As you can see, the unique ID is generated nicely and automatically for both entries"
   ]
  },
  {
   "cell_type": "code",
   "execution_count": 49,
   "metadata": {
    "collapsed": false
   },
   "outputs": [
    {
     "name": "stdout",
     "output_type": "stream",
     "text": [
      "2 rows affected.\n"
     ]
    },
    {
     "data": {
      "text/html": [
       "<table>\n",
       "    <tr>\n",
       "        <th>wine_id</th>\n",
       "        <th>fixed_acidity</th>\n",
       "        <th>volatile_acidity</th>\n",
       "        <th>citric_acid</th>\n",
       "        <th>residual_sugar</th>\n",
       "        <th>chlorides</th>\n",
       "        <th>free_so2</th>\n",
       "        <th>total_so2</th>\n",
       "        <th>density</th>\n",
       "        <th>ph</th>\n",
       "        <th>sulphates</th>\n",
       "        <th>alcohol</th>\n",
       "        <th>quality</th>\n",
       "    </tr>\n",
       "    <tr>\n",
       "        <td>1</td>\n",
       "        <td>7.4</td>\n",
       "        <td>0.7</td>\n",
       "        <td>0</td>\n",
       "        <td>1.9</td>\n",
       "        <td>0.076</td>\n",
       "        <td>11</td>\n",
       "        <td>34</td>\n",
       "        <td>0.9978</td>\n",
       "        <td>3.51</td>\n",
       "        <td>0.56</td>\n",
       "        <td>9.4</td>\n",
       "        <td>5</td>\n",
       "    </tr>\n",
       "    <tr>\n",
       "        <td>2</td>\n",
       "        <td>7.5</td>\n",
       "        <td>0.75</td>\n",
       "        <td>0.1</td>\n",
       "        <td>1.2</td>\n",
       "        <td>0.048</td>\n",
       "        <td>12</td>\n",
       "        <td>31</td>\n",
       "        <td>0.9782</td>\n",
       "        <td>3.21</td>\n",
       "        <td>0.86</td>\n",
       "        <td>5.2</td>\n",
       "        <td>5</td>\n",
       "    </tr>\n",
       "</table>"
      ],
      "text/plain": [
       "[(1, u'7.4', u'0.7', u'0', u'1.9', u'0.076', u'11', u'34', u'0.9978', u'3.51', u'0.56', u'9.4', u'5'),\n",
       " (2, u'7.5', u'0.75', u'0.1', u'1.2', u'0.048', u'12', u'31', u'0.9782', u'3.21', u'0.86', u'5.2', u'5')]"
      ]
     },
     "execution_count": 49,
     "metadata": {},
     "output_type": "execute_result"
    }
   ],
   "source": [
    "%%sql\n",
    "\n",
    "SELECT * FROM mytable;"
   ]
  },
  {
   "cell_type": "markdown",
   "metadata": {},
   "source": [
    "## CSV to SQL"
   ]
  },
  {
   "cell_type": "markdown",
   "metadata": {},
   "source": [
    "You still need to create the table, no way around that. "
   ]
  },
  {
   "cell_type": "code",
   "execution_count": 51,
   "metadata": {
    "collapsed": false
   },
   "outputs": [
    {
     "name": "stdout",
     "output_type": "stream",
     "text": [
      "Done.\n",
      "Done.\n"
     ]
    },
    {
     "data": {
      "text/plain": [
       "[]"
      ]
     },
     "execution_count": 51,
     "metadata": {},
     "output_type": "execute_result"
    }
   ],
   "source": [
    "%%sql\n",
    "DROP TABLE IF EXISTS mytable;\n",
    "CREATE TABLE mytable(\n",
    "    wine_id SERIAL PRIMARY KEY,\n",
    "    fixed_acidity  VARCHAR(13) NOT NULL\n",
    "  ,volatile_acidity  VARCHAR(16) NOT NULL\n",
    "  ,citric_acid  VARCHAR(11) NOT NULL\n",
    "  ,residual_sugar  VARCHAR(14) NOT NULL\n",
    "  ,chlorides  VARCHAR(9) NOT NULL\n",
    "  ,free_so2  VARCHAR(19) NOT NULL\n",
    "  ,total_so2  VARCHAR(20) NOT NULL\n",
    "  ,density  VARCHAR(7) NOT NULL\n",
    "  ,pH  VARCHAR(4) NOT NULL\n",
    "  ,sulphates VARCHAR(9) NOT NULL\n",
    "  ,alcohol VARCHAR(11) NOT NULL\n",
    "  ,quality VARCHAR(7) NOT NULL\n",
    ");"
   ]
  },
  {
   "cell_type": "markdown",
   "metadata": {},
   "source": [
    "Now we can use the COPY [tablename] FROM [filepath] syntax. \n",
    "\n",
    "A few things to note:\n",
    "   1. Absolute path to the file. Don't use relative\n",
    "   \n",
    "   2. single quote strings are necessary for the path\n",
    "   \n",
    "   3. wine_id is not specified with rest of column names, because it is autogenerated"
   ]
  },
  {
   "cell_type": "code",
   "execution_count": 52,
   "metadata": {
    "collapsed": false
   },
   "outputs": [
    {
     "name": "stdout",
     "output_type": "stream",
     "text": [
      "1599 rows affected.\n"
     ]
    },
    {
     "data": {
      "text/plain": [
       "[]"
      ]
     },
     "execution_count": 52,
     "metadata": {},
     "output_type": "execute_result"
    }
   ],
   "source": [
    "%%sql\n",
    "COPY mytable(fixed_acidity, \n",
    "             volatile_acidity, \n",
    "             citric_acid, \n",
    "             residual_sugar, \n",
    "             chlorides, \n",
    "             free_so2, \n",
    "             total_so2, \n",
    "             density, \n",
    "             pH, \n",
    "             sulphates, \n",
    "             alcohol, \n",
    "             quality) \n",
    "FROM\n",
    "'/Users/basilbeirouti/Github/DSI-ATX-1/curriculum/04-lessons/week-06.5/PostgreSQL/wine_noid.csv' \n",
    "DELIMITER ',' CSV HEADER;"
   ]
  },
  {
   "cell_type": "markdown",
   "metadata": {},
   "source": [
    "If the csv file already has a uid, then we would add **wine_id** to the list of column names. "
   ]
  },
  {
   "cell_type": "code",
   "execution_count": 53,
   "metadata": {
    "collapsed": false
   },
   "outputs": [
    {
     "name": "stdout",
     "output_type": "stream",
     "text": [
      "Done.\n",
      "Done.\n"
     ]
    },
    {
     "data": {
      "text/plain": [
       "[]"
      ]
     },
     "execution_count": 53,
     "metadata": {},
     "output_type": "execute_result"
    }
   ],
   "source": [
    "%%sql\n",
    "DROP TABLE IF EXISTS mytable;\n",
    "CREATE TABLE mytable(\n",
    "    wine_id SERIAL PRIMARY KEY,\n",
    "    fixed_acidity  VARCHAR(13) NOT NULL\n",
    "  ,volatile_acidity  VARCHAR(16) NOT NULL\n",
    "  ,citric_acid  VARCHAR(11) NOT NULL\n",
    "  ,residual_sugar  VARCHAR(14) NOT NULL\n",
    "  ,chlorides  VARCHAR(9) NOT NULL\n",
    "  ,free_so2  VARCHAR(19) NOT NULL\n",
    "  ,total_so2  VARCHAR(20) NOT NULL\n",
    "  ,density  VARCHAR(7) NOT NULL\n",
    "  ,pH  VARCHAR(4) NOT NULL\n",
    "  ,sulphates VARCHAR(9) NOT NULL\n",
    "  ,alcohol VARCHAR(11) NOT NULL\n",
    "  ,quality VARCHAR(7) NOT NULL\n",
    ");"
   ]
  },
  {
   "cell_type": "code",
   "execution_count": 54,
   "metadata": {
    "collapsed": false
   },
   "outputs": [
    {
     "name": "stdout",
     "output_type": "stream",
     "text": [
      "1599 rows affected.\n"
     ]
    },
    {
     "data": {
      "text/plain": [
       "[]"
      ]
     },
     "execution_count": 54,
     "metadata": {},
     "output_type": "execute_result"
    }
   ],
   "source": [
    "%%sql\n",
    "COPY mytable(wine_id, \n",
    "             fixed_acidity, \n",
    "             volatile_acidity, \n",
    "             citric_acid, \n",
    "             residual_sugar, \n",
    "             chlorides, \n",
    "             free_so2, \n",
    "             total_so2, \n",
    "             density, \n",
    "             pH, \n",
    "             sulphates, \n",
    "             alcohol, \n",
    "             quality) \n",
    "FROM\n",
    "'/Users/basilbeirouti/Github/DSI-ATX-1/curriculum/04-lessons/week-06.5/PostgreSQL/wine.csv' \n",
    "DELIMITER ',' CSV HEADER;"
   ]
  },
  {
   "cell_type": "markdown",
   "metadata": {},
   "source": [
    "## DataFrame to SQL"
   ]
  },
  {
   "cell_type": "markdown",
   "metadata": {},
   "source": [
    "In this technique, we don't have to create the table beforehand. We first read the CSV into a DataFrame as we would if we were working with the data directly in Pandas. Then we call the to_sql method on the DataFrame to export to a SQL table directly. \n",
    "\n",
    "Pandas doesn't support PostgreSQL natively, it only supports SQL-Lite. Thus we use the create_engine function from SQLAlchemy, which takes care of translating the SQL-Lite that Pandas spits out into PostgreSQL."
   ]
  },
  {
   "cell_type": "code",
   "execution_count": 55,
   "metadata": {
    "collapsed": false
   },
   "outputs": [],
   "source": [
    "from sqlalchemy import create_engine\n",
    "import sql\n",
    "import pandas as pd\n",
    "con = create_engine('postgresql://basilbeirouti@localhost:5432')\n",
    "df = pd.read_csv('/Users/basilbeirouti/Github/DSI-ATX-1/curriculum/04-lessons/week-06.5/PostgreSQL/wine.csv')\n",
    "\n",
    "df.to_sql(name=\"newtable\", con=con, if_exists = 'replace', index=False)"
   ]
  },
  {
   "cell_type": "markdown",
   "metadata": {
    "collapsed": true
   },
   "source": [
    "## Running a .SQL Script"
   ]
  },
  {
   "cell_type": "markdown",
   "metadata": {},
   "source": [
    "You can write SQL code directly in a text editor of your choice, and save the file as a .sql file. Write all your SQL code for creating a new table and inserting values into it, and then simply run the file from the command line like this:"
   ]
  },
  {
   "cell_type": "markdown",
   "metadata": {},
   "source": [
    "psql -f [filename.sql]\n",
    "\n",
    "example:\n",
    "\n",
    "psql -f /Users/basilbeirouti/Github/DSI-ATX-1/curriculum/04-lessons/week-06.5/PostgreSQL/wine.csv \n",
    "\n",
    "    "
   ]
  },
  {
   "cell_type": "markdown",
   "metadata": {},
   "source": [
    "The syntax is basically saying call psql with the file located on that path. PostgreSQL will run that .sql file line by line."
   ]
  },
  {
   "cell_type": "code",
   "execution_count": null,
   "metadata": {
    "collapsed": true
   },
   "outputs": [],
   "source": []
  }
 ],
 "metadata": {
  "anaconda-cloud": {},
  "kernelspec": {
   "display_name": "Python [conda env:dsienv]",
   "language": "python",
   "name": "conda-env-dsienv-py"
  },
  "language_info": {
   "codemirror_mode": {
    "name": "ipython",
    "version": 2
   },
   "file_extension": ".py",
   "mimetype": "text/x-python",
   "name": "python",
   "nbconvert_exporter": "python",
   "pygments_lexer": "ipython2",
   "version": "2.7.12"
  }
 },
 "nbformat": 4,
 "nbformat_minor": 1
}
