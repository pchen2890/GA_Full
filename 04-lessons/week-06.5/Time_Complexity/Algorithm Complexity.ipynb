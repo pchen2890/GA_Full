{
 "cells": [
  {
   "cell_type": "code",
   "execution_count": 2,
   "metadata": {
    "collapsed": true
   },
   "outputs": [],
   "source": [
    "import numpy as np\n",
    "import pandas as pd\n",
    "import seaborn as sns\n",
    "import time\n",
    "%matplotlib inline"
   ]
  },
  {
   "cell_type": "code",
   "execution_count": 3,
   "metadata": {
    "collapsed": false
   },
   "outputs": [
    {
     "data": {
      "text/plain": [
       "[(1, 'a'), (2, 'b'), (3, 'c'), (4, 'd'), (5, 'e')]"
      ]
     },
     "execution_count": 3,
     "metadata": {},
     "output_type": "execute_result"
    }
   ],
   "source": [
    "zip([1,2,3,4,5], [\"a\", \"b\", \"c\", \"d\", \"e\"])"
   ]
  },
  {
   "cell_type": "code",
   "execution_count": 4,
   "metadata": {
    "collapsed": false,
    "scrolled": true
   },
   "outputs": [
    {
     "data": {
      "text/plain": [
       "[(1, 2, 3, 4, 5), ('a', 'b', 'c', 'd', 'e')]"
      ]
     },
     "execution_count": 4,
     "metadata": {},
     "output_type": "execute_result"
    }
   ],
   "source": [
    "zip(*[(1, 'a'), (2, 'b'), (3, 'c'), (4, 'd'), (5, 'e')])"
   ]
  },
  {
   "cell_type": "code",
   "execution_count": 9,
   "metadata": {
    "collapsed": true
   },
   "outputs": [],
   "source": [
    "def callnsize(nsize, func):\n",
    "    x, y = zip(*((n, func(n)) for n in nsize))\n",
    "    df = pd.DataFrame()\n",
    "    df[\"n\"] = x\n",
    "    df[\"time\"] = y\n",
    "    df.plot.scatter(x=\"n\", y=\"time\", xlim=(0, max(x)), ylim=(0, max(y)))\n",
    "    return df"
   ]
  },
  {
   "cell_type": "code",
   "execution_count": 42,
   "metadata": {
    "collapsed": false
   },
   "outputs": [],
   "source": [
    "# O(n)\n",
    "def insertdelete(n):\n",
    "    testarray = np.ones(n).tolist()\n",
    "    start = time.time()\n",
    "    for ii in range(300):\n",
    "        testarray.insert(n/2, 1)\n",
    "    t = (time.time()-start)/300\n",
    "    del testarray\n",
    "    return t\n",
    "\n",
    "# O(c)\n",
    "def appendarray(n):\n",
    "    testarray = np.ones(n).tolist()\n",
    "    start = time.time()\n",
    "    for ii in range(300):\n",
    "        testarray.append(1)\n",
    "    t = (time.time()-start)/300\n",
    "    del testarray\n",
    "    return t\n",
    "\n",
    "# O(c)\n",
    "def hashtableadd(n):\n",
    "    testdict = dict()\n",
    "    for key in range(n):\n",
    "        testdict[key] = None\n",
    "    start = time.time()\n",
    "    for ii in range(300):\n",
    "        testdict[\"anykey\"] = \"anyvalue\"\n",
    "        del testdict[\"anykey\"]\n",
    "    t = (time.time() - start)/300\n",
    "    del testdict\n",
    "    return t\n",
    "\n",
    "# O(c)\n",
    "def hashtableindex(n):\n",
    "    testdict = dict()\n",
    "    for key in range(n):\n",
    "        testdict[key] = 100\n",
    "    start = time.time()\n",
    "    for key in range(300):\n",
    "        val = testdict[key]\n",
    "    t = (time.time() - start)/300\n",
    "    del testdict\n",
    "    return t\n",
    "\n",
    "def nestedforloops(n):\n",
    "    mylist = np.random.rand(n).tolist()\n",
    "    start = time.time()\n",
    "    for ii in range(len(mylist)):\n",
    "        for jj in range(len(mylist)):\n",
    "            val = mylist[ii]\n",
    "    t = time.time() - start\n",
    "    del mylist\n",
    "    return t\n"
   ]
  },
  {
   "cell_type": "code",
   "execution_count": 36,
   "metadata": {
    "collapsed": false
   },
   "outputs": [],
   "source": [
    "size = [1000, 2000, 4000, 6000, 8000, \n",
    "          10000, 12000, 15000, 17000, 20000, 25000, 30000, 50000, 80000,\n",
    "         100000, 200000, 220000, 250000, 300000, 400000, 450000, 500000]\n",
    "\n",
    "size2 = [250, 500, 1000, 1500, 2000, 2500, 3000]"
   ]
  },
  {
   "cell_type": "code",
   "execution_count": 37,
   "metadata": {
    "collapsed": false
   },
   "outputs": [
    {
     "data": {
      "image/png": "[encoded data removed]",
      "text/plain": [
       "<matplotlib.figure.Figure at 0x10f4fd2d0>"
      ]
     },
     "metadata": {},
     "output_type": "display_data"
    }
   ],
   "source": [
    "#insert into to or delete from the middle of an array (linear with size of array)\n",
    "df = callnsize(size, insertdelete)"
   ]
  },
  {
   "cell_type": "code",
   "execution_count": 38,
   "metadata": {
    "collapsed": false
   },
   "outputs": [
    {
     "data": {
      "image/png": "[encoded data removed]",
      "text/plain": [
       "<matplotlib.figure.Figure at 0x1029fe950>"
      ]
     },
     "metadata": {},
     "output_type": "display_data"
    }
   ],
   "source": [
    "#append to end of array (constant with size of array)\n",
    "df2 = callnsize(size, appendarray)"
   ]
  },
  {
   "cell_type": "code",
   "execution_count": 39,
   "metadata": {
    "collapsed": false
   },
   "outputs": [
    {
     "data": {
      "image/png": "[encoded data removed]",
      "text/plain": [
       "<matplotlib.figure.Figure at 0x10eb756d0>"
      ]
     },
     "metadata": {},
     "output_type": "display_data"
    }
   ],
   "source": [
    "df3 = callnsize(size, hashtableadd)"
   ]
  },
  {
   "cell_type": "code",
   "execution_count": 40,
   "metadata": {
    "collapsed": false,
    "scrolled": true
   },
   "outputs": [
    {
     "data": {
      "image/png": "[encoded data removed]",
      "text/plain": [
       "<matplotlib.figure.Figure at 0x10ea28250>"
      ]
     },
     "metadata": {},
     "output_type": "display_data"
    }
   ],
   "source": [
    "df4 = callnsize(size, hashtableindex)"
   ]
  },
  {
   "cell_type": "code",
   "execution_count": 43,
   "metadata": {
    "collapsed": false
   },
   "outputs": [
    {
     "data": {
      "image/png": "[encoded data removed]",
      "text/plain": [
       "<matplotlib.figure.Figure at 0x10fad4650>"
      ]
     },
     "metadata": {},
     "output_type": "display_data"
    }
   ],
   "source": [
    "d5 = callnsize(size2, nestedforloops)"
   ]
  },
  {
   "cell_type": "code",
   "execution_count": 244,
   "metadata": {
    "collapsed": true
   },
   "outputs": [],
   "source": [
    "def commonsubstring(a, b):\n",
    "    subs = []\n",
    "    for ii in range(len(a)):\n",
    "        "
   ]
  },
  {
   "cell_type": "markdown",
   "metadata": {},
   "source": [
    "### 1a\n",
    "\n",
    "Write an algorithm called commonsubstring that finds the longest contiguous sequence of characters that two strings have in common. See below for example outputs."
   ]
  },
  {
   "cell_type": "code",
   "execution_count": 247,
   "metadata": {
    "collapsed": false
   },
   "outputs": [],
   "source": [
    "assert(commonsubstring(\"pineapple\", \"apple\") == \"apple\")\n",
    "assert(commonsubstring(\"banana\", \"carrot\") == \"a\")\n",
    "assert(commonsubstring(\"bob\", \"robert\") == \"ob\")\n",
    "assert(commonstring(\"jackson\", \"jack\") == \"jack\")"
   ]
  },
  {
   "cell_type": "markdown",
   "metadata": {},
   "source": [
    "### 1b\n",
    "what is the time complexity of your algorithm?"
   ]
  },
  {
   "cell_type": "markdown",
   "metadata": {},
   "source": [
    "### 2a"
   ]
  },
  {
   "cell_type": "markdown",
   "metadata": {},
   "source": [
    "Write an algorithm called regrouplist that an input of a list with duplicate elements in it and prints a list of lists, with each printed list containing no duplicates. Each element in the original list must be used exactly once."
   ]
  },
  {
   "cell_type": "code",
   "execution_count": 250,
   "metadata": {
    "collapsed": true
   },
   "outputs": [],
   "source": [
    "# regrouplist(['a', 'a', 'a', 'b', 'b', 'c'])\n",
    "# one valid output could be [['a', 'b', 'c'], ['a', 'b'], ['a']]"
   ]
  },
  {
   "cell_type": "markdown",
   "metadata": {},
   "source": [
    "### 2b"
   ]
  },
  {
   "cell_type": "markdown",
   "metadata": {},
   "source": [
    "What is the time complexity of your algorithm?"
   ]
  },
  {
   "cell_type": "code",
   "execution_count": null,
   "metadata": {
    "collapsed": true
   },
   "outputs": [],
   "source": []
  },
  {
   "cell_type": "markdown",
   "metadata": {},
   "source": [
    "### 3a"
   ]
  },
  {
   "cell_type": "markdown",
   "metadata": {},
   "source": [
    "You are given a list of integers sorted in ascending order. You are asked to check if a given integer k is contained in the list. Can you do better than checking every single element in the list?"
   ]
  },
  {
   "cell_type": "markdown",
   "metadata": {},
   "source": [
    "### 3b"
   ]
  },
  {
   "cell_type": "markdown",
   "metadata": {},
   "source": [
    "Give the fastest algorithm you can think of for doing so"
   ]
  },
  {
   "cell_type": "markdown",
   "metadata": {},
   "source": [
    "more advanced stuff here\n",
    "http://www.geeksforgeeks.org/top-10-algorithms-in-interview-questions/"
   ]
  },
  {
   "cell_type": "markdown",
   "metadata": {},
   "source": [
    "### 4a"
   ]
  },
  {
   "cell_type": "markdown",
   "metadata": {
    "collapsed": true
   },
   "source": [
    "Given a list of arbitrary size that contains only integers, write an algorithm that checks whether the list has any 3 numbers in it that sum to zero. The algorithm should return a list of lists, with each inner list containing the indices of the 3 integers which sum to zero. If there are no integers that sum to zero, the algorithm should return an empty list."
   ]
  },
  {
   "cell_type": "code",
   "execution_count": 32,
   "metadata": {
    "collapsed": true
   },
   "outputs": [],
   "source": [
    "# example input: [-1, 0, 1, 2, -1, -4]\n",
    "# example output: [[0, 1, 2], [3, 4, 0]]"
   ]
  },
  {
   "cell_type": "markdown",
   "metadata": {},
   "source": [
    "### 4b"
   ]
  },
  {
   "cell_type": "markdown",
   "metadata": {},
   "source": [
    "What is the time complexity of your algorithm? Can you do better than O(n^3)? (yes you can)"
   ]
  },
  {
   "cell_type": "code",
   "execution_count": null,
   "metadata": {
    "collapsed": true
   },
   "outputs": [],
   "source": []
  },
  {
   "cell_type": "markdown",
   "metadata": {},
   "source": [
    "### 5a"
   ]
  },
  {
   "cell_type": "markdown",
   "metadata": {},
   "source": [
    "A peak is an element of an array a, with index n, where a[n-1] <= a[n] >= a[n+1]. \n",
    "if the first element a[0]>=a[1] then a[0] is a peak. Same for last element. \n",
    "\n",
    "Write a function findpeak(a) that takes an array of any length, a, and returns the index of a peak. Don't need to return all, just one. Note there is always going to be a peak due to the way we've defined the problem. "
   ]
  },
  {
   "cell_type": "markdown",
   "metadata": {},
   "source": [
    "### 5b"
   ]
  },
  {
   "cell_type": "markdown",
   "metadata": {},
   "source": [
    "There is an algorithm that solves the problem above in O(log n). Try to find it. If you need a hint, look at 3a. "
   ]
  },
  {
   "cell_type": "code",
   "execution_count": null,
   "metadata": {
    "collapsed": true
   },
   "outputs": [],
   "source": []
  }
 ],
 "metadata": {
  "anaconda-cloud": {},
  "kernelspec": {
   "display_name": "Python [conda env:dsienv]",
   "language": "python",
   "name": "conda-env-dsienv-py"
  },
  "language_info": {
   "codemirror_mode": {
    "name": "ipython",
    "version": 2
   },
   "file_extension": ".py",
   "mimetype": "text/x-python",
   "name": "python",
   "nbconvert_exporter": "python",
   "pygments_lexer": "ipython2",
   "version": "2.7.12"
  }
 },
 "nbformat": 4,
 "nbformat_minor": 1
}
