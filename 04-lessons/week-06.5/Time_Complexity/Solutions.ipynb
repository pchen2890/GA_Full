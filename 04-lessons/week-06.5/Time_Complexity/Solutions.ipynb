{
 "cells": [
  {
   "cell_type": "code",
   "execution_count": 2,
   "metadata": {
    "collapsed": false
   },
   "outputs": [],
   "source": [
    "# O(n^2 * m ) where n and m are length of first and second string, respectively\n",
    "def commonsubstring(a, b):\n",
    "    best = \"\"\n",
    "    for ii in range(len(a)):\n",
    "        for jj in range(ii, len(a)):\n",
    "            substr = a[ii:jj+1]\n",
    "            if ((substr in b) and (len(substr)>len(best))):\n",
    "                best = substr\n",
    "    return best"
   ]
  },
  {
   "cell_type": "code",
   "execution_count": 7,
   "metadata": {
    "collapsed": true
   },
   "outputs": [],
   "source": [
    "# naive approach O(n^2)\n",
    "def regrouplist(listin):\n",
    "    if len(listin) == 0:\n",
    "        return\n",
    "    unique = list(set(listin))\n",
    "    print unique\n",
    "    for el in unique:\n",
    "        listin.remove(el)\n",
    "    regrouplist(listin)"
   ]
  },
  {
   "cell_type": "code",
   "execution_count": 8,
   "metadata": {
    "collapsed": false
   },
   "outputs": [
    {
     "name": "stdout",
     "output_type": "stream",
     "text": [
      "['a', 'c', 'b']\n",
      "['a', 'b']\n",
      "['a']\n"
     ]
    }
   ],
   "source": [
    "regrouplist(['a', 'a', 'a', 'b', 'b', 'c'])"
   ]
  },
  {
   "cell_type": "code",
   "execution_count": 13,
   "metadata": {
    "collapsed": true
   },
   "outputs": [],
   "source": [
    "# using a dictionary gets us O(n)\n",
    "def regrouplist2(listlike):\n",
    "    countdict = dict()\n",
    "    output = []\n",
    "    for el in listlike:\n",
    "        # keep a dictionary of each unique element and  \n",
    "        # number of occurences as you traverse the list\n",
    "        if el in countdict:\n",
    "            # increment if already seen\n",
    "            countdict[el] = countdict[el] + 1 \n",
    "        else:\n",
    "            # create key-value pair if first time\n",
    "            countdict[el] = 1 \n",
    "        \n",
    "        if countdict[el] == len(output) + 1: \n",
    "            output.append([el])\n",
    "        else:\n",
    "            output[countdict[el]-1].append(el)\n",
    "    print output"
   ]
  },
  {
   "cell_type": "code",
   "execution_count": 14,
   "metadata": {
    "collapsed": false
   },
   "outputs": [
    {
     "name": "stdout",
     "output_type": "stream",
     "text": [
      "[['a', 'b', 'c'], ['a', 'b'], ['a']]\n"
     ]
    }
   ],
   "source": [
    "regrouplist2(['a', 'a', 'a', 'b', 'b', 'c'])"
   ]
  },
  {
   "cell_type": "code",
   "execution_count": 37,
   "metadata": {
    "collapsed": true
   },
   "outputs": [],
   "source": [
    "# # 3-sum problem can be solved easily in O(n^2) using a hash table.\n",
    "# # This solution is more than O(n^2) because I was lazy\n",
    "\n",
    "# def threesum(listin):\n",
    "#     twosums = dict()\n",
    "#     output = []\n",
    "#     for ii in range(len(listin)):\n",
    "#         for jj in range(ii, len(listin)):\n",
    "#             twosums[(ii,jj)] = listin[ii] + listin[jj]\n",
    "    \n",
    "#     for key in twosums:\n",
    "#         if -twosums[key] in listin:\n",
    "#             kk = listin.index(-twosums[key])\n",
    "#             output.append(-twosums[key])\n",
    "        \n",
    "            \n",
    "    "
   ]
  },
  {
   "cell_type": "code",
   "execution_count": 38,
   "metadata": {
    "collapsed": false
   },
   "outputs": [
    {
     "data": {
      "text/plain": [
       "[[0, 3, 4], [1, 2, 4], [3, 5]]"
      ]
     },
     "execution_count": 38,
     "metadata": {},
     "output_type": "execute_result"
    }
   ],
   "source": [
    "threesum([-1, 0, 1, 2, -1, -4])"
   ]
  },
  {
   "cell_type": "code",
   "execution_count": 39,
   "metadata": {
    "collapsed": false
   },
   "outputs": [
    {
     "data": {
      "text/plain": [
       "[[0, 6, 7], [1, 4, 6], [0, 2, 3], [1, 3], [8, 5, 7]]"
      ]
     },
     "execution_count": 39,
     "metadata": {},
     "output_type": "execute_result"
    }
   ],
   "source": [
    "threesum([1,3,5,-6,-3,-9,0,-1,10])"
   ]
  },
  {
   "cell_type": "code",
   "execution_count": null,
   "metadata": {
    "collapsed": true
   },
   "outputs": [],
   "source": []
  },
  {
   "cell_type": "code",
   "execution_count": null,
   "metadata": {
    "collapsed": true
   },
   "outputs": [],
   "source": []
  }
 ],
 "metadata": {
  "anaconda-cloud": {},
  "kernelspec": {
   "display_name": "Python [conda env:dsienv]",
   "language": "python",
   "name": "conda-env-dsienv-py"
  },
  "language_info": {
   "codemirror_mode": {
    "name": "ipython",
    "version": 2
   },
   "file_extension": ".py",
   "mimetype": "text/x-python",
   "name": "python",
   "nbconvert_exporter": "python",
   "pygments_lexer": "ipython2",
   "version": "2.7.12"
  }
 },
 "nbformat": 4,
 "nbformat_minor": 1
}
